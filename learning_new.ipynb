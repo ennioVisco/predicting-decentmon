{
 "cells": [
  {
   "cell_type": "code",
   "execution_count": 1,
   "outputs": [],
   "source": [
    "import pandas as pd\n",
    "import numpy as np\n",
    "from decmon.learning import *"
   ],
   "metadata": {
    "collapsed": false
   }
  },
  {
   "cell_type": "markdown",
   "source": [
    "## Load pre-computed dataset"
   ],
   "metadata": {
    "collapsed": false
   }
  },
  {
   "cell_type": "code",
   "execution_count": 2,
   "outputs": [],
   "source": [
    "# # noinspection PyUnresolvedReferences\n",
    "# from ipynb.fs.full.preparation import expanded_df\n",
    "# cols_to_drop = ['formula', 'trace', 'strategy']\n",
    "# # We drop columns that are not numeric (and in our case, present in the dataset in other forms)\n",
    "# final_df = clean_df(expanded_df, cols_to_drop)"
   ],
   "metadata": {
    "collapsed": false
   }
  },
  {
   "cell_type": "code",
   "execution_count": 3,
   "outputs": [],
   "source": [
    "final_df = pd.read_csv('input/all_data.csv.zip')"
   ],
   "metadata": {
    "collapsed": false
   }
  },
  {
   "cell_type": "markdown",
   "source": [
    "## Classification"
   ],
   "metadata": {
    "collapsed": false
   }
  },
  {
   "cell_type": "code",
   "execution_count": 4,
   "outputs": [],
   "source": [
    "from sklearn.neighbors import KNeighborsClassifier\n",
    "from sklearn.metrics import f1_score"
   ],
   "metadata": {
    "collapsed": false
   }
  },
  {
   "cell_type": "code",
   "execution_count": 5,
   "outputs": [],
   "source": [
    "TARGET = 'strategy_id'\n",
    "N_CLASSES = 3 # orchestration, migration, choreography"
   ],
   "metadata": {
    "collapsed": false
   }
  },
  {
   "cell_type": "code",
   "execution_count": 6,
   "outputs": [],
   "source": [
    "y = final_df[TARGET].values"
   ],
   "metadata": {
    "collapsed": false
   }
  },
  {
   "cell_type": "code",
   "execution_count": 7,
   "outputs": [],
   "source": [
    "X = final_df.drop(TARGET, axis=1)"
   ],
   "metadata": {
    "collapsed": false
   }
  },
  {
   "cell_type": "code",
   "execution_count": 8,
   "outputs": [],
   "source": [
    "X = normalize(X)"
   ],
   "metadata": {
    "collapsed": false
   }
  },
  {
   "cell_type": "code",
   "execution_count": 9,
   "outputs": [],
   "source": [
    "X = np.float32(X)\n",
    "y = np.float32(y)"
   ],
   "metadata": {
    "collapsed": false
   }
  },
  {
   "cell_type": "code",
   "execution_count": 10,
   "outputs": [],
   "source": [
    "# Z['asd'].values"
   ],
   "metadata": {
    "collapsed": false
   }
  },
  {
   "cell_type": "code",
   "execution_count": 12,
   "outputs": [],
   "source": [
    "X_train, X_test, y_train, y_test = train_test_split(X, y, test_size=0.3, random_state=0)"
   ],
   "metadata": {
    "collapsed": false
   }
  },
  {
   "cell_type": "code",
   "execution_count": 13,
   "outputs": [],
   "source": [
    "# X_train, X_test, y_train, y_test = prepare_learning_sets(final_df, TARGET)"
   ],
   "metadata": {
    "collapsed": false
   }
  },
  {
   "cell_type": "markdown",
   "source": [
    "### K-Neighbours Classifier"
   ],
   "metadata": {
    "collapsed": false
   }
  },
  {
   "cell_type": "code",
   "execution_count": null,
   "outputs": [],
   "source": [
    "# K Neighbors Classifier\n",
    "kn_classifier = KNeighborsClassifier(n_neighbors=N_CLASSES, n_jobs=-1)\n",
    "kn_classifier.fit(X_train, y_train)\n",
    "\n",
    "mean_accuracy = kn_classifier.score(X_test, y_test)\n",
    "\n",
    "#y_pred = kn_classifier.predict(X_test)\n",
    "#y_pred\n",
    "mean_accuracy"
   ],
   "metadata": {
    "collapsed": false,
    "pycharm": {
     "is_executing": true
    }
   }
  },
  {
   "cell_type": "code",
   "execution_count": null,
   "outputs": [],
   "source": [
    "# f_X_train, f_X_test, f_y_train, f_y_test = prepare_learning_sets(final_df, TARGET)\n",
    "#\n",
    "# kn_classifier = KNeighborsClassifier(n_neighbors=N_CLASSES)\n",
    "# classifier = kn_classifier.fit(f_X_train, f_y_train)\n",
    "#\n",
    "# mean_accuracy = classifier.score(f_X_test, f_y_test)\n",
    "# mean_accuracy"
   ],
   "metadata": {
    "collapsed": false
   }
  },
  {
   "cell_type": "code",
   "execution_count": 17,
   "outputs": [
    {
     "data": {
      "text/plain": "array([0.90578683, 0.85553999, 0.95388763])"
     },
     "execution_count": 17,
     "metadata": {},
     "output_type": "execute_result"
    }
   ],
   "source": [
    "pred_y = kn_classifier.predict(X_test)\n",
    "f1_score(pred_y, y_test, average=None)"
   ],
   "metadata": {
    "collapsed": false
   }
  },
  {
   "cell_type": "code",
   "execution_count": 21,
   "outputs": [],
   "source": [
    "import mgzip\n",
    "import pickle\n",
    "\n",
    "filename = 'finalized_classifier.mgzip.sav'\n",
    "\n",
    "with mgzip.open(filename, 'wb') as f:\n",
    "    pickle.dump(kn_classifier, f)"
   ],
   "metadata": {
    "collapsed": false
   }
  },
  {
   "cell_type": "code",
   "execution_count": null,
   "outputs": [],
   "source": [
    "# with mgzip.open(filename, 'rb') as f:\n",
    "#     data = pickle.load(f)"
   ],
   "metadata": {
    "collapsed": false
   }
  },
  {
   "cell_type": "code",
   "execution_count": 25,
   "outputs": [],
   "source": [
    "def prepare_learning_sets2(df: DataFrame, target: str) \\\n",
    "        -> (DataFrame, DataFrame, DataFrame, DataFrame):\n",
    "    \"\"\"\n",
    "    Prepare training and testing sets for a given DataFrame and target column.\n",
    "    :param df: the dataframe to split\n",
    "    :param target: the target column\n",
    "    :return: the training and testing sets\n",
    "    \"\"\"\n",
    "    y = df[target].values\n",
    "    X = df.drop(target, axis=1)\n",
    "    X = normalize(X)\n",
    "    X = np.float32(X)\n",
    "    y = np.float32(y)\n",
    "    X_train, X_test, y_train, y_test = \\\n",
    "        train_test_split(X, y, test_size=0.3, random_state=0)\n",
    "    return X_train, X_test, y_train, y_test"
   ],
   "metadata": {
    "collapsed": false
   }
  },
  {
   "cell_type": "markdown",
   "source": [
    "## Regression"
   ],
   "metadata": {
    "collapsed": false
   }
  },
  {
   "cell_type": "code",
   "execution_count": 22,
   "outputs": [],
   "source": [
    "from sklearn.linear_model import LinearRegression"
   ],
   "metadata": {
    "collapsed": false
   }
  },
  {
   "cell_type": "code",
   "execution_count": 28,
   "outputs": [],
   "source": [
    "def store(filename, data):\n",
    "    with mgzip.open(filename, 'wb') as f:\n",
    "        pickle.dump(data, f)"
   ],
   "metadata": {
    "collapsed": false
   }
  },
  {
   "cell_type": "markdown",
   "source": [
    "### Linear Regression"
   ],
   "metadata": {
    "collapsed": false
   }
  },
  {
   "cell_type": "code",
   "execution_count": 26,
   "outputs": [],
   "source": [
    "f_X_train, f_X_test, f_y_train, f_y_test = prepare_learning_sets2(final_df, 'nb_progressions')"
   ],
   "metadata": {
    "collapsed": false
   }
  },
  {
   "cell_type": "code",
   "execution_count": 31,
   "outputs": [],
   "source": [
    "store('final/r_prog_X_train.mgzip.sav', f_X_train)\n",
    "store('final/r_prog_X_test.mgzip.sav', f_X_test)\n",
    "store('final/r_prog_y_train.mgzip.sav', f_y_train)\n",
    "store('final/r_prog_y_test.mgzip.sav', f_y_test)"
   ],
   "metadata": {
    "collapsed": false
   }
  },
  {
   "cell_type": "code",
   "execution_count": 32,
   "outputs": [
    {
     "data": {
      "text/plain": "0.07325800229670532"
     },
     "execution_count": 32,
     "metadata": {},
     "output_type": "execute_result"
    }
   ],
   "source": [
    "regression = LinearRegression(n_jobs=-1)\n",
    "\n",
    "model = regression.fit(f_X_train, f_y_train)\n",
    "model.score(f_X_test, f_y_test)"
   ],
   "metadata": {
    "collapsed": false
   }
  },
  {
   "cell_type": "code",
   "execution_count": null,
   "outputs": [],
   "source": [],
   "metadata": {
    "collapsed": false
   }
  },
  {
   "cell_type": "code",
   "execution_count": 33,
   "outputs": [
    {
     "data": {
      "text/plain": "<Figure size 800x550 with 1 Axes>",
      "image/png": "[encoded data removed]"
     },
     "metadata": {},
     "output_type": "display_data"
    },
    {
     "data": {
      "text/plain": "<AxesSubplot: title={'center': 'Prediction Error for LinearRegression'}, xlabel='$y$', ylabel='$\\\\hat{y}$'>"
     },
     "execution_count": 33,
     "metadata": {},
     "output_type": "execute_result"
    }
   ],
   "source": [
    "from yellowbrick.regressor import PredictionError\n",
    "\n",
    "visualizer = PredictionError(model)\n",
    "visualizer.fit(f_X_train, f_y_train)  # Fit the training data to the visualizer\n",
    "visualizer.score(f_X_test, f_y_test)  # Evaluate the model on the test data\n",
    "visualizer.show()                 # Finalize and render the figure\n",
    "\n",
    "\n",
    "# sns.regplot(x=\"total_bill\", y=\"tip\", data=tips);\n"
   ],
   "metadata": {
    "collapsed": false
   }
  },
  {
   "cell_type": "markdown",
   "source": [
    "### SVM"
   ],
   "metadata": {
    "collapsed": false
   }
  },
  {
   "cell_type": "code",
   "execution_count": 34,
   "outputs": [],
   "source": [
    "# from sklearn import svm\n",
    "# regr = svm.SVR()\n",
    "# regr.fit(f_X_train, f_y_train)\n",
    "# regr.score(f_X_test, f_y_test)"
   ],
   "metadata": {
    "collapsed": false
   }
  },
  {
   "cell_type": "markdown",
   "source": [
    "### Neural networks (MLPRegressor)"
   ],
   "metadata": {
    "collapsed": false
   }
  },
  {
   "cell_type": "code",
   "execution_count": null,
   "outputs": [],
   "source": [
    "from sklearn.neural_network import MLPRegressor\n",
    "regr = MLPRegressor(random_state=1, max_iter=1000)\n",
    "regr.fit(f_X_train, f_y_train)\n",
    "regr.score(f_X_test, f_y_test)"
   ],
   "metadata": {
    "collapsed": false,
    "pycharm": {
     "is_executing": true
    }
   }
  },
  {
   "cell_type": "code",
   "execution_count": null,
   "outputs": [],
   "source": [
    "from yellowbrick.regressor import PredictionError\n",
    "\n",
    "visualizer = PredictionError(regr)\n",
    "visualizer.fit(f_X_train, f_y_train)  # Fit the training data to the visualizer\n",
    "visualizer.score(f_X_test, f_y_test)  # Evaluate the model on the test data\n",
    "visualizer.show()                 # Finalize and render the figure\n"
   ],
   "metadata": {
    "collapsed": false
   }
  },
  {
   "cell_type": "code",
   "execution_count": null,
   "outputs": [],
   "source": [],
   "metadata": {
    "collapsed": false
   }
  }
 ],
 "metadata": {
  "kernelspec": {
   "display_name": "Python 3",
   "language": "python",
   "name": "python3"
  },
  "language_info": {
   "codemirror_mode": {
    "name": "ipython",
    "version": 2
   },
   "file_extension": ".py",
   "mimetype": "text/x-python",
   "name": "python",
   "nbconvert_exporter": "python",
   "pygments_lexer": "ipython2",
   "version": "2.7.6"
  }
 },
 "nbformat": 4,
 "nbformat_minor": 0
}
