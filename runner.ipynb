{
 "cells": [
  {
   "cell_type": "code",
   "execution_count": 1,
   "outputs": [],
   "source": [
    "from decmon.runner import *\n",
    "from decmon.constants import *\n",
    "\n",
    "from os import chdir"
   ],
   "metadata": {
    "collapsed": false
   }
  },
  {
   "cell_type": "code",
   "execution_count": 2,
   "outputs": [
    {
     "name": "stdout",
     "output_type": "stream",
     "text": [
      "Running: dune exec decent -- -prt_full true -keep_samples true -seed 3 -n 500000 -nb_samples 1000 -msf 50 -st 100 -dalpha {a|b|c} -abs true -exis false -bexis false -univ false -prec false -resp false -precc false -respc false -consc false -file ./../output/2022_11_16__17_25/0_output.log\n",
      "Running: dune exec decent -- -prt_full true -keep_samples true -seed 3 -n 500000 -nb_samples 1000 -msf 50 -st 100 -dalpha {a|b|c} -abs false -exis true -bexis false -univ false -prec false -resp false -precc false -respc false -consc false -file ./../output/2022_11_16__17_25/1_output.log\n",
      "Running: dune exec decent -- -prt_full true -keep_samples true -seed 3 -n 500000 -nb_samples 1000 -msf 50 -st 100 -dalpha {a|b|c} -abs false -exis false -bexis true -univ false -prec false -resp false -precc false -respc false -consc false -file ./../output/2022_11_16__17_25/2_output.log\n",
      "Running: dune exec decent -- -prt_full true -keep_samples true -seed 3 -n 500000 -nb_samples 1000 -msf 50 -st 100 -dalpha {a|b|c} -abs false -exis false -bexis false -univ true -prec false -resp false -precc false -respc false -consc false -file ./../output/2022_11_16__17_25/3_output.log\n",
      "Running: dune exec decent -- -prt_full true -keep_samples true -seed 3 -n 500000 -nb_samples 1000 -msf 50 -st 100 -dalpha {a|b|c} -abs false -exis false -bexis false -univ false -prec true -resp false -precc false -respc false -consc false -file ./../output/2022_11_16__17_25/4_output.log\n",
      "Running: dune exec decent -- -prt_full true -keep_samples true -seed 3 -n 500000 -nb_samples 1000 -msf 50 -st 100 -dalpha {a|b|c} -abs false -exis false -bexis false -univ false -prec false -resp true -precc false -respc false -consc false -file ./../output/2022_11_16__17_25/5_output.log\n",
      "Running: dune exec decent -- -prt_full true -keep_samples true -seed 3 -n 500000 -nb_samples 1000 -msf 50 -st 100 -dalpha {a|b|c} -abs false -exis false -bexis false -univ false -prec false -resp false -precc true -respc false -consc false -file ./../output/2022_11_16__17_25/6_output.log\n",
      "Running: dune exec decent -- -prt_full true -keep_samples true -seed 3 -n 500000 -nb_samples 1000 -msf 50 -st 100 -dalpha {a|b|c} -abs false -exis false -bexis false -univ false -prec false -resp false -precc false -respc true -consc false -file ./../output/2022_11_16__17_25/7_output.log\n",
      "Running: dune exec decent -- -prt_full true -keep_samples true -seed 3 -n 500000 -nb_samples 1000 -msf 50 -st 100 -dalpha {a|b|c} -abs false -exis false -bexis false -univ false -prec false -resp false -precc false -respc false -consc true -file ./../output/2022_11_16__17_25/8_output.log\n",
      "Printing outputs...\n"
     ]
    },
    {
     "ename": "KeyboardInterrupt",
     "evalue": "",
     "output_type": "error",
     "traceback": [
      "\u001B[0;31m---------------------------------------------------------------------------\u001B[0m",
      "\u001B[0;31mKeyboardInterrupt\u001B[0m                         Traceback (most recent call last)",
      "Cell \u001B[0;32mIn [2], line 10\u001B[0m\n\u001B[1;32m      8\u001B[0m         \u001B[38;5;28mprint\u001B[39m(\u001B[38;5;124m\"\u001B[39m\u001B[38;5;124mPrinting outputs...\u001B[39m\u001B[38;5;124m\"\u001B[39m)\n\u001B[1;32m      9\u001B[0m         \u001B[38;5;28;01mfor\u001B[39;00m p \u001B[38;5;129;01min\u001B[39;00m ps:\n\u001B[0;32m---> 10\u001B[0m             \u001B[43mprint_output\u001B[49m\u001B[43m(\u001B[49m\u001B[43mp\u001B[49m\u001B[43m)\u001B[49m\n\u001B[1;32m     11\u001B[0m \u001B[38;5;28;01mfinally\u001B[39;00m:\n\u001B[1;32m     12\u001B[0m     chdir(\u001B[38;5;124m'\u001B[39m\u001B[38;5;124m..\u001B[39m\u001B[38;5;124m'\u001B[39m)\n",
      "File \u001B[0;32m~/source/repos/distributed-monitor/decmon/runner.py:62\u001B[0m, in \u001B[0;36mprint_output\u001B[0;34m(process)\u001B[0m\n\u001B[1;32m     61\u001B[0m \u001B[38;5;28;01mdef\u001B[39;00m \u001B[38;5;21mprint_output\u001B[39m(process: Popen):\n\u001B[0;32m---> 62\u001B[0m     to_print \u001B[38;5;241m=\u001B[39m \u001B[43mprocess\u001B[49m\u001B[38;5;241;43m.\u001B[39;49m\u001B[43mcommunicate\u001B[49m\u001B[43m(\u001B[49m\u001B[43m)\u001B[49m[\u001B[38;5;241m0\u001B[39m]\u001B[38;5;241m.\u001B[39mdecode(\u001B[38;5;124m'\u001B[39m\u001B[38;5;124mutf-8\u001B[39m\u001B[38;5;124m'\u001B[39m)\n\u001B[1;32m     63\u001B[0m     \u001B[38;5;28mprint\u001B[39m(to_print, end\u001B[38;5;241m=\u001B[39m\u001B[38;5;124m'\u001B[39m\u001B[38;5;124m'\u001B[39m)\n\u001B[1;32m     64\u001B[0m     \u001B[38;5;28;01mreturn\u001B[39;00m to_print\n",
      "File \u001B[0;32m~/.pyenv/versions/3.10.6/lib/python3.10/subprocess.py:1139\u001B[0m, in \u001B[0;36mPopen.communicate\u001B[0;34m(self, input, timeout)\u001B[0m\n\u001B[1;32m   1137\u001B[0m     \u001B[38;5;28mself\u001B[39m\u001B[38;5;241m.\u001B[39m_stdin_write(\u001B[38;5;28minput\u001B[39m)\n\u001B[1;32m   1138\u001B[0m \u001B[38;5;28;01melif\u001B[39;00m \u001B[38;5;28mself\u001B[39m\u001B[38;5;241m.\u001B[39mstdout:\n\u001B[0;32m-> 1139\u001B[0m     stdout \u001B[38;5;241m=\u001B[39m \u001B[38;5;28;43mself\u001B[39;49m\u001B[38;5;241;43m.\u001B[39;49m\u001B[43mstdout\u001B[49m\u001B[38;5;241;43m.\u001B[39;49m\u001B[43mread\u001B[49m\u001B[43m(\u001B[49m\u001B[43m)\u001B[49m\n\u001B[1;32m   1140\u001B[0m     \u001B[38;5;28mself\u001B[39m\u001B[38;5;241m.\u001B[39mstdout\u001B[38;5;241m.\u001B[39mclose()\n\u001B[1;32m   1141\u001B[0m \u001B[38;5;28;01melif\u001B[39;00m \u001B[38;5;28mself\u001B[39m\u001B[38;5;241m.\u001B[39mstderr:\n",
      "\u001B[0;31mKeyboardInterrupt\u001B[0m: "
     ]
    }
   ],
   "source": [
    "pts = range(len(formula_patterns))\n",
    "\n",
    "chdir('decent')\n",
    "try:\n",
    "    ps = run_batch(f'../{OUTPUT_DIR}', pts)\n",
    "\n",
    "    while some_running(ps):\n",
    "        print(\"Printing outputs...\")\n",
    "        for p in ps:\n",
    "            print_output(p)\n",
    "finally:\n",
    "    chdir('..')"
   ],
   "metadata": {
    "collapsed": false
   }
  },
  {
   "cell_type": "code",
   "execution_count": null,
   "outputs": [],
   "source": [],
   "metadata": {
    "collapsed": false
   }
  }
 ],
 "metadata": {
  "kernelspec": {
   "display_name": "Python 3",
   "language": "python",
   "name": "python3"
  },
  "language_info": {
   "codemirror_mode": {
    "name": "ipython",
    "version": 2
   },
   "file_extension": ".py",
   "mimetype": "text/x-python",
   "name": "python",
   "nbconvert_exporter": "python",
   "pygments_lexer": "ipython2",
   "version": "2.7.6"
  }
 },
 "nbformat": 4,
 "nbformat_minor": 0
}
