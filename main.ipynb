{
 "cells": [
  {
   "cell_type": "markdown",
   "source": [
    "# Notes for decentmon data processing"
   ],
   "metadata": {
    "collapsed": false,
    "pycharm": {
     "name": "#%% md\n"
    }
   }
  },
  {
   "cell_type": "code",
   "execution_count": 33,
   "outputs": [
    {
     "name": "stdout",
     "output_type": "stream",
     "text": [
      "Requirement already satisfied: numpy in /Users/enniovisco/.pyenv/versions/3.9.11/lib/python3.9/site-packages (1.21.6)\r\n",
      "Requirement already satisfied: pandas in /Users/enniovisco/.pyenv/versions/3.9.11/lib/python3.9/site-packages (1.4.1)\r\n",
      "Requirement already satisfied: seaborn in /Users/enniovisco/.pyenv/versions/3.9.11/lib/python3.9/site-packages (0.11.2)\r\n",
      "Requirement already satisfied: matplotlib in /Users/enniovisco/.pyenv/versions/3.9.11/lib/python3.9/site-packages (3.5.1)\r\n",
      "Requirement already satisfied: sklearn in /Users/enniovisco/.pyenv/versions/3.9.11/lib/python3.9/site-packages (0.0)\r\n",
      "Requirement already satisfied: pytz>=2020.1 in /Users/enniovisco/.pyenv/versions/3.9.11/lib/python3.9/site-packages (from pandas) (2022.1)\r\n",
      "Requirement already satisfied: python-dateutil>=2.8.1 in /Users/enniovisco/.pyenv/versions/3.9.11/lib/python3.9/site-packages (from pandas) (2.8.2)\r\n",
      "Requirement already satisfied: scipy>=1.0 in /Users/enniovisco/.pyenv/versions/3.9.11/lib/python3.9/site-packages (from seaborn) (1.8.0)\r\n",
      "Requirement already satisfied: pyparsing>=2.2.1 in /Users/enniovisco/.pyenv/versions/3.9.11/lib/python3.9/site-packages (from matplotlib) (3.0.7)\r\n",
      "Requirement already satisfied: packaging>=20.0 in /Users/enniovisco/.pyenv/versions/3.9.11/lib/python3.9/site-packages (from matplotlib) (21.3)\r\n",
      "Requirement already satisfied: cycler>=0.10 in /Users/enniovisco/.pyenv/versions/3.9.11/lib/python3.9/site-packages (from matplotlib) (0.11.0)\r\n",
      "Requirement already satisfied: pillow>=6.2.0 in /Users/enniovisco/.pyenv/versions/3.9.11/lib/python3.9/site-packages (from matplotlib) (9.0.1)\r\n",
      "Requirement already satisfied: kiwisolver>=1.0.1 in /Users/enniovisco/.pyenv/versions/3.9.11/lib/python3.9/site-packages (from matplotlib) (1.4.2)\r\n",
      "Requirement already satisfied: fonttools>=4.22.0 in /Users/enniovisco/.pyenv/versions/3.9.11/lib/python3.9/site-packages (from matplotlib) (4.31.2)\r\n",
      "Requirement already satisfied: scikit-learn in /Users/enniovisco/.pyenv/versions/3.9.11/lib/python3.9/site-packages (from sklearn) (1.0.2)\r\n",
      "Requirement already satisfied: six>=1.5 in /Users/enniovisco/.pyenv/versions/3.9.11/lib/python3.9/site-packages (from python-dateutil>=2.8.1->pandas) (1.16.0)\r\n",
      "Requirement already satisfied: joblib>=0.11 in /Users/enniovisco/.pyenv/versions/3.9.11/lib/python3.9/site-packages (from scikit-learn->sklearn) (1.1.0)\r\n",
      "Requirement already satisfied: threadpoolctl>=2.0.0 in /Users/enniovisco/.pyenv/versions/3.9.11/lib/python3.9/site-packages (from scikit-learn->sklearn) (3.1.0)\r\n",
      "\u001B[33mWARNING: There was an error checking the latest version of pip.\u001B[0m\u001B[33m\r\n",
      "\u001B[0m"
     ]
    }
   ],
   "source": [
    "# adding required packages if not present\n",
    "!pip install numpy pandas seaborn matplotlib sklearn\n",
    "\n",
    "# importing them\n",
    "import numpy as np\n",
    "import pandas as pd\n",
    "import seaborn as sns\n",
    "import matplotlib as plt\n",
    "from sklearn.neighbors import KNeighborsClassifier\n",
    "from decmon.extractor import *\n",
    "from decmon.cleaner import *\n",
    "from decmon.filter import *"
   ],
   "metadata": {
    "collapsed": false,
    "pycharm": {
     "name": "#%%\n"
    }
   }
  },
  {
   "cell_type": "code",
   "execution_count": 34,
   "outputs": [],
   "source": [
    "# Constants\n",
    "FILENAME = \"sample_log.txt\""
   ],
   "metadata": {
    "collapsed": false,
    "pycharm": {
     "name": "#%%\n"
    }
   }
  },
  {
   "cell_type": "code",
   "execution_count": 35,
   "outputs": [],
   "source": [
    "# idempotent transformation of input file to csv\n",
    "# file = open(FILENAME, \"rt\")\n",
    "# raw_data = file.read()\n",
    "# raw_data = raw_data.replace(' ', ',') #add commas to read it as a csv\n",
    "# file.close()\n",
    "# file = open(FILENAME, \"wt\")\n",
    "# file.write(raw_data)\n",
    "# file.close()"
   ],
   "metadata": {
    "collapsed": false,
    "pycharm": {
     "name": "#%%\n"
    }
   }
  },
  {
   "cell_type": "code",
   "execution_count": 36,
   "outputs": [
    {
     "data": {
      "text/plain": "    formula_id  x  cent_trace_len  decent_trace_len  odecent_trace_len  \\\n0            0  1               2                 3                  2   \n1            1  1               2                 3                  2   \n2            2  1               2                 3                  2   \n3            3  1               6                 7                  6   \n4            4  1               2                 3                  2   \n5            5  1               2                 3                  2   \n6            6  1               4                 5                  4   \n7            7  1               2                 3                  2   \n8            8  1               4                 5                  4   \n9            9  1               2                 3                  2   \n10          10  2               5                 6                  5   \n11          11  2               7                 8                  7   \n12          12  2               6                 7                  6   \n13          13  2              11                14                 12   \n14          14  2               5                 6                  5   \n15          15  2               7                 8                  7   \n16          16  2               8                 9                  8   \n17          17  2               8                 9                  9   \n18          18  2              12                14                 13   \n19          19  2              11                12                 11   \n20          20  3               8                 9                  8   \n21          21  3               8                10                  9   \n22          22  3              13                15                 14   \n23          23  3              15                17                 16   \n24          24  3              12                14                 13   \n25          25  3               9                10                  9   \n26          26  3               9                11                 10   \n\n    cent_num_mess  decent_num_mess  odecent_num_mess  cent_size_mess  \\\n0               3                0                 0             1.0   \n1               3                2                 0             1.0   \n2               3                0                 0             1.0   \n3              15                2                 0             1.0   \n4               3                2                 0             1.0   \n5               3                0                 0             1.0   \n6               9                2                 0             1.0   \n7               3                0                 0             1.0   \n8               9                2                 0             1.0   \n9               3                0                 0             1.0   \n10             12                2                 0             1.0   \n11             18               13                 5             1.0   \n12             15                2                 0             1.0   \n13             30               25                22             1.0   \n14             12                2                 0             1.0   \n15             18                2                 0             1.0   \n16             21                2                 0             1.0   \n17             21                8                24             1.0   \n18             33               11                12             1.0   \n19             30                2                 0             1.0   \n20             21                2                 0             1.0   \n21             21                7                 8             1.0   \n22             36                6                13             1.0   \n23             42                9                15             1.0   \n24             33                9                11             1.0   \n25             24                2                 0             1.0   \n26             24                7                18             1.0   \n\n    decent_size_mess  odecent_size_mess  cent_nb_progressions  \\\n0               0.00               0.00                     3   \n1               1.66               0.00                     4   \n2               0.00               0.00                     3   \n3               0.55               0.00                    12   \n4               1.66               0.00                     4   \n5               0.00               0.00                     3   \n6               0.83               0.00                     8   \n7               0.00               0.00                     3   \n8               0.83               0.00                     8   \n9               0.00               0.00                     3   \n10              0.66               0.00                    11   \n11             12.28               1.66                   102   \n12              0.55               0.00                    12   \n13              8.89               4.84                   112   \n14              0.66               0.00                    10   \n15              0.47               0.00                    14   \n16              0.41               0.00                    16   \n17              9.29               6.75                    44   \n18              3.07               2.47                    60   \n19              1.63               0.00                    36   \n20              0.58               0.00                    24   \n21              4.62               2.25                    96   \n22              1.07               2.51                    66   \n23              2.33               2.57                   174   \n24              2.51               2.22                    96   \n25              0.37               0.00                    18   \n26              5.30               4.59                    79   \n\n    decent_nb_progressions  odecent_nb_progressions  \\\n0                        3                        3   \n1                        4                        4   \n2                        3                        3   \n3                       24                       12   \n4                        8                        4   \n5                        3                        3   \n6                       12                        8   \n7                        3                        3   \n8                       16                        8   \n9                        3                        3   \n10                      22                       11   \n11                     322                      114   \n12                      20                       12   \n13                     473                      159   \n14                      20                       10   \n15                      28                       14   \n16                      32                       16   \n17                     296                      128   \n18                     200                       74   \n19                      76                       36   \n20                      35                       24   \n21                     228                      106   \n22                     123                       81   \n23                     286                      191   \n24                     160                      123   \n25                      36                       18   \n26                     252                      100   \n\n                                              formula  \\\n0                                     Next (Var \"b\")    \n1                                       Ev (Var \"b\")    \n2                                     Next (Var \"a\")    \n3                                     Glob (Var \"b\")    \n4                                     Glob (Var \"c\")    \n5                                     Next (Var \"b\")    \n6                                       Ev (Var \"c\")    \n7                                     Next (Var \"a\")    \n8                                     Glob (Var \"b\")    \n9                                     Next (Var \"c\")    \n10                             Next (Glob (Var \"c\"))    \n11            Until (Glob (Var \"a\"), Glob (Var \"b\"))    \n12                                      Ev (Var \"c\")    \n13      Until (Ev (Var \"b\"), And (Var \"c\", Var \"a\"))    \n14                                    Glob (Var \"b\")    \n15                                    Glob (Var \"a\")    \n16                                    Glob (Var \"c\")    \n17   Until (And (Or (Neg (Var \"c\"), Var \"b\"), Or (...   \n18                   Glob (Until (Var \"a\", Var \"c\"))    \n19   And (Or (Ev (Neg (Var \"a\")), Ev (Var \"a\")), O...   \n20                                Ev (Neg (Var \"b\"))    \n21   Until (Until (Var \"c\", Var \"a\"), Glob (Var \"a...   \n22                Next (Ev (And (Var \"b\", Var \"c\")))    \n23                Ev (Next (And (Var \"a\", Var \"b\")))    \n24          Ev (And (Neg (Var \"a\"), Next (Var \"c\")))    \n25                                    Glob (Var \"b\")    \n26   And (Or (Ev (Neg (Until (Var \"a\", Var \"c\"))),...   \n\n                                                trace  \n0    {a|b| } ; { | | } ; {a| | } ; { | |c} ; { |b|...  \n1    { | |c} ; {a|b|c} ; {a| |c} ; {a|b|c} ; { |b|...  \n2    { |b|c} ; {a| | } ; {a| |c} ; { | | } ; {a|b|...  \n3    {a|b| } ; {a|b|c} ; { |b| } ; { |b|c} ; {a|b|...  \n4    {a| |c} ; { | | } ; { | | } ; {a| | } ; {a| |...  \n5    {a|b|c} ; { |b| } ; { |b| } ; {a| |c} ; { | |...  \n6    {a| | } ; { |b| } ; {a|b| } ; {a| |c} ; { | |...  \n7    {a|b|c} ; {a| |c} ; {a| | } ; {a|b|c} ; {a| |...  \n8    { |b| } ; { |b| } ; {a|b| } ; {a| |c} ; { |b|...  \n9    {a|b| } ; {a| |c} ; {a|b|c} ; {a|b| } ; {a|b|...  \n10   { | | } ; {a| |c} ; {a|b|c} ; { | |c} ; {a|b|...  \n11   {a|b|c} ; {a| | } ; {a|b| } ; {a|b| } ; {a| |...  \n12   { |b| } ; {a| | } ; { |b| } ; { | | } ; {a|b|...  \n13   { |b|c} ; { | | } ; { | |c} ; { | | } ; { |b|...  \n14   { |b|c} ; { |b|c} ; { |b| } ; {a|b| } ; {a| |...  \n15   {a|b|c} ; {a|b|c} ; {a| |c} ; {a|b| } ; {a|b|...  \n16   { |b|c} ; { |b|c} ; {a| |c} ; { | |c} ; {a|b|...  \n17   { | | } ; {a| |c} ; {a| |c} ; {a|b|c} ; {a| |...  \n18   {a| |c} ; {a| | } ; {a| |c} ; { | |c} ; {a|b|...  \n19   {a|b|c} ; {a| |c} ; {a| |c} ; {a| | } ; {a|b|...  \n20   {a|b|c} ; { |b| } ; {a|b| } ; {a|b| } ; { |b|...  \n21   {a| | } ; {a|b|c} ; {a| | } ; { | |c} ; {a| |...  \n22   { | | } ; { | | } ; {a| | } ; {a| |c} ; { | |...  \n23   { | |c} ; {a| | } ; { |b|c} ; { |b|c} ; { | |...  \n24   {a| |c} ; { | | } ; {a| | } ; { | | } ; {a|b|...  \n25   {a|b| } ; { |b| } ; { |b| } ; {a|b|c} ; {a|b|...  \n26   {a| | } ; { |b|c} ; {a|b|c} ; {a|b|c} ; {a| |...  ",
      "text/html": "<div>\n<style scoped>\n    .dataframe tbody tr th:only-of-type {\n        vertical-align: middle;\n    }\n\n    .dataframe tbody tr th {\n        vertical-align: top;\n    }\n\n    .dataframe thead th {\n        text-align: right;\n    }\n</style>\n<table border=\"1\" class=\"dataframe\">\n  <thead>\n    <tr style=\"text-align: right;\">\n      <th></th>\n      <th>formula_id</th>\n      <th>x</th>\n      <th>cent_trace_len</th>\n      <th>decent_trace_len</th>\n      <th>odecent_trace_len</th>\n      <th>cent_num_mess</th>\n      <th>decent_num_mess</th>\n      <th>odecent_num_mess</th>\n      <th>cent_size_mess</th>\n      <th>decent_size_mess</th>\n      <th>odecent_size_mess</th>\n      <th>cent_nb_progressions</th>\n      <th>decent_nb_progressions</th>\n      <th>odecent_nb_progressions</th>\n      <th>formula</th>\n      <th>trace</th>\n    </tr>\n  </thead>\n  <tbody>\n    <tr>\n      <th>0</th>\n      <td>0</td>\n      <td>1</td>\n      <td>2</td>\n      <td>3</td>\n      <td>2</td>\n      <td>3</td>\n      <td>0</td>\n      <td>0</td>\n      <td>1.0</td>\n      <td>0.00</td>\n      <td>0.00</td>\n      <td>3</td>\n      <td>3</td>\n      <td>3</td>\n      <td>Next (Var \"b\")</td>\n      <td>{a|b| } ; { | | } ; {a| | } ; { | |c} ; { |b|...</td>\n    </tr>\n    <tr>\n      <th>1</th>\n      <td>1</td>\n      <td>1</td>\n      <td>2</td>\n      <td>3</td>\n      <td>2</td>\n      <td>3</td>\n      <td>2</td>\n      <td>0</td>\n      <td>1.0</td>\n      <td>1.66</td>\n      <td>0.00</td>\n      <td>4</td>\n      <td>4</td>\n      <td>4</td>\n      <td>Ev (Var \"b\")</td>\n      <td>{ | |c} ; {a|b|c} ; {a| |c} ; {a|b|c} ; { |b|...</td>\n    </tr>\n    <tr>\n      <th>2</th>\n      <td>2</td>\n      <td>1</td>\n      <td>2</td>\n      <td>3</td>\n      <td>2</td>\n      <td>3</td>\n      <td>0</td>\n      <td>0</td>\n      <td>1.0</td>\n      <td>0.00</td>\n      <td>0.00</td>\n      <td>3</td>\n      <td>3</td>\n      <td>3</td>\n      <td>Next (Var \"a\")</td>\n      <td>{ |b|c} ; {a| | } ; {a| |c} ; { | | } ; {a|b|...</td>\n    </tr>\n    <tr>\n      <th>3</th>\n      <td>3</td>\n      <td>1</td>\n      <td>6</td>\n      <td>7</td>\n      <td>6</td>\n      <td>15</td>\n      <td>2</td>\n      <td>0</td>\n      <td>1.0</td>\n      <td>0.55</td>\n      <td>0.00</td>\n      <td>12</td>\n      <td>24</td>\n      <td>12</td>\n      <td>Glob (Var \"b\")</td>\n      <td>{a|b| } ; {a|b|c} ; { |b| } ; { |b|c} ; {a|b|...</td>\n    </tr>\n    <tr>\n      <th>4</th>\n      <td>4</td>\n      <td>1</td>\n      <td>2</td>\n      <td>3</td>\n      <td>2</td>\n      <td>3</td>\n      <td>2</td>\n      <td>0</td>\n      <td>1.0</td>\n      <td>1.66</td>\n      <td>0.00</td>\n      <td>4</td>\n      <td>8</td>\n      <td>4</td>\n      <td>Glob (Var \"c\")</td>\n      <td>{a| |c} ; { | | } ; { | | } ; {a| | } ; {a| |...</td>\n    </tr>\n    <tr>\n      <th>5</th>\n      <td>5</td>\n      <td>1</td>\n      <td>2</td>\n      <td>3</td>\n      <td>2</td>\n      <td>3</td>\n      <td>0</td>\n      <td>0</td>\n      <td>1.0</td>\n      <td>0.00</td>\n      <td>0.00</td>\n      <td>3</td>\n      <td>3</td>\n      <td>3</td>\n      <td>Next (Var \"b\")</td>\n      <td>{a|b|c} ; { |b| } ; { |b| } ; {a| |c} ; { | |...</td>\n    </tr>\n    <tr>\n      <th>6</th>\n      <td>6</td>\n      <td>1</td>\n      <td>4</td>\n      <td>5</td>\n      <td>4</td>\n      <td>9</td>\n      <td>2</td>\n      <td>0</td>\n      <td>1.0</td>\n      <td>0.83</td>\n      <td>0.00</td>\n      <td>8</td>\n      <td>12</td>\n      <td>8</td>\n      <td>Ev (Var \"c\")</td>\n      <td>{a| | } ; { |b| } ; {a|b| } ; {a| |c} ; { | |...</td>\n    </tr>\n    <tr>\n      <th>7</th>\n      <td>7</td>\n      <td>1</td>\n      <td>2</td>\n      <td>3</td>\n      <td>2</td>\n      <td>3</td>\n      <td>0</td>\n      <td>0</td>\n      <td>1.0</td>\n      <td>0.00</td>\n      <td>0.00</td>\n      <td>3</td>\n      <td>3</td>\n      <td>3</td>\n      <td>Next (Var \"a\")</td>\n      <td>{a|b|c} ; {a| |c} ; {a| | } ; {a|b|c} ; {a| |...</td>\n    </tr>\n    <tr>\n      <th>8</th>\n      <td>8</td>\n      <td>1</td>\n      <td>4</td>\n      <td>5</td>\n      <td>4</td>\n      <td>9</td>\n      <td>2</td>\n      <td>0</td>\n      <td>1.0</td>\n      <td>0.83</td>\n      <td>0.00</td>\n      <td>8</td>\n      <td>16</td>\n      <td>8</td>\n      <td>Glob (Var \"b\")</td>\n      <td>{ |b| } ; { |b| } ; {a|b| } ; {a| |c} ; { |b|...</td>\n    </tr>\n    <tr>\n      <th>9</th>\n      <td>9</td>\n      <td>1</td>\n      <td>2</td>\n      <td>3</td>\n      <td>2</td>\n      <td>3</td>\n      <td>0</td>\n      <td>0</td>\n      <td>1.0</td>\n      <td>0.00</td>\n      <td>0.00</td>\n      <td>3</td>\n      <td>3</td>\n      <td>3</td>\n      <td>Next (Var \"c\")</td>\n      <td>{a|b| } ; {a| |c} ; {a|b|c} ; {a|b| } ; {a|b|...</td>\n    </tr>\n    <tr>\n      <th>10</th>\n      <td>10</td>\n      <td>2</td>\n      <td>5</td>\n      <td>6</td>\n      <td>5</td>\n      <td>12</td>\n      <td>2</td>\n      <td>0</td>\n      <td>1.0</td>\n      <td>0.66</td>\n      <td>0.00</td>\n      <td>11</td>\n      <td>22</td>\n      <td>11</td>\n      <td>Next (Glob (Var \"c\"))</td>\n      <td>{ | | } ; {a| |c} ; {a|b|c} ; { | |c} ; {a|b|...</td>\n    </tr>\n    <tr>\n      <th>11</th>\n      <td>11</td>\n      <td>2</td>\n      <td>7</td>\n      <td>8</td>\n      <td>7</td>\n      <td>18</td>\n      <td>13</td>\n      <td>5</td>\n      <td>1.0</td>\n      <td>12.28</td>\n      <td>1.66</td>\n      <td>102</td>\n      <td>322</td>\n      <td>114</td>\n      <td>Until (Glob (Var \"a\"), Glob (Var \"b\"))</td>\n      <td>{a|b|c} ; {a| | } ; {a|b| } ; {a|b| } ; {a| |...</td>\n    </tr>\n    <tr>\n      <th>12</th>\n      <td>12</td>\n      <td>2</td>\n      <td>6</td>\n      <td>7</td>\n      <td>6</td>\n      <td>15</td>\n      <td>2</td>\n      <td>0</td>\n      <td>1.0</td>\n      <td>0.55</td>\n      <td>0.00</td>\n      <td>12</td>\n      <td>20</td>\n      <td>12</td>\n      <td>Ev (Var \"c\")</td>\n      <td>{ |b| } ; {a| | } ; { |b| } ; { | | } ; {a|b|...</td>\n    </tr>\n    <tr>\n      <th>13</th>\n      <td>13</td>\n      <td>2</td>\n      <td>11</td>\n      <td>14</td>\n      <td>12</td>\n      <td>30</td>\n      <td>25</td>\n      <td>22</td>\n      <td>1.0</td>\n      <td>8.89</td>\n      <td>4.84</td>\n      <td>112</td>\n      <td>473</td>\n      <td>159</td>\n      <td>Until (Ev (Var \"b\"), And (Var \"c\", Var \"a\"))</td>\n      <td>{ |b|c} ; { | | } ; { | |c} ; { | | } ; { |b|...</td>\n    </tr>\n    <tr>\n      <th>14</th>\n      <td>14</td>\n      <td>2</td>\n      <td>5</td>\n      <td>6</td>\n      <td>5</td>\n      <td>12</td>\n      <td>2</td>\n      <td>0</td>\n      <td>1.0</td>\n      <td>0.66</td>\n      <td>0.00</td>\n      <td>10</td>\n      <td>20</td>\n      <td>10</td>\n      <td>Glob (Var \"b\")</td>\n      <td>{ |b|c} ; { |b|c} ; { |b| } ; {a|b| } ; {a| |...</td>\n    </tr>\n    <tr>\n      <th>15</th>\n      <td>15</td>\n      <td>2</td>\n      <td>7</td>\n      <td>8</td>\n      <td>7</td>\n      <td>18</td>\n      <td>2</td>\n      <td>0</td>\n      <td>1.0</td>\n      <td>0.47</td>\n      <td>0.00</td>\n      <td>14</td>\n      <td>28</td>\n      <td>14</td>\n      <td>Glob (Var \"a\")</td>\n      <td>{a|b|c} ; {a|b|c} ; {a| |c} ; {a|b| } ; {a|b|...</td>\n    </tr>\n    <tr>\n      <th>16</th>\n      <td>16</td>\n      <td>2</td>\n      <td>8</td>\n      <td>9</td>\n      <td>8</td>\n      <td>21</td>\n      <td>2</td>\n      <td>0</td>\n      <td>1.0</td>\n      <td>0.41</td>\n      <td>0.00</td>\n      <td>16</td>\n      <td>32</td>\n      <td>16</td>\n      <td>Glob (Var \"c\")</td>\n      <td>{ |b|c} ; { |b|c} ; {a| |c} ; { | |c} ; {a|b|...</td>\n    </tr>\n    <tr>\n      <th>17</th>\n      <td>17</td>\n      <td>2</td>\n      <td>8</td>\n      <td>9</td>\n      <td>9</td>\n      <td>21</td>\n      <td>8</td>\n      <td>24</td>\n      <td>1.0</td>\n      <td>9.29</td>\n      <td>6.75</td>\n      <td>44</td>\n      <td>296</td>\n      <td>128</td>\n      <td>Until (And (Or (Neg (Var \"c\"), Var \"b\"), Or (...</td>\n      <td>{ | | } ; {a| |c} ; {a| |c} ; {a|b|c} ; {a| |...</td>\n    </tr>\n    <tr>\n      <th>18</th>\n      <td>18</td>\n      <td>2</td>\n      <td>12</td>\n      <td>14</td>\n      <td>13</td>\n      <td>33</td>\n      <td>11</td>\n      <td>12</td>\n      <td>1.0</td>\n      <td>3.07</td>\n      <td>2.47</td>\n      <td>60</td>\n      <td>200</td>\n      <td>74</td>\n      <td>Glob (Until (Var \"a\", Var \"c\"))</td>\n      <td>{a| |c} ; {a| | } ; {a| |c} ; { | |c} ; {a|b|...</td>\n    </tr>\n    <tr>\n      <th>19</th>\n      <td>19</td>\n      <td>2</td>\n      <td>11</td>\n      <td>12</td>\n      <td>11</td>\n      <td>30</td>\n      <td>2</td>\n      <td>0</td>\n      <td>1.0</td>\n      <td>1.63</td>\n      <td>0.00</td>\n      <td>36</td>\n      <td>76</td>\n      <td>36</td>\n      <td>And (Or (Ev (Neg (Var \"a\")), Ev (Var \"a\")), O...</td>\n      <td>{a|b|c} ; {a| |c} ; {a| |c} ; {a| | } ; {a|b|...</td>\n    </tr>\n    <tr>\n      <th>20</th>\n      <td>20</td>\n      <td>3</td>\n      <td>8</td>\n      <td>9</td>\n      <td>8</td>\n      <td>21</td>\n      <td>2</td>\n      <td>0</td>\n      <td>1.0</td>\n      <td>0.58</td>\n      <td>0.00</td>\n      <td>24</td>\n      <td>35</td>\n      <td>24</td>\n      <td>Ev (Neg (Var \"b\"))</td>\n      <td>{a|b|c} ; { |b| } ; {a|b| } ; {a|b| } ; { |b|...</td>\n    </tr>\n    <tr>\n      <th>21</th>\n      <td>21</td>\n      <td>3</td>\n      <td>8</td>\n      <td>10</td>\n      <td>9</td>\n      <td>21</td>\n      <td>7</td>\n      <td>8</td>\n      <td>1.0</td>\n      <td>4.62</td>\n      <td>2.25</td>\n      <td>96</td>\n      <td>228</td>\n      <td>106</td>\n      <td>Until (Until (Var \"c\", Var \"a\"), Glob (Var \"a...</td>\n      <td>{a| | } ; {a|b|c} ; {a| | } ; { | |c} ; {a| |...</td>\n    </tr>\n    <tr>\n      <th>22</th>\n      <td>22</td>\n      <td>3</td>\n      <td>13</td>\n      <td>15</td>\n      <td>14</td>\n      <td>36</td>\n      <td>6</td>\n      <td>13</td>\n      <td>1.0</td>\n      <td>1.07</td>\n      <td>2.51</td>\n      <td>66</td>\n      <td>123</td>\n      <td>81</td>\n      <td>Next (Ev (And (Var \"b\", Var \"c\")))</td>\n      <td>{ | | } ; { | | } ; {a| | } ; {a| |c} ; { | |...</td>\n    </tr>\n    <tr>\n      <th>23</th>\n      <td>23</td>\n      <td>3</td>\n      <td>15</td>\n      <td>17</td>\n      <td>16</td>\n      <td>42</td>\n      <td>9</td>\n      <td>15</td>\n      <td>1.0</td>\n      <td>2.33</td>\n      <td>2.57</td>\n      <td>174</td>\n      <td>286</td>\n      <td>191</td>\n      <td>Ev (Next (And (Var \"a\", Var \"b\")))</td>\n      <td>{ | |c} ; {a| | } ; { |b|c} ; { |b|c} ; { | |...</td>\n    </tr>\n    <tr>\n      <th>24</th>\n      <td>24</td>\n      <td>3</td>\n      <td>12</td>\n      <td>14</td>\n      <td>13</td>\n      <td>33</td>\n      <td>9</td>\n      <td>11</td>\n      <td>1.0</td>\n      <td>2.51</td>\n      <td>2.22</td>\n      <td>96</td>\n      <td>160</td>\n      <td>123</td>\n      <td>Ev (And (Neg (Var \"a\"), Next (Var \"c\")))</td>\n      <td>{a| |c} ; { | | } ; {a| | } ; { | | } ; {a|b|...</td>\n    </tr>\n    <tr>\n      <th>25</th>\n      <td>25</td>\n      <td>3</td>\n      <td>9</td>\n      <td>10</td>\n      <td>9</td>\n      <td>24</td>\n      <td>2</td>\n      <td>0</td>\n      <td>1.0</td>\n      <td>0.37</td>\n      <td>0.00</td>\n      <td>18</td>\n      <td>36</td>\n      <td>18</td>\n      <td>Glob (Var \"b\")</td>\n      <td>{a|b| } ; { |b| } ; { |b| } ; {a|b|c} ; {a|b|...</td>\n    </tr>\n    <tr>\n      <th>26</th>\n      <td>26</td>\n      <td>3</td>\n      <td>9</td>\n      <td>11</td>\n      <td>10</td>\n      <td>24</td>\n      <td>7</td>\n      <td>18</td>\n      <td>1.0</td>\n      <td>5.30</td>\n      <td>4.59</td>\n      <td>79</td>\n      <td>252</td>\n      <td>100</td>\n      <td>And (Or (Ev (Neg (Until (Var \"a\", Var \"c\"))),...</td>\n      <td>{a| | } ; { |b|c} ; {a|b|c} ; {a|b|c} ; {a| |...</td>\n    </tr>\n  </tbody>\n</table>\n</div>"
     },
     "execution_count": 36,
     "metadata": {},
     "output_type": "execute_result"
    }
   ],
   "source": [
    "df = pd.read_csv(FILENAME, sep='@')\n",
    "df.insert(0, 'formula_id', range(0, len(df)))\n",
    "df.columns = df.columns.str.strip()\n",
    "df"
   ],
   "metadata": {
    "collapsed": false,
    "pycharm": {
     "name": "#%%\n"
    }
   }
  },
  {
   "cell_type": "code",
   "execution_count": 37,
   "outputs": [],
   "source": [
    "strategies = {\n",
    "    \"cent\" : \"orchestration\",\n",
    "    \"decent\" : \"migration\",\n",
    "    \"odecent\" : \"choreography\"\n",
    "}"
   ],
   "metadata": {
    "collapsed": false,
    "pycharm": {
     "name": "#%%\n"
    }
   }
  },
  {
   "cell_type": "code",
   "execution_count": 38,
   "outputs": [
    {
     "data": {
      "text/plain": "    formula_id  x  trace_len  num_mess  size_mess  nb_progressions  \\\n0            0  1          2         3        1.0                3   \n1            1  1          2         3        1.0                4   \n2            2  1          2         3        1.0                3   \n3            3  1          6        15        1.0               12   \n4            4  1          2         3        1.0                4   \n5            5  1          2         3        1.0                3   \n6            6  1          4         9        1.0                8   \n7            7  1          2         3        1.0                3   \n8            8  1          4         9        1.0                8   \n9            9  1          2         3        1.0                3   \n10          10  2          5        12        1.0               11   \n11          11  2          7        18        1.0              102   \n12          12  2          6        15        1.0               12   \n13          13  2         11        30        1.0              112   \n14          14  2          5        12        1.0               10   \n15          15  2          7        18        1.0               14   \n16          16  2          8        21        1.0               16   \n17          17  2          8        21        1.0               44   \n18          18  2         12        33        1.0               60   \n19          19  2         11        30        1.0               36   \n20          20  3          8        21        1.0               24   \n21          21  3          8        21        1.0               96   \n22          22  3         13        36        1.0               66   \n23          23  3         15        42        1.0              174   \n24          24  3         12        33        1.0               96   \n25          25  3          9        24        1.0               18   \n26          26  3          9        24        1.0               79   \n\n                                              formula  \\\n0                                     Next (Var \"b\")    \n1                                       Ev (Var \"b\")    \n2                                     Next (Var \"a\")    \n3                                     Glob (Var \"b\")    \n4                                     Glob (Var \"c\")    \n5                                     Next (Var \"b\")    \n6                                       Ev (Var \"c\")    \n7                                     Next (Var \"a\")    \n8                                     Glob (Var \"b\")    \n9                                     Next (Var \"c\")    \n10                             Next (Glob (Var \"c\"))    \n11            Until (Glob (Var \"a\"), Glob (Var \"b\"))    \n12                                      Ev (Var \"c\")    \n13      Until (Ev (Var \"b\"), And (Var \"c\", Var \"a\"))    \n14                                    Glob (Var \"b\")    \n15                                    Glob (Var \"a\")    \n16                                    Glob (Var \"c\")    \n17   Until (And (Or (Neg (Var \"c\"), Var \"b\"), Or (...   \n18                   Glob (Until (Var \"a\", Var \"c\"))    \n19   And (Or (Ev (Neg (Var \"a\")), Ev (Var \"a\")), O...   \n20                                Ev (Neg (Var \"b\"))    \n21   Until (Until (Var \"c\", Var \"a\"), Glob (Var \"a...   \n22                Next (Ev (And (Var \"b\", Var \"c\")))    \n23                Ev (Next (And (Var \"a\", Var \"b\")))    \n24          Ev (And (Neg (Var \"a\"), Next (Var \"c\")))    \n25                                    Glob (Var \"b\")    \n26   And (Or (Ev (Neg (Until (Var \"a\", Var \"c\"))),...   \n\n                                                trace       strategy  \n0    {a|b| } ; { | | } ; {a| | } ; { | |c} ; { |b|...  orchestration  \n1    { | |c} ; {a|b|c} ; {a| |c} ; {a|b|c} ; { |b|...  orchestration  \n2    { |b|c} ; {a| | } ; {a| |c} ; { | | } ; {a|b|...  orchestration  \n3    {a|b| } ; {a|b|c} ; { |b| } ; { |b|c} ; {a|b|...  orchestration  \n4    {a| |c} ; { | | } ; { | | } ; {a| | } ; {a| |...  orchestration  \n5    {a|b|c} ; { |b| } ; { |b| } ; {a| |c} ; { | |...  orchestration  \n6    {a| | } ; { |b| } ; {a|b| } ; {a| |c} ; { | |...  orchestration  \n7    {a|b|c} ; {a| |c} ; {a| | } ; {a|b|c} ; {a| |...  orchestration  \n8    { |b| } ; { |b| } ; {a|b| } ; {a| |c} ; { |b|...  orchestration  \n9    {a|b| } ; {a| |c} ; {a|b|c} ; {a|b| } ; {a|b|...  orchestration  \n10   { | | } ; {a| |c} ; {a|b|c} ; { | |c} ; {a|b|...  orchestration  \n11   {a|b|c} ; {a| | } ; {a|b| } ; {a|b| } ; {a| |...  orchestration  \n12   { |b| } ; {a| | } ; { |b| } ; { | | } ; {a|b|...  orchestration  \n13   { |b|c} ; { | | } ; { | |c} ; { | | } ; { |b|...  orchestration  \n14   { |b|c} ; { |b|c} ; { |b| } ; {a|b| } ; {a| |...  orchestration  \n15   {a|b|c} ; {a|b|c} ; {a| |c} ; {a|b| } ; {a|b|...  orchestration  \n16   { |b|c} ; { |b|c} ; {a| |c} ; { | |c} ; {a|b|...  orchestration  \n17   { | | } ; {a| |c} ; {a| |c} ; {a|b|c} ; {a| |...  orchestration  \n18   {a| |c} ; {a| | } ; {a| |c} ; { | |c} ; {a|b|...  orchestration  \n19   {a|b|c} ; {a| |c} ; {a| |c} ; {a| | } ; {a|b|...  orchestration  \n20   {a|b|c} ; { |b| } ; {a|b| } ; {a|b| } ; { |b|...  orchestration  \n21   {a| | } ; {a|b|c} ; {a| | } ; { | |c} ; {a| |...  orchestration  \n22   { | | } ; { | | } ; {a| | } ; {a| |c} ; { | |...  orchestration  \n23   { | |c} ; {a| | } ; { |b|c} ; { |b|c} ; { | |...  orchestration  \n24   {a| |c} ; { | | } ; {a| | } ; { | | } ; {a|b|...  orchestration  \n25   {a|b| } ; { |b| } ; { |b| } ; {a|b|c} ; {a|b|...  orchestration  \n26   {a| | } ; { |b|c} ; {a|b|c} ; {a|b|c} ; {a| |...  orchestration  ",
      "text/html": "<div>\n<style scoped>\n    .dataframe tbody tr th:only-of-type {\n        vertical-align: middle;\n    }\n\n    .dataframe tbody tr th {\n        vertical-align: top;\n    }\n\n    .dataframe thead th {\n        text-align: right;\n    }\n</style>\n<table border=\"1\" class=\"dataframe\">\n  <thead>\n    <tr style=\"text-align: right;\">\n      <th></th>\n      <th>formula_id</th>\n      <th>x</th>\n      <th>trace_len</th>\n      <th>num_mess</th>\n      <th>size_mess</th>\n      <th>nb_progressions</th>\n      <th>formula</th>\n      <th>trace</th>\n      <th>strategy</th>\n    </tr>\n  </thead>\n  <tbody>\n    <tr>\n      <th>0</th>\n      <td>0</td>\n      <td>1</td>\n      <td>2</td>\n      <td>3</td>\n      <td>1.0</td>\n      <td>3</td>\n      <td>Next (Var \"b\")</td>\n      <td>{a|b| } ; { | | } ; {a| | } ; { | |c} ; { |b|...</td>\n      <td>orchestration</td>\n    </tr>\n    <tr>\n      <th>1</th>\n      <td>1</td>\n      <td>1</td>\n      <td>2</td>\n      <td>3</td>\n      <td>1.0</td>\n      <td>4</td>\n      <td>Ev (Var \"b\")</td>\n      <td>{ | |c} ; {a|b|c} ; {a| |c} ; {a|b|c} ; { |b|...</td>\n      <td>orchestration</td>\n    </tr>\n    <tr>\n      <th>2</th>\n      <td>2</td>\n      <td>1</td>\n      <td>2</td>\n      <td>3</td>\n      <td>1.0</td>\n      <td>3</td>\n      <td>Next (Var \"a\")</td>\n      <td>{ |b|c} ; {a| | } ; {a| |c} ; { | | } ; {a|b|...</td>\n      <td>orchestration</td>\n    </tr>\n    <tr>\n      <th>3</th>\n      <td>3</td>\n      <td>1</td>\n      <td>6</td>\n      <td>15</td>\n      <td>1.0</td>\n      <td>12</td>\n      <td>Glob (Var \"b\")</td>\n      <td>{a|b| } ; {a|b|c} ; { |b| } ; { |b|c} ; {a|b|...</td>\n      <td>orchestration</td>\n    </tr>\n    <tr>\n      <th>4</th>\n      <td>4</td>\n      <td>1</td>\n      <td>2</td>\n      <td>3</td>\n      <td>1.0</td>\n      <td>4</td>\n      <td>Glob (Var \"c\")</td>\n      <td>{a| |c} ; { | | } ; { | | } ; {a| | } ; {a| |...</td>\n      <td>orchestration</td>\n    </tr>\n    <tr>\n      <th>5</th>\n      <td>5</td>\n      <td>1</td>\n      <td>2</td>\n      <td>3</td>\n      <td>1.0</td>\n      <td>3</td>\n      <td>Next (Var \"b\")</td>\n      <td>{a|b|c} ; { |b| } ; { |b| } ; {a| |c} ; { | |...</td>\n      <td>orchestration</td>\n    </tr>\n    <tr>\n      <th>6</th>\n      <td>6</td>\n      <td>1</td>\n      <td>4</td>\n      <td>9</td>\n      <td>1.0</td>\n      <td>8</td>\n      <td>Ev (Var \"c\")</td>\n      <td>{a| | } ; { |b| } ; {a|b| } ; {a| |c} ; { | |...</td>\n      <td>orchestration</td>\n    </tr>\n    <tr>\n      <th>7</th>\n      <td>7</td>\n      <td>1</td>\n      <td>2</td>\n      <td>3</td>\n      <td>1.0</td>\n      <td>3</td>\n      <td>Next (Var \"a\")</td>\n      <td>{a|b|c} ; {a| |c} ; {a| | } ; {a|b|c} ; {a| |...</td>\n      <td>orchestration</td>\n    </tr>\n    <tr>\n      <th>8</th>\n      <td>8</td>\n      <td>1</td>\n      <td>4</td>\n      <td>9</td>\n      <td>1.0</td>\n      <td>8</td>\n      <td>Glob (Var \"b\")</td>\n      <td>{ |b| } ; { |b| } ; {a|b| } ; {a| |c} ; { |b|...</td>\n      <td>orchestration</td>\n    </tr>\n    <tr>\n      <th>9</th>\n      <td>9</td>\n      <td>1</td>\n      <td>2</td>\n      <td>3</td>\n      <td>1.0</td>\n      <td>3</td>\n      <td>Next (Var \"c\")</td>\n      <td>{a|b| } ; {a| |c} ; {a|b|c} ; {a|b| } ; {a|b|...</td>\n      <td>orchestration</td>\n    </tr>\n    <tr>\n      <th>10</th>\n      <td>10</td>\n      <td>2</td>\n      <td>5</td>\n      <td>12</td>\n      <td>1.0</td>\n      <td>11</td>\n      <td>Next (Glob (Var \"c\"))</td>\n      <td>{ | | } ; {a| |c} ; {a|b|c} ; { | |c} ; {a|b|...</td>\n      <td>orchestration</td>\n    </tr>\n    <tr>\n      <th>11</th>\n      <td>11</td>\n      <td>2</td>\n      <td>7</td>\n      <td>18</td>\n      <td>1.0</td>\n      <td>102</td>\n      <td>Until (Glob (Var \"a\"), Glob (Var \"b\"))</td>\n      <td>{a|b|c} ; {a| | } ; {a|b| } ; {a|b| } ; {a| |...</td>\n      <td>orchestration</td>\n    </tr>\n    <tr>\n      <th>12</th>\n      <td>12</td>\n      <td>2</td>\n      <td>6</td>\n      <td>15</td>\n      <td>1.0</td>\n      <td>12</td>\n      <td>Ev (Var \"c\")</td>\n      <td>{ |b| } ; {a| | } ; { |b| } ; { | | } ; {a|b|...</td>\n      <td>orchestration</td>\n    </tr>\n    <tr>\n      <th>13</th>\n      <td>13</td>\n      <td>2</td>\n      <td>11</td>\n      <td>30</td>\n      <td>1.0</td>\n      <td>112</td>\n      <td>Until (Ev (Var \"b\"), And (Var \"c\", Var \"a\"))</td>\n      <td>{ |b|c} ; { | | } ; { | |c} ; { | | } ; { |b|...</td>\n      <td>orchestration</td>\n    </tr>\n    <tr>\n      <th>14</th>\n      <td>14</td>\n      <td>2</td>\n      <td>5</td>\n      <td>12</td>\n      <td>1.0</td>\n      <td>10</td>\n      <td>Glob (Var \"b\")</td>\n      <td>{ |b|c} ; { |b|c} ; { |b| } ; {a|b| } ; {a| |...</td>\n      <td>orchestration</td>\n    </tr>\n    <tr>\n      <th>15</th>\n      <td>15</td>\n      <td>2</td>\n      <td>7</td>\n      <td>18</td>\n      <td>1.0</td>\n      <td>14</td>\n      <td>Glob (Var \"a\")</td>\n      <td>{a|b|c} ; {a|b|c} ; {a| |c} ; {a|b| } ; {a|b|...</td>\n      <td>orchestration</td>\n    </tr>\n    <tr>\n      <th>16</th>\n      <td>16</td>\n      <td>2</td>\n      <td>8</td>\n      <td>21</td>\n      <td>1.0</td>\n      <td>16</td>\n      <td>Glob (Var \"c\")</td>\n      <td>{ |b|c} ; { |b|c} ; {a| |c} ; { | |c} ; {a|b|...</td>\n      <td>orchestration</td>\n    </tr>\n    <tr>\n      <th>17</th>\n      <td>17</td>\n      <td>2</td>\n      <td>8</td>\n      <td>21</td>\n      <td>1.0</td>\n      <td>44</td>\n      <td>Until (And (Or (Neg (Var \"c\"), Var \"b\"), Or (...</td>\n      <td>{ | | } ; {a| |c} ; {a| |c} ; {a|b|c} ; {a| |...</td>\n      <td>orchestration</td>\n    </tr>\n    <tr>\n      <th>18</th>\n      <td>18</td>\n      <td>2</td>\n      <td>12</td>\n      <td>33</td>\n      <td>1.0</td>\n      <td>60</td>\n      <td>Glob (Until (Var \"a\", Var \"c\"))</td>\n      <td>{a| |c} ; {a| | } ; {a| |c} ; { | |c} ; {a|b|...</td>\n      <td>orchestration</td>\n    </tr>\n    <tr>\n      <th>19</th>\n      <td>19</td>\n      <td>2</td>\n      <td>11</td>\n      <td>30</td>\n      <td>1.0</td>\n      <td>36</td>\n      <td>And (Or (Ev (Neg (Var \"a\")), Ev (Var \"a\")), O...</td>\n      <td>{a|b|c} ; {a| |c} ; {a| |c} ; {a| | } ; {a|b|...</td>\n      <td>orchestration</td>\n    </tr>\n    <tr>\n      <th>20</th>\n      <td>20</td>\n      <td>3</td>\n      <td>8</td>\n      <td>21</td>\n      <td>1.0</td>\n      <td>24</td>\n      <td>Ev (Neg (Var \"b\"))</td>\n      <td>{a|b|c} ; { |b| } ; {a|b| } ; {a|b| } ; { |b|...</td>\n      <td>orchestration</td>\n    </tr>\n    <tr>\n      <th>21</th>\n      <td>21</td>\n      <td>3</td>\n      <td>8</td>\n      <td>21</td>\n      <td>1.0</td>\n      <td>96</td>\n      <td>Until (Until (Var \"c\", Var \"a\"), Glob (Var \"a...</td>\n      <td>{a| | } ; {a|b|c} ; {a| | } ; { | |c} ; {a| |...</td>\n      <td>orchestration</td>\n    </tr>\n    <tr>\n      <th>22</th>\n      <td>22</td>\n      <td>3</td>\n      <td>13</td>\n      <td>36</td>\n      <td>1.0</td>\n      <td>66</td>\n      <td>Next (Ev (And (Var \"b\", Var \"c\")))</td>\n      <td>{ | | } ; { | | } ; {a| | } ; {a| |c} ; { | |...</td>\n      <td>orchestration</td>\n    </tr>\n    <tr>\n      <th>23</th>\n      <td>23</td>\n      <td>3</td>\n      <td>15</td>\n      <td>42</td>\n      <td>1.0</td>\n      <td>174</td>\n      <td>Ev (Next (And (Var \"a\", Var \"b\")))</td>\n      <td>{ | |c} ; {a| | } ; { |b|c} ; { |b|c} ; { | |...</td>\n      <td>orchestration</td>\n    </tr>\n    <tr>\n      <th>24</th>\n      <td>24</td>\n      <td>3</td>\n      <td>12</td>\n      <td>33</td>\n      <td>1.0</td>\n      <td>96</td>\n      <td>Ev (And (Neg (Var \"a\"), Next (Var \"c\")))</td>\n      <td>{a| |c} ; { | | } ; {a| | } ; { | | } ; {a|b|...</td>\n      <td>orchestration</td>\n    </tr>\n    <tr>\n      <th>25</th>\n      <td>25</td>\n      <td>3</td>\n      <td>9</td>\n      <td>24</td>\n      <td>1.0</td>\n      <td>18</td>\n      <td>Glob (Var \"b\")</td>\n      <td>{a|b| } ; { |b| } ; { |b| } ; {a|b|c} ; {a|b|...</td>\n      <td>orchestration</td>\n    </tr>\n    <tr>\n      <th>26</th>\n      <td>26</td>\n      <td>3</td>\n      <td>9</td>\n      <td>24</td>\n      <td>1.0</td>\n      <td>79</td>\n      <td>And (Or (Ev (Neg (Until (Var \"a\", Var \"c\"))),...</td>\n      <td>{a| | } ; { |b|c} ; {a|b|c} ; {a|b|c} ; {a| |...</td>\n      <td>orchestration</td>\n    </tr>\n  </tbody>\n</table>\n</div>"
     },
     "execution_count": 38,
     "metadata": {},
     "output_type": "execute_result"
    }
   ],
   "source": [
    "strategies_df = []\n",
    "for key, name in strategies.items():\n",
    "    others = {x: strategies[x] for x in strategies if x != key}\n",
    "    other_keys = list(others.keys())\n",
    "    local = rename(df, fr\"^{key}_(.*)\", r\"\\1\")\n",
    "    local = exclude_annotate(local, exclude=other_keys, annotate=name)\n",
    "    strategies_df.append(local)\n",
    "\n",
    "(cent, decent, odecent) = strategies_df\n",
    "cent"
   ],
   "metadata": {
    "collapsed": false,
    "pycharm": {
     "name": "#%%\n"
    }
   }
  },
  {
   "cell_type": "code",
   "execution_count": 39,
   "outputs": [
    {
     "data": {
      "text/plain": "    formula_id  x  trace_len  num_mess  size_mess  nb_progressions  \\\n0            0  1          2         3       1.00                3   \n1            1  1          2         3       1.00                4   \n2            2  1          2         3       1.00                3   \n3            3  1          6        15       1.00               12   \n4            4  1          2         3       1.00                4   \n..         ... ..        ...       ...        ...              ...   \n76          22  3         14        13       2.51               81   \n77          23  3         16        15       2.57              191   \n78          24  3         13        11       2.22              123   \n79          25  3          9         0       0.00               18   \n80          26  3         10        18       4.59              100   \n\n                                              formula  \\\n0                                     Next (Var \"b\")    \n1                                       Ev (Var \"b\")    \n2                                     Next (Var \"a\")    \n3                                     Glob (Var \"b\")    \n4                                     Glob (Var \"c\")    \n..                                                ...   \n76                Next (Ev (And (Var \"b\", Var \"c\")))    \n77                Ev (Next (And (Var \"a\", Var \"b\")))    \n78          Ev (And (Neg (Var \"a\"), Next (Var \"c\")))    \n79                                    Glob (Var \"b\")    \n80   And (Or (Ev (Neg (Until (Var \"a\", Var \"c\"))),...   \n\n                                                trace       strategy  \n0    {a|b| } ; { | | } ; {a| | } ; { | |c} ; { |b|...  orchestration  \n1    { | |c} ; {a|b|c} ; {a| |c} ; {a|b|c} ; { |b|...  orchestration  \n2    { |b|c} ; {a| | } ; {a| |c} ; { | | } ; {a|b|...  orchestration  \n3    {a|b| } ; {a|b|c} ; { |b| } ; { |b|c} ; {a|b|...  orchestration  \n4    {a| |c} ; { | | } ; { | | } ; {a| | } ; {a| |...  orchestration  \n..                                                ...            ...  \n76   { | | } ; { | | } ; {a| | } ; {a| |c} ; { | |...   choreography  \n77   { | |c} ; {a| | } ; { |b|c} ; { |b|c} ; { | |...   choreography  \n78   {a| |c} ; { | | } ; {a| | } ; { | | } ; {a|b|...   choreography  \n79   {a|b| } ; { |b| } ; { |b| } ; {a|b|c} ; {a|b|...   choreography  \n80   {a| | } ; { |b|c} ; {a|b|c} ; {a|b|c} ; {a| |...   choreography  \n\n[81 rows x 9 columns]",
      "text/html": "<div>\n<style scoped>\n    .dataframe tbody tr th:only-of-type {\n        vertical-align: middle;\n    }\n\n    .dataframe tbody tr th {\n        vertical-align: top;\n    }\n\n    .dataframe thead th {\n        text-align: right;\n    }\n</style>\n<table border=\"1\" class=\"dataframe\">\n  <thead>\n    <tr style=\"text-align: right;\">\n      <th></th>\n      <th>formula_id</th>\n      <th>x</th>\n      <th>trace_len</th>\n      <th>num_mess</th>\n      <th>size_mess</th>\n      <th>nb_progressions</th>\n      <th>formula</th>\n      <th>trace</th>\n      <th>strategy</th>\n    </tr>\n  </thead>\n  <tbody>\n    <tr>\n      <th>0</th>\n      <td>0</td>\n      <td>1</td>\n      <td>2</td>\n      <td>3</td>\n      <td>1.00</td>\n      <td>3</td>\n      <td>Next (Var \"b\")</td>\n      <td>{a|b| } ; { | | } ; {a| | } ; { | |c} ; { |b|...</td>\n      <td>orchestration</td>\n    </tr>\n    <tr>\n      <th>1</th>\n      <td>1</td>\n      <td>1</td>\n      <td>2</td>\n      <td>3</td>\n      <td>1.00</td>\n      <td>4</td>\n      <td>Ev (Var \"b\")</td>\n      <td>{ | |c} ; {a|b|c} ; {a| |c} ; {a|b|c} ; { |b|...</td>\n      <td>orchestration</td>\n    </tr>\n    <tr>\n      <th>2</th>\n      <td>2</td>\n      <td>1</td>\n      <td>2</td>\n      <td>3</td>\n      <td>1.00</td>\n      <td>3</td>\n      <td>Next (Var \"a\")</td>\n      <td>{ |b|c} ; {a| | } ; {a| |c} ; { | | } ; {a|b|...</td>\n      <td>orchestration</td>\n    </tr>\n    <tr>\n      <th>3</th>\n      <td>3</td>\n      <td>1</td>\n      <td>6</td>\n      <td>15</td>\n      <td>1.00</td>\n      <td>12</td>\n      <td>Glob (Var \"b\")</td>\n      <td>{a|b| } ; {a|b|c} ; { |b| } ; { |b|c} ; {a|b|...</td>\n      <td>orchestration</td>\n    </tr>\n    <tr>\n      <th>4</th>\n      <td>4</td>\n      <td>1</td>\n      <td>2</td>\n      <td>3</td>\n      <td>1.00</td>\n      <td>4</td>\n      <td>Glob (Var \"c\")</td>\n      <td>{a| |c} ; { | | } ; { | | } ; {a| | } ; {a| |...</td>\n      <td>orchestration</td>\n    </tr>\n    <tr>\n      <th>...</th>\n      <td>...</td>\n      <td>...</td>\n      <td>...</td>\n      <td>...</td>\n      <td>...</td>\n      <td>...</td>\n      <td>...</td>\n      <td>...</td>\n      <td>...</td>\n    </tr>\n    <tr>\n      <th>76</th>\n      <td>22</td>\n      <td>3</td>\n      <td>14</td>\n      <td>13</td>\n      <td>2.51</td>\n      <td>81</td>\n      <td>Next (Ev (And (Var \"b\", Var \"c\")))</td>\n      <td>{ | | } ; { | | } ; {a| | } ; {a| |c} ; { | |...</td>\n      <td>choreography</td>\n    </tr>\n    <tr>\n      <th>77</th>\n      <td>23</td>\n      <td>3</td>\n      <td>16</td>\n      <td>15</td>\n      <td>2.57</td>\n      <td>191</td>\n      <td>Ev (Next (And (Var \"a\", Var \"b\")))</td>\n      <td>{ | |c} ; {a| | } ; { |b|c} ; { |b|c} ; { | |...</td>\n      <td>choreography</td>\n    </tr>\n    <tr>\n      <th>78</th>\n      <td>24</td>\n      <td>3</td>\n      <td>13</td>\n      <td>11</td>\n      <td>2.22</td>\n      <td>123</td>\n      <td>Ev (And (Neg (Var \"a\"), Next (Var \"c\")))</td>\n      <td>{a| |c} ; { | | } ; {a| | } ; { | | } ; {a|b|...</td>\n      <td>choreography</td>\n    </tr>\n    <tr>\n      <th>79</th>\n      <td>25</td>\n      <td>3</td>\n      <td>9</td>\n      <td>0</td>\n      <td>0.00</td>\n      <td>18</td>\n      <td>Glob (Var \"b\")</td>\n      <td>{a|b| } ; { |b| } ; { |b| } ; {a|b|c} ; {a|b|...</td>\n      <td>choreography</td>\n    </tr>\n    <tr>\n      <th>80</th>\n      <td>26</td>\n      <td>3</td>\n      <td>10</td>\n      <td>18</td>\n      <td>4.59</td>\n      <td>100</td>\n      <td>And (Or (Ev (Neg (Until (Var \"a\", Var \"c\"))),...</td>\n      <td>{a| | } ; { |b|c} ; {a|b|c} ; {a|b|c} ; {a| |...</td>\n      <td>choreography</td>\n    </tr>\n  </tbody>\n</table>\n<p>81 rows × 9 columns</p>\n</div>"
     },
     "execution_count": 39,
     "metadata": {},
     "output_type": "execute_result"
    }
   ],
   "source": [
    "sdf = pd.concat(strategies_df, ignore_index=True)\n",
    "sdf"
   ],
   "metadata": {
    "collapsed": false,
    "pycharm": {
     "name": "#%%\n"
    }
   }
  },
  {
   "cell_type": "code",
   "execution_count": 40,
   "outputs": [],
   "source": [
    "metrics = [\n",
    "    \"trace_len\",\n",
    "    \"num_mess\",\n",
    "    \"size_mess\",\n",
    "    \"nb_progressions\"\n",
    "]"
   ],
   "metadata": {
    "collapsed": false,
    "pycharm": {
     "name": "#%%\n"
    }
   }
  },
  {
   "cell_type": "code",
   "execution_count": 41,
   "outputs": [
    {
     "data": {
      "text/plain": "    formula_id       strategy  value           metric\n0            0  orchestration    2.0        trace_len\n1            1  orchestration    2.0        trace_len\n2            2  orchestration    2.0        trace_len\n3            3  orchestration    6.0        trace_len\n4            4  orchestration    2.0        trace_len\n..         ...            ...    ...              ...\n76          22   choreography   81.0  nb_progressions\n77          23   choreography  191.0  nb_progressions\n78          24   choreography  123.0  nb_progressions\n79          25   choreography   18.0  nb_progressions\n80          26   choreography  100.0  nb_progressions\n\n[324 rows x 4 columns]",
      "text/html": "<div>\n<style scoped>\n    .dataframe tbody tr th:only-of-type {\n        vertical-align: middle;\n    }\n\n    .dataframe tbody tr th {\n        vertical-align: top;\n    }\n\n    .dataframe thead th {\n        text-align: right;\n    }\n</style>\n<table border=\"1\" class=\"dataframe\">\n  <thead>\n    <tr style=\"text-align: right;\">\n      <th></th>\n      <th>formula_id</th>\n      <th>strategy</th>\n      <th>value</th>\n      <th>metric</th>\n    </tr>\n  </thead>\n  <tbody>\n    <tr>\n      <th>0</th>\n      <td>0</td>\n      <td>orchestration</td>\n      <td>2.0</td>\n      <td>trace_len</td>\n    </tr>\n    <tr>\n      <th>1</th>\n      <td>1</td>\n      <td>orchestration</td>\n      <td>2.0</td>\n      <td>trace_len</td>\n    </tr>\n    <tr>\n      <th>2</th>\n      <td>2</td>\n      <td>orchestration</td>\n      <td>2.0</td>\n      <td>trace_len</td>\n    </tr>\n    <tr>\n      <th>3</th>\n      <td>3</td>\n      <td>orchestration</td>\n      <td>6.0</td>\n      <td>trace_len</td>\n    </tr>\n    <tr>\n      <th>4</th>\n      <td>4</td>\n      <td>orchestration</td>\n      <td>2.0</td>\n      <td>trace_len</td>\n    </tr>\n    <tr>\n      <th>...</th>\n      <td>...</td>\n      <td>...</td>\n      <td>...</td>\n      <td>...</td>\n    </tr>\n    <tr>\n      <th>76</th>\n      <td>22</td>\n      <td>choreography</td>\n      <td>81.0</td>\n      <td>nb_progressions</td>\n    </tr>\n    <tr>\n      <th>77</th>\n      <td>23</td>\n      <td>choreography</td>\n      <td>191.0</td>\n      <td>nb_progressions</td>\n    </tr>\n    <tr>\n      <th>78</th>\n      <td>24</td>\n      <td>choreography</td>\n      <td>123.0</td>\n      <td>nb_progressions</td>\n    </tr>\n    <tr>\n      <th>79</th>\n      <td>25</td>\n      <td>choreography</td>\n      <td>18.0</td>\n      <td>nb_progressions</td>\n    </tr>\n    <tr>\n      <th>80</th>\n      <td>26</td>\n      <td>choreography</td>\n      <td>100.0</td>\n      <td>nb_progressions</td>\n    </tr>\n  </tbody>\n</table>\n<p>324 rows × 4 columns</p>\n</div>"
     },
     "execution_count": 41,
     "metadata": {},
     "output_type": "execute_result"
    }
   ],
   "source": [
    "metrics_data = []\n",
    "for metric in metrics:\n",
    "    metrics_data.append(select_metric(sdf, metric))\n",
    "\n",
    "merged_metrics = pd.concat(metrics_data)\n",
    "\n",
    "(trace_length, num_mess, size_mess, nb_progressions) = merged_metrics\n",
    "\n",
    "merged_metrics"
   ],
   "metadata": {
    "collapsed": false,
    "pycharm": {
     "name": "#%%\n"
    }
   }
  },
  {
   "cell_type": "code",
   "execution_count": 42,
   "outputs": [],
   "source": [
    "def flatten_once(l: List[List]):\n",
    "    return [item for sublist in l for item in sublist]"
   ],
   "metadata": {
    "collapsed": false,
    "pycharm": {
     "name": "#%%\n"
    }
   }
  },
  {
   "cell_type": "code",
   "execution_count": 43,
   "outputs": [
    {
     "data": {
      "text/plain": "    True  False  Var  And  Or  Neg  Imp  Iff  Xor  Until  Next  Ev  Glob  \\\n0      0      0    1    0   0    0    0    0    0      0     1   0     0   \n1      0      0    1    0   0    0    0    0    0      0     0   1     0   \n2      0      0    1    0   0    0    0    0    0      0     1   0     0   \n3      0      0    1    0   0    0    0    0    0      0     0   0     1   \n4      0      0    1    0   0    0    0    0    0      0     0   0     1   \n..   ...    ...  ...  ...  ..  ...  ...  ...  ...    ...   ...  ..   ...   \n76     0      0    2    1   0    0    0    0    0      0     1   1     0   \n77     0      0    2    1   0    0    0    0    0      0     1   1     0   \n78     0      0    2    1   0    1    0    0    0      0     1   1     0   \n79     0      0    1    0   0    0    0    0    0      0     0   0     1   \n80     0      0   12    2   3    3    0    0    0      6     0   1     1   \n\n    Previous  Wuntil  \n0          0       0  \n1          0       0  \n2          0       0  \n3          0       0  \n4          0       0  \n..       ...     ...  \n76         0       0  \n77         0       0  \n78         0       0  \n79         0       0  \n80         0       0  \n\n[81 rows x 15 columns]",
      "text/html": "<div>\n<style scoped>\n    .dataframe tbody tr th:only-of-type {\n        vertical-align: middle;\n    }\n\n    .dataframe tbody tr th {\n        vertical-align: top;\n    }\n\n    .dataframe thead th {\n        text-align: right;\n    }\n</style>\n<table border=\"1\" class=\"dataframe\">\n  <thead>\n    <tr style=\"text-align: right;\">\n      <th></th>\n      <th>True</th>\n      <th>False</th>\n      <th>Var</th>\n      <th>And</th>\n      <th>Or</th>\n      <th>Neg</th>\n      <th>Imp</th>\n      <th>Iff</th>\n      <th>Xor</th>\n      <th>Until</th>\n      <th>Next</th>\n      <th>Ev</th>\n      <th>Glob</th>\n      <th>Previous</th>\n      <th>Wuntil</th>\n    </tr>\n  </thead>\n  <tbody>\n    <tr>\n      <th>0</th>\n      <td>0</td>\n      <td>0</td>\n      <td>1</td>\n      <td>0</td>\n      <td>0</td>\n      <td>0</td>\n      <td>0</td>\n      <td>0</td>\n      <td>0</td>\n      <td>0</td>\n      <td>1</td>\n      <td>0</td>\n      <td>0</td>\n      <td>0</td>\n      <td>0</td>\n    </tr>\n    <tr>\n      <th>1</th>\n      <td>0</td>\n      <td>0</td>\n      <td>1</td>\n      <td>0</td>\n      <td>0</td>\n      <td>0</td>\n      <td>0</td>\n      <td>0</td>\n      <td>0</td>\n      <td>0</td>\n      <td>0</td>\n      <td>1</td>\n      <td>0</td>\n      <td>0</td>\n      <td>0</td>\n    </tr>\n    <tr>\n      <th>2</th>\n      <td>0</td>\n      <td>0</td>\n      <td>1</td>\n      <td>0</td>\n      <td>0</td>\n      <td>0</td>\n      <td>0</td>\n      <td>0</td>\n      <td>0</td>\n      <td>0</td>\n      <td>1</td>\n      <td>0</td>\n      <td>0</td>\n      <td>0</td>\n      <td>0</td>\n    </tr>\n    <tr>\n      <th>3</th>\n      <td>0</td>\n      <td>0</td>\n      <td>1</td>\n      <td>0</td>\n      <td>0</td>\n      <td>0</td>\n      <td>0</td>\n      <td>0</td>\n      <td>0</td>\n      <td>0</td>\n      <td>0</td>\n      <td>0</td>\n      <td>1</td>\n      <td>0</td>\n      <td>0</td>\n    </tr>\n    <tr>\n      <th>4</th>\n      <td>0</td>\n      <td>0</td>\n      <td>1</td>\n      <td>0</td>\n      <td>0</td>\n      <td>0</td>\n      <td>0</td>\n      <td>0</td>\n      <td>0</td>\n      <td>0</td>\n      <td>0</td>\n      <td>0</td>\n      <td>1</td>\n      <td>0</td>\n      <td>0</td>\n    </tr>\n    <tr>\n      <th>...</th>\n      <td>...</td>\n      <td>...</td>\n      <td>...</td>\n      <td>...</td>\n      <td>...</td>\n      <td>...</td>\n      <td>...</td>\n      <td>...</td>\n      <td>...</td>\n      <td>...</td>\n      <td>...</td>\n      <td>...</td>\n      <td>...</td>\n      <td>...</td>\n      <td>...</td>\n    </tr>\n    <tr>\n      <th>76</th>\n      <td>0</td>\n      <td>0</td>\n      <td>2</td>\n      <td>1</td>\n      <td>0</td>\n      <td>0</td>\n      <td>0</td>\n      <td>0</td>\n      <td>0</td>\n      <td>0</td>\n      <td>1</td>\n      <td>1</td>\n      <td>0</td>\n      <td>0</td>\n      <td>0</td>\n    </tr>\n    <tr>\n      <th>77</th>\n      <td>0</td>\n      <td>0</td>\n      <td>2</td>\n      <td>1</td>\n      <td>0</td>\n      <td>0</td>\n      <td>0</td>\n      <td>0</td>\n      <td>0</td>\n      <td>0</td>\n      <td>1</td>\n      <td>1</td>\n      <td>0</td>\n      <td>0</td>\n      <td>0</td>\n    </tr>\n    <tr>\n      <th>78</th>\n      <td>0</td>\n      <td>0</td>\n      <td>2</td>\n      <td>1</td>\n      <td>0</td>\n      <td>1</td>\n      <td>0</td>\n      <td>0</td>\n      <td>0</td>\n      <td>0</td>\n      <td>1</td>\n      <td>1</td>\n      <td>0</td>\n      <td>0</td>\n      <td>0</td>\n    </tr>\n    <tr>\n      <th>79</th>\n      <td>0</td>\n      <td>0</td>\n      <td>1</td>\n      <td>0</td>\n      <td>0</td>\n      <td>0</td>\n      <td>0</td>\n      <td>0</td>\n      <td>0</td>\n      <td>0</td>\n      <td>0</td>\n      <td>0</td>\n      <td>1</td>\n      <td>0</td>\n      <td>0</td>\n    </tr>\n    <tr>\n      <th>80</th>\n      <td>0</td>\n      <td>0</td>\n      <td>12</td>\n      <td>2</td>\n      <td>3</td>\n      <td>3</td>\n      <td>0</td>\n      <td>0</td>\n      <td>0</td>\n      <td>6</td>\n      <td>0</td>\n      <td>1</td>\n      <td>1</td>\n      <td>0</td>\n      <td>0</td>\n    </tr>\n  </tbody>\n</table>\n<p>81 rows × 15 columns</p>\n</div>"
     },
     "execution_count": 43,
     "metadata": {},
     "output_type": "execute_result"
    }
   ],
   "source": [
    "map_ops = lambda x: flatten_once(count_all_ops(x['formula']))\n",
    "\n",
    "f_ops = sdf.copy()\n",
    "f_ops['newcolumn'] = f_ops.apply(map_ops, axis=1)\n",
    "ops = flatten_once(all_operators)\n",
    "f_ops = pd.DataFrame(f_ops['newcolumn'].to_list(), columns=ops)\n",
    "\n",
    "f_ops"
   ],
   "metadata": {
    "collapsed": false,
    "pycharm": {
     "name": "#%%\n"
    }
   }
  },
  {
   "cell_type": "code",
   "execution_count": 44,
   "outputs": [],
   "source": [
    "TRACE_LENGTH = 1001\n",
    "NODES = 3"
   ],
   "metadata": {
    "collapsed": false,
    "pycharm": {
     "name": "#%%\n"
    }
   }
  },
  {
   "cell_type": "code",
   "execution_count": 45,
   "outputs": [
    {
     "data": {
      "text/plain": "   t_0_0 t_0_1 t_0_2 t_1_0 t_1_1 t_1_2 t_2_0 t_2_1 t_2_2 t_3_0  ... t_997_2  \\\n0      a     b                             a                    ...       c   \n1                  c     a     b     c     a           c     a  ...       c   \n2            b     c     a                 a           c        ...       c   \n3      a     b           a     b     c           b              ...           \n4      a           c                                         a  ...       c   \n..   ...   ...   ...   ...   ...   ...   ...   ...   ...   ...  ...     ...   \n76                                         a                 a  ...       c   \n77                 c     a                       b     c        ...       c   \n78     a           c                       a                    ...       c   \n79     a     b                 b                 b           a  ...           \n80     a                       b     c     a     b     c     a  ...           \n\n   t_998_0 t_998_1 t_998_2 t_999_0 t_999_1 t_999_2 t_1000_0 t_1000_1 t_1000_2  \n0        a       b       c       a                        a        b        c  \n1                                a               c                          c  \n2        a       b       c                       c        a        b           \n3                                a                        a        b        c  \n4        a       b                               c        a                    \n..     ...     ...     ...     ...     ...     ...      ...      ...      ...  \n76                       c               b       c        a        b           \n77       a                       a       b                a                 c  \n78               b       c                                a                    \n79       a       b       c                       c                          c  \n80       a       b       c               b                a                 c  \n\n[81 rows x 3003 columns]",
      "text/html": "<div>\n<style scoped>\n    .dataframe tbody tr th:only-of-type {\n        vertical-align: middle;\n    }\n\n    .dataframe tbody tr th {\n        vertical-align: top;\n    }\n\n    .dataframe thead th {\n        text-align: right;\n    }\n</style>\n<table border=\"1\" class=\"dataframe\">\n  <thead>\n    <tr style=\"text-align: right;\">\n      <th></th>\n      <th>t_0_0</th>\n      <th>t_0_1</th>\n      <th>t_0_2</th>\n      <th>t_1_0</th>\n      <th>t_1_1</th>\n      <th>t_1_2</th>\n      <th>t_2_0</th>\n      <th>t_2_1</th>\n      <th>t_2_2</th>\n      <th>t_3_0</th>\n      <th>...</th>\n      <th>t_997_2</th>\n      <th>t_998_0</th>\n      <th>t_998_1</th>\n      <th>t_998_2</th>\n      <th>t_999_0</th>\n      <th>t_999_1</th>\n      <th>t_999_2</th>\n      <th>t_1000_0</th>\n      <th>t_1000_1</th>\n      <th>t_1000_2</th>\n    </tr>\n  </thead>\n  <tbody>\n    <tr>\n      <th>0</th>\n      <td>a</td>\n      <td>b</td>\n      <td></td>\n      <td></td>\n      <td></td>\n      <td></td>\n      <td>a</td>\n      <td></td>\n      <td></td>\n      <td></td>\n      <td>...</td>\n      <td>c</td>\n      <td>a</td>\n      <td>b</td>\n      <td>c</td>\n      <td>a</td>\n      <td></td>\n      <td></td>\n      <td>a</td>\n      <td>b</td>\n      <td>c</td>\n    </tr>\n    <tr>\n      <th>1</th>\n      <td></td>\n      <td></td>\n      <td>c</td>\n      <td>a</td>\n      <td>b</td>\n      <td>c</td>\n      <td>a</td>\n      <td></td>\n      <td>c</td>\n      <td>a</td>\n      <td>...</td>\n      <td>c</td>\n      <td></td>\n      <td></td>\n      <td></td>\n      <td>a</td>\n      <td></td>\n      <td>c</td>\n      <td></td>\n      <td></td>\n      <td>c</td>\n    </tr>\n    <tr>\n      <th>2</th>\n      <td></td>\n      <td>b</td>\n      <td>c</td>\n      <td>a</td>\n      <td></td>\n      <td></td>\n      <td>a</td>\n      <td></td>\n      <td>c</td>\n      <td></td>\n      <td>...</td>\n      <td>c</td>\n      <td>a</td>\n      <td>b</td>\n      <td>c</td>\n      <td></td>\n      <td></td>\n      <td>c</td>\n      <td>a</td>\n      <td>b</td>\n      <td></td>\n    </tr>\n    <tr>\n      <th>3</th>\n      <td>a</td>\n      <td>b</td>\n      <td></td>\n      <td>a</td>\n      <td>b</td>\n      <td>c</td>\n      <td></td>\n      <td>b</td>\n      <td></td>\n      <td></td>\n      <td>...</td>\n      <td></td>\n      <td></td>\n      <td></td>\n      <td></td>\n      <td>a</td>\n      <td></td>\n      <td></td>\n      <td>a</td>\n      <td>b</td>\n      <td>c</td>\n    </tr>\n    <tr>\n      <th>4</th>\n      <td>a</td>\n      <td></td>\n      <td>c</td>\n      <td></td>\n      <td></td>\n      <td></td>\n      <td></td>\n      <td></td>\n      <td></td>\n      <td>a</td>\n      <td>...</td>\n      <td>c</td>\n      <td>a</td>\n      <td>b</td>\n      <td></td>\n      <td></td>\n      <td></td>\n      <td>c</td>\n      <td>a</td>\n      <td></td>\n      <td></td>\n    </tr>\n    <tr>\n      <th>...</th>\n      <td>...</td>\n      <td>...</td>\n      <td>...</td>\n      <td>...</td>\n      <td>...</td>\n      <td>...</td>\n      <td>...</td>\n      <td>...</td>\n      <td>...</td>\n      <td>...</td>\n      <td>...</td>\n      <td>...</td>\n      <td>...</td>\n      <td>...</td>\n      <td>...</td>\n      <td>...</td>\n      <td>...</td>\n      <td>...</td>\n      <td>...</td>\n      <td>...</td>\n      <td>...</td>\n    </tr>\n    <tr>\n      <th>76</th>\n      <td></td>\n      <td></td>\n      <td></td>\n      <td></td>\n      <td></td>\n      <td></td>\n      <td>a</td>\n      <td></td>\n      <td></td>\n      <td>a</td>\n      <td>...</td>\n      <td>c</td>\n      <td></td>\n      <td></td>\n      <td>c</td>\n      <td></td>\n      <td>b</td>\n      <td>c</td>\n      <td>a</td>\n      <td>b</td>\n      <td></td>\n    </tr>\n    <tr>\n      <th>77</th>\n      <td></td>\n      <td></td>\n      <td>c</td>\n      <td>a</td>\n      <td></td>\n      <td></td>\n      <td></td>\n      <td>b</td>\n      <td>c</td>\n      <td></td>\n      <td>...</td>\n      <td>c</td>\n      <td>a</td>\n      <td></td>\n      <td></td>\n      <td>a</td>\n      <td>b</td>\n      <td></td>\n      <td>a</td>\n      <td></td>\n      <td>c</td>\n    </tr>\n    <tr>\n      <th>78</th>\n      <td>a</td>\n      <td></td>\n      <td>c</td>\n      <td></td>\n      <td></td>\n      <td></td>\n      <td>a</td>\n      <td></td>\n      <td></td>\n      <td></td>\n      <td>...</td>\n      <td>c</td>\n      <td></td>\n      <td>b</td>\n      <td>c</td>\n      <td></td>\n      <td></td>\n      <td></td>\n      <td>a</td>\n      <td></td>\n      <td></td>\n    </tr>\n    <tr>\n      <th>79</th>\n      <td>a</td>\n      <td>b</td>\n      <td></td>\n      <td></td>\n      <td>b</td>\n      <td></td>\n      <td></td>\n      <td>b</td>\n      <td></td>\n      <td>a</td>\n      <td>...</td>\n      <td></td>\n      <td>a</td>\n      <td>b</td>\n      <td>c</td>\n      <td></td>\n      <td></td>\n      <td>c</td>\n      <td></td>\n      <td></td>\n      <td>c</td>\n    </tr>\n    <tr>\n      <th>80</th>\n      <td>a</td>\n      <td></td>\n      <td></td>\n      <td></td>\n      <td>b</td>\n      <td>c</td>\n      <td>a</td>\n      <td>b</td>\n      <td>c</td>\n      <td>a</td>\n      <td>...</td>\n      <td></td>\n      <td>a</td>\n      <td>b</td>\n      <td>c</td>\n      <td></td>\n      <td>b</td>\n      <td></td>\n      <td>a</td>\n      <td></td>\n      <td>c</td>\n    </tr>\n  </tbody>\n</table>\n<p>81 rows × 3003 columns</p>\n</div>"
     },
     "execution_count": 45,
     "metadata": {},
     "output_type": "execute_result"
    }
   ],
   "source": [
    "map_trace = lambda x: flatten_once(extract_sampled_events(x['trace']))\n",
    "trace_label = lambda n: [f\"t_{x // NODES}_{x % NODES}\" for x in range(n)]\n",
    "\n",
    "t_events = sdf.copy()\n",
    "t_events['newcolumn'] = t_events.apply(map_trace, axis=1)\n",
    "ids = trace_label(TRACE_LENGTH * NODES)\n",
    "t_events = pd.DataFrame(t_events['newcolumn'].to_list(), columns=ids)\n",
    "\n",
    "t_events"
   ],
   "metadata": {
    "collapsed": false,
    "pycharm": {
     "name": "#%%\n"
    }
   }
  },
  {
   "cell_type": "code",
   "execution_count": 48,
   "outputs": [
    {
     "data": {
      "text/plain": "    formula_id  x  trace_len  num_mess  size_mess  nb_progressions  \\\n0            0  1          2         3       1.00                3   \n1            1  1          2         3       1.00                4   \n2            2  1          2         3       1.00                3   \n3            3  1          6        15       1.00               12   \n4            4  1          2         3       1.00                4   \n..         ... ..        ...       ...        ...              ...   \n76          22  3         14        13       2.51               81   \n77          23  3         16        15       2.57              191   \n78          24  3         13        11       2.22              123   \n79          25  3          9         0       0.00               18   \n80          26  3         10        18       4.59              100   \n\n                                              formula  \\\n0                                     Next (Var \"b\")    \n1                                       Ev (Var \"b\")    \n2                                     Next (Var \"a\")    \n3                                     Glob (Var \"b\")    \n4                                     Glob (Var \"c\")    \n..                                                ...   \n76                Next (Ev (And (Var \"b\", Var \"c\")))    \n77                Ev (Next (And (Var \"a\", Var \"b\")))    \n78          Ev (And (Neg (Var \"a\"), Next (Var \"c\")))    \n79                                    Glob (Var \"b\")    \n80   And (Or (Ev (Neg (Until (Var \"a\", Var \"c\"))),...   \n\n                                                trace       strategy  True  \\\n0    {a|b| } ; { | | } ; {a| | } ; { | |c} ; { |b|...  orchestration     0   \n1    { | |c} ; {a|b|c} ; {a| |c} ; {a|b|c} ; { |b|...  orchestration     0   \n2    { |b|c} ; {a| | } ; {a| |c} ; { | | } ; {a|b|...  orchestration     0   \n3    {a|b| } ; {a|b|c} ; { |b| } ; { |b|c} ; {a|b|...  orchestration     0   \n4    {a| |c} ; { | | } ; { | | } ; {a| | } ; {a| |...  orchestration     0   \n..                                                ...            ...   ...   \n76   { | | } ; { | | } ; {a| | } ; {a| |c} ; { | |...   choreography     0   \n77   { | |c} ; {a| | } ; { |b|c} ; { |b|c} ; { | |...   choreography     0   \n78   {a| |c} ; { | | } ; {a| | } ; { | | } ; {a|b|...   choreography     0   \n79   {a|b| } ; { |b| } ; { |b| } ; {a|b|c} ; {a|b|...   choreography     0   \n80   {a| | } ; { |b|c} ; {a|b|c} ; {a|b|c} ; {a| |...   choreography     0   \n\n    ...  t_997_2  t_998_0  t_998_1  t_998_2  t_999_0  t_999_1  t_999_2  \\\n0   ...        c        a        b        c        a                     \n1   ...        c                                   a                 c   \n2   ...        c        a        b        c                          c   \n3   ...                                            a                     \n4   ...        c        a        b                                   c   \n..  ...      ...      ...      ...      ...      ...      ...      ...   \n76  ...        c                          c                 b        c   \n77  ...        c        a                          a        b            \n78  ...        c                 b        c                              \n79  ...                 a        b        c                          c   \n80  ...                 a        b        c                 b            \n\n    t_1000_0  t_1000_1  t_1000_2  \n0          a         b         c  \n1                              c  \n2          a         b            \n3          a         b         c  \n4          a                      \n..       ...       ...       ...  \n76         a         b            \n77         a                   c  \n78         a                      \n79                             c  \n80         a                   c  \n\n[81 rows x 3027 columns]",
      "text/html": "<div>\n<style scoped>\n    .dataframe tbody tr th:only-of-type {\n        vertical-align: middle;\n    }\n\n    .dataframe tbody tr th {\n        vertical-align: top;\n    }\n\n    .dataframe thead th {\n        text-align: right;\n    }\n</style>\n<table border=\"1\" class=\"dataframe\">\n  <thead>\n    <tr style=\"text-align: right;\">\n      <th></th>\n      <th>formula_id</th>\n      <th>x</th>\n      <th>trace_len</th>\n      <th>num_mess</th>\n      <th>size_mess</th>\n      <th>nb_progressions</th>\n      <th>formula</th>\n      <th>trace</th>\n      <th>strategy</th>\n      <th>True</th>\n      <th>...</th>\n      <th>t_997_2</th>\n      <th>t_998_0</th>\n      <th>t_998_1</th>\n      <th>t_998_2</th>\n      <th>t_999_0</th>\n      <th>t_999_1</th>\n      <th>t_999_2</th>\n      <th>t_1000_0</th>\n      <th>t_1000_1</th>\n      <th>t_1000_2</th>\n    </tr>\n  </thead>\n  <tbody>\n    <tr>\n      <th>0</th>\n      <td>0</td>\n      <td>1</td>\n      <td>2</td>\n      <td>3</td>\n      <td>1.00</td>\n      <td>3</td>\n      <td>Next (Var \"b\")</td>\n      <td>{a|b| } ; { | | } ; {a| | } ; { | |c} ; { |b|...</td>\n      <td>orchestration</td>\n      <td>0</td>\n      <td>...</td>\n      <td>c</td>\n      <td>a</td>\n      <td>b</td>\n      <td>c</td>\n      <td>a</td>\n      <td></td>\n      <td></td>\n      <td>a</td>\n      <td>b</td>\n      <td>c</td>\n    </tr>\n    <tr>\n      <th>1</th>\n      <td>1</td>\n      <td>1</td>\n      <td>2</td>\n      <td>3</td>\n      <td>1.00</td>\n      <td>4</td>\n      <td>Ev (Var \"b\")</td>\n      <td>{ | |c} ; {a|b|c} ; {a| |c} ; {a|b|c} ; { |b|...</td>\n      <td>orchestration</td>\n      <td>0</td>\n      <td>...</td>\n      <td>c</td>\n      <td></td>\n      <td></td>\n      <td></td>\n      <td>a</td>\n      <td></td>\n      <td>c</td>\n      <td></td>\n      <td></td>\n      <td>c</td>\n    </tr>\n    <tr>\n      <th>2</th>\n      <td>2</td>\n      <td>1</td>\n      <td>2</td>\n      <td>3</td>\n      <td>1.00</td>\n      <td>3</td>\n      <td>Next (Var \"a\")</td>\n      <td>{ |b|c} ; {a| | } ; {a| |c} ; { | | } ; {a|b|...</td>\n      <td>orchestration</td>\n      <td>0</td>\n      <td>...</td>\n      <td>c</td>\n      <td>a</td>\n      <td>b</td>\n      <td>c</td>\n      <td></td>\n      <td></td>\n      <td>c</td>\n      <td>a</td>\n      <td>b</td>\n      <td></td>\n    </tr>\n    <tr>\n      <th>3</th>\n      <td>3</td>\n      <td>1</td>\n      <td>6</td>\n      <td>15</td>\n      <td>1.00</td>\n      <td>12</td>\n      <td>Glob (Var \"b\")</td>\n      <td>{a|b| } ; {a|b|c} ; { |b| } ; { |b|c} ; {a|b|...</td>\n      <td>orchestration</td>\n      <td>0</td>\n      <td>...</td>\n      <td></td>\n      <td></td>\n      <td></td>\n      <td></td>\n      <td>a</td>\n      <td></td>\n      <td></td>\n      <td>a</td>\n      <td>b</td>\n      <td>c</td>\n    </tr>\n    <tr>\n      <th>4</th>\n      <td>4</td>\n      <td>1</td>\n      <td>2</td>\n      <td>3</td>\n      <td>1.00</td>\n      <td>4</td>\n      <td>Glob (Var \"c\")</td>\n      <td>{a| |c} ; { | | } ; { | | } ; {a| | } ; {a| |...</td>\n      <td>orchestration</td>\n      <td>0</td>\n      <td>...</td>\n      <td>c</td>\n      <td>a</td>\n      <td>b</td>\n      <td></td>\n      <td></td>\n      <td></td>\n      <td>c</td>\n      <td>a</td>\n      <td></td>\n      <td></td>\n    </tr>\n    <tr>\n      <th>...</th>\n      <td>...</td>\n      <td>...</td>\n      <td>...</td>\n      <td>...</td>\n      <td>...</td>\n      <td>...</td>\n      <td>...</td>\n      <td>...</td>\n      <td>...</td>\n      <td>...</td>\n      <td>...</td>\n      <td>...</td>\n      <td>...</td>\n      <td>...</td>\n      <td>...</td>\n      <td>...</td>\n      <td>...</td>\n      <td>...</td>\n      <td>...</td>\n      <td>...</td>\n      <td>...</td>\n    </tr>\n    <tr>\n      <th>76</th>\n      <td>22</td>\n      <td>3</td>\n      <td>14</td>\n      <td>13</td>\n      <td>2.51</td>\n      <td>81</td>\n      <td>Next (Ev (And (Var \"b\", Var \"c\")))</td>\n      <td>{ | | } ; { | | } ; {a| | } ; {a| |c} ; { | |...</td>\n      <td>choreography</td>\n      <td>0</td>\n      <td>...</td>\n      <td>c</td>\n      <td></td>\n      <td></td>\n      <td>c</td>\n      <td></td>\n      <td>b</td>\n      <td>c</td>\n      <td>a</td>\n      <td>b</td>\n      <td></td>\n    </tr>\n    <tr>\n      <th>77</th>\n      <td>23</td>\n      <td>3</td>\n      <td>16</td>\n      <td>15</td>\n      <td>2.57</td>\n      <td>191</td>\n      <td>Ev (Next (And (Var \"a\", Var \"b\")))</td>\n      <td>{ | |c} ; {a| | } ; { |b|c} ; { |b|c} ; { | |...</td>\n      <td>choreography</td>\n      <td>0</td>\n      <td>...</td>\n      <td>c</td>\n      <td>a</td>\n      <td></td>\n      <td></td>\n      <td>a</td>\n      <td>b</td>\n      <td></td>\n      <td>a</td>\n      <td></td>\n      <td>c</td>\n    </tr>\n    <tr>\n      <th>78</th>\n      <td>24</td>\n      <td>3</td>\n      <td>13</td>\n      <td>11</td>\n      <td>2.22</td>\n      <td>123</td>\n      <td>Ev (And (Neg (Var \"a\"), Next (Var \"c\")))</td>\n      <td>{a| |c} ; { | | } ; {a| | } ; { | | } ; {a|b|...</td>\n      <td>choreography</td>\n      <td>0</td>\n      <td>...</td>\n      <td>c</td>\n      <td></td>\n      <td>b</td>\n      <td>c</td>\n      <td></td>\n      <td></td>\n      <td></td>\n      <td>a</td>\n      <td></td>\n      <td></td>\n    </tr>\n    <tr>\n      <th>79</th>\n      <td>25</td>\n      <td>3</td>\n      <td>9</td>\n      <td>0</td>\n      <td>0.00</td>\n      <td>18</td>\n      <td>Glob (Var \"b\")</td>\n      <td>{a|b| } ; { |b| } ; { |b| } ; {a|b|c} ; {a|b|...</td>\n      <td>choreography</td>\n      <td>0</td>\n      <td>...</td>\n      <td></td>\n      <td>a</td>\n      <td>b</td>\n      <td>c</td>\n      <td></td>\n      <td></td>\n      <td>c</td>\n      <td></td>\n      <td></td>\n      <td>c</td>\n    </tr>\n    <tr>\n      <th>80</th>\n      <td>26</td>\n      <td>3</td>\n      <td>10</td>\n      <td>18</td>\n      <td>4.59</td>\n      <td>100</td>\n      <td>And (Or (Ev (Neg (Until (Var \"a\", Var \"c\"))),...</td>\n      <td>{a| | } ; { |b|c} ; {a|b|c} ; {a|b|c} ; {a| |...</td>\n      <td>choreography</td>\n      <td>0</td>\n      <td>...</td>\n      <td></td>\n      <td>a</td>\n      <td>b</td>\n      <td>c</td>\n      <td></td>\n      <td>b</td>\n      <td></td>\n      <td>a</td>\n      <td></td>\n      <td>c</td>\n    </tr>\n  </tbody>\n</table>\n<p>81 rows × 3027 columns</p>\n</div>"
     },
     "execution_count": 48,
     "metadata": {},
     "output_type": "execute_result"
    }
   ],
   "source": [
    "expanded_df = f_ops.merge(t_events, left_index=True, right_index=True)\n",
    "expanded_df = sdf.merge(expanded_df, left_index=True, right_index=True)\n",
    "expanded_df"
   ],
   "metadata": {
    "collapsed": false,
    "pycharm": {
     "name": "#%%\n"
    }
   }
  },
  {
   "cell_type": "markdown",
   "source": [
    "## Plotting"
   ],
   "metadata": {
    "collapsed": false,
    "pycharm": {
     "name": "#%% md\n"
    }
   }
  },
  {
   "cell_type": "code",
   "execution_count": null,
   "outputs": [],
   "source": [
    "def plot(data, ax=None):\n",
    "    \"\"\"\n",
    "    Plots the data from a single-strategy dataframe\n",
    "    :param data: single-strategy dataframe\n",
    "    :return: nothing. Plots the data\n",
    "    \"\"\"\n",
    "    g = sns.catplot(\n",
    "        #ax=ax,\n",
    "        data=data, kind=\"bar\",\n",
    "        ci=\"sd\", palette=\"dark\", alpha=.8, height=6\n",
    "    )\n",
    "    g.set_axis_labels(\"\", \"Count\")"
   ],
   "metadata": {
    "collapsed": false,
    "pycharm": {
     "name": "#%%\n"
    }
   }
  },
  {
   "cell_type": "code",
   "execution_count": null,
   "outputs": [],
   "source": [
    "# Plotting\n",
    "plot(sdf)"
   ],
   "metadata": {
    "collapsed": false,
    "pycharm": {
     "name": "#%%\n"
    }
   }
  },
  {
   "cell_type": "code",
   "execution_count": null,
   "outputs": [],
   "source": [
    "g = sns.FacetGrid(merged_metrics, col=\"metric\", aspect=1.5, sharey=False)\n",
    "g.map(sns.barplot, \"strategy\", \"value\", order=[\"orchestration\", \"migration\", \"choreography\"])"
   ],
   "metadata": {
    "collapsed": false,
    "pycharm": {
     "name": "#%%\n"
    }
   }
  },
  {
   "cell_type": "code",
   "execution_count": null,
   "outputs": [],
   "source": [
    "ndf = merged_metrics.copy()\n",
    "ndf['strategy'] = ndf['strategy'].str.replace(\"^cent_\", \"1\")\n",
    "ndf['strategy'] = ndf['strategy'].str.replace(\"^decent_\", \"2\")\n",
    "ndf['strategy'] = ndf['strategy'].str.replace(\"^odecent_\", \"3\")\n",
    "ndf"
   ],
   "metadata": {
    "collapsed": false,
    "pycharm": {
     "name": "#%%\n"
    }
   }
  },
  {
   "cell_type": "code",
   "execution_count": null,
   "outputs": [],
   "source": [
    "classifier = KNeighborsClassifier(n_neighbors=3)\n",
    "classifier.fit(ndf, 'strategy')\n"
   ],
   "metadata": {
    "collapsed": false,
    "pycharm": {
     "name": "#%%\n"
    }
   }
  },
  {
   "cell_type": "code",
   "execution_count": null,
   "outputs": [],
   "source": [],
   "metadata": {
    "collapsed": false,
    "pycharm": {
     "name": "#%%\n"
    }
   }
  }
 ],
 "metadata": {
  "kernelspec": {
   "display_name": "Python 3",
   "language": "python",
   "name": "python3"
  },
  "language_info": {
   "codemirror_mode": {
    "name": "ipython",
    "version": 2
   },
   "file_extension": ".py",
   "mimetype": "text/x-python",
   "name": "python",
   "nbconvert_exporter": "python",
   "pygments_lexer": "ipython2",
   "version": "2.7.6"
  }
 },
 "nbformat": 4,
 "nbformat_minor": 0
}