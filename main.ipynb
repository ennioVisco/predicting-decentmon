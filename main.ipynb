{
 "cells": [
  {
   "cell_type": "markdown",
   "source": [
    "# Notes for decentmon data processing"
   ],
   "metadata": {
    "collapsed": false,
    "pycharm": {
     "name": "#%% md\n"
    }
   }
  },
  {
   "cell_type": "code",
   "execution_count": 1,
   "outputs": [
    {
     "name": "stdout",
     "output_type": "stream",
     "text": [
      "Requirement already satisfied: numpy in ./venv/lib/python3.8/site-packages (1.23.0)\r\n",
      "Requirement already satisfied: pandas in ./venv/lib/python3.8/site-packages (1.4.3)\r\n",
      "Requirement already satisfied: seaborn in ./venv/lib/python3.8/site-packages (0.11.2)\r\n",
      "Requirement already satisfied: matplotlib in ./venv/lib/python3.8/site-packages (3.5.2)\r\n",
      "Requirement already satisfied: sklearn in ./venv/lib/python3.8/site-packages (0.0)\r\n",
      "Requirement already satisfied: python-dateutil>=2.8.1 in ./venv/lib/python3.8/site-packages (from pandas) (2.8.2)\r\n",
      "Requirement already satisfied: pytz>=2020.1 in ./venv/lib/python3.8/site-packages (from pandas) (2022.1)\r\n",
      "Requirement already satisfied: scipy>=1.0 in ./venv/lib/python3.8/site-packages (from seaborn) (1.8.1)\r\n",
      "Requirement already satisfied: cycler>=0.10 in ./venv/lib/python3.8/site-packages (from matplotlib) (0.11.0)\r\n",
      "Requirement already satisfied: fonttools>=4.22.0 in ./venv/lib/python3.8/site-packages (from matplotlib) (4.33.3)\r\n",
      "Requirement already satisfied: packaging>=20.0 in ./venv/lib/python3.8/site-packages (from matplotlib) (21.3)\r\n",
      "Requirement already satisfied: pyparsing>=2.2.1 in ./venv/lib/python3.8/site-packages (from matplotlib) (3.0.9)\r\n",
      "Requirement already satisfied: kiwisolver>=1.0.1 in ./venv/lib/python3.8/site-packages (from matplotlib) (1.4.3)\r\n",
      "Requirement already satisfied: pillow>=6.2.0 in ./venv/lib/python3.8/site-packages (from matplotlib) (9.2.0)\r\n",
      "Requirement already satisfied: scikit-learn in ./venv/lib/python3.8/site-packages (from sklearn) (1.1.1)\r\n",
      "Requirement already satisfied: six>=1.5 in ./venv/lib/python3.8/site-packages (from python-dateutil>=2.8.1->pandas) (1.16.0)\r\n",
      "Requirement already satisfied: joblib>=1.0.0 in ./venv/lib/python3.8/site-packages (from scikit-learn->sklearn) (1.1.0)\r\n",
      "Requirement already satisfied: threadpoolctl>=2.0.0 in ./venv/lib/python3.8/site-packages (from scikit-learn->sklearn) (3.1.0)\r\n",
      "\r\n",
      "\u001B[1m[\u001B[0m\u001B[34;49mnotice\u001B[0m\u001B[1;39;49m]\u001B[0m\u001B[39;49m A new release of pip available: \u001B[0m\u001B[31;49m22.1.2\u001B[0m\u001B[39;49m -> \u001B[0m\u001B[32;49m22.2\u001B[0m\r\n",
      "\u001B[1m[\u001B[0m\u001B[34;49mnotice\u001B[0m\u001B[1;39;49m]\u001B[0m\u001B[39;49m To update, run: \u001B[0m\u001B[32;49mpip install --upgrade pip\u001B[0m\r\n"
     ]
    }
   ],
   "source": [
    "# adding required packages if not present\n",
    "!pip install numpy pandas seaborn matplotlib sklearn\n",
    "\n",
    "# importing them\n",
    "import numpy as np\n",
    "import pandas as pd\n",
    "import seaborn as sns\n",
    "import matplotlib as plt\n",
    "from sklearn.neighbors import KNeighborsClassifier"
   ],
   "metadata": {
    "collapsed": false,
    "pycharm": {
     "name": "#%%\n"
    }
   }
  },
  {
   "cell_type": "code",
   "execution_count": 2,
   "outputs": [],
   "source": [
    "# Constants\n",
    "FILENAME = \"../decent/log.txt\""
   ],
   "metadata": {
    "collapsed": false,
    "pycharm": {
     "name": "#%%\n"
    }
   }
  },
  {
   "cell_type": "code",
   "execution_count": 3,
   "outputs": [],
   "source": [
    "# idempotent transformation of input file to csv\n",
    "# file = open(FILENAME, \"rt\")\n",
    "# raw_data = file.read()\n",
    "# raw_data = raw_data.replace(' ', ',') #add commas to read it as a csv\n",
    "# file.close()\n",
    "# file = open(FILENAME, \"wt\")\n",
    "# file.write(raw_data)\n",
    "# file.close()"
   ],
   "metadata": {
    "collapsed": false,
    "pycharm": {
     "name": "#%%\n"
    }
   }
  },
  {
   "cell_type": "code",
   "execution_count": 4,
   "outputs": [
    {
     "data": {
      "text/plain": "    formula_id  x     cent_trace_len     decent_trace_len   \\\n0            0   1                  2                    3   \n1            1   1                  2                    3   \n2            2   1                  2                    3   \n3            3   1                  6                    7   \n4            4   1                  2                    3   \n5            5   1                  2                    3   \n6            6   1                  4                    5   \n7            7   1                  2                    3   \n8            8   1                  4                    5   \n9            9   1                  2                    3   \n10          10   2                  5                    6   \n11          11   2                  7                    8   \n12          12   2                  6                    7   \n13          13   2                 11                   14   \n14          14   2                  5                    6   \n15          15   2                  7                    8   \n16          16   2                  8                    9   \n17          17   2                  8                    9   \n18          18   2                 12                   14   \n19          19   2                 11                   12   \n20          20   3                  8                    9   \n21          21   3                  8                   10   \n22          22   3                 13                   15   \n23          23   3                 15                   17   \n24          24   3                 12                   14   \n25          25   3                  9                   10   \n26          26   3                  9                   11   \n\n      odecent_trace_len     cent_num_mess     decent_num_mess   \\\n0                      2                 3                   0   \n1                      2                 3                   2   \n2                      2                 3                   0   \n3                      6                15                   2   \n4                      2                 3                   2   \n5                      2                 3                   0   \n6                      4                 9                   2   \n7                      2                 3                   0   \n8                      4                 9                   2   \n9                      2                 3                   0   \n10                     5                12                   2   \n11                     7                18                  13   \n12                     6                15                   2   \n13                    12                30                  25   \n14                     5                12                   2   \n15                     7                18                   2   \n16                     8                21                   2   \n17                     9                21                   8   \n18                    13                33                  11   \n19                    11                30                   2   \n20                     8                21                   2   \n21                     9                21                   7   \n22                    14                36                   6   \n23                    16                42                   9   \n24                    13                33                   9   \n25                     9                24                   2   \n26                    10                24                   7   \n\n      odecent_num_mess     cent_size_mess     decent_size_mess   \\\n0                     0                1.0                 0.00   \n1                     0                1.0                 1.66   \n2                     0                1.0                 0.00   \n3                     0                1.0                 0.55   \n4                     0                1.0                 1.66   \n5                     0                1.0                 0.00   \n6                     0                1.0                 0.83   \n7                     0                1.0                 0.00   \n8                     0                1.0                 0.83   \n9                     0                1.0                 0.00   \n10                    0                1.0                 0.66   \n11                    5                1.0                12.28   \n12                    0                1.0                 0.55   \n13                   22                1.0                 8.89   \n14                    0                1.0                 0.66   \n15                    0                1.0                 0.47   \n16                    0                1.0                 0.41   \n17                   24                1.0                 9.29   \n18                   12                1.0                 3.07   \n19                    0                1.0                 1.63   \n20                    0                1.0                 0.58   \n21                    8                1.0                 4.62   \n22                   13                1.0                 1.07   \n23                   15                1.0                 2.33   \n24                   11                1.0                 2.51   \n25                    0                1.0                 0.37   \n26                   18                1.0                 5.30   \n\n      odecent_size_mess     cent_nb_progressions     decent_nb_progressions   \\\n0                   0.00                        3                          3   \n1                   0.00                        4                          4   \n2                   0.00                        3                          3   \n3                   0.00                       12                         24   \n4                   0.00                        4                          8   \n5                   0.00                        3                          3   \n6                   0.00                        8                         12   \n7                   0.00                        3                          3   \n8                   0.00                        8                         16   \n9                   0.00                        3                          3   \n10                  0.00                       11                         22   \n11                  1.66                      102                        322   \n12                  0.00                       12                         20   \n13                  4.84                      112                        473   \n14                  0.00                       10                         20   \n15                  0.00                       14                         28   \n16                  0.00                       16                         32   \n17                  6.75                       44                        296   \n18                  2.47                       60                        200   \n19                  0.00                       36                         76   \n20                  0.00                       24                         35   \n21                  2.25                       96                        228   \n22                  2.51                       66                        123   \n23                  2.57                      174                        286   \n24                  2.22                       96                        160   \n25                  0.00                       18                         36   \n26                  4.59                       79                        252   \n\n      odecent_nb_progressions   \\\n0                            3   \n1                            4   \n2                            3   \n3                           12   \n4                            4   \n5                            3   \n6                            8   \n7                            3   \n8                            8   \n9                            3   \n10                          11   \n11                         114   \n12                          12   \n13                         159   \n14                          10   \n15                          14   \n16                          16   \n17                         128   \n18                          74   \n19                          36   \n20                          24   \n21                         106   \n22                          81   \n23                         191   \n24                         123   \n25                          18   \n26                         100   \n\n                                             formula   \\\n0                                     Next (Var \"b\")    \n1                                       Ev (Var \"b\")    \n2                                     Next (Var \"a\")    \n3                                     Glob (Var \"b\")    \n4                                     Glob (Var \"c\")    \n5                                     Next (Var \"b\")    \n6                                       Ev (Var \"c\")    \n7                                     Next (Var \"a\")    \n8                                     Glob (Var \"b\")    \n9                                     Next (Var \"c\")    \n10                             Next (Glob (Var \"c\"))    \n11            Until (Glob (Var \"a\"), Glob (Var \"b\"))    \n12                                      Ev (Var \"c\")    \n13      Until (Ev (Var \"b\"), And (Var \"c\", Var \"a\"))    \n14                                    Glob (Var \"b\")    \n15                                    Glob (Var \"a\")    \n16                                    Glob (Var \"c\")    \n17   Until (And (Or (Neg (Var \"c\"), Var \"b\"), Or (...   \n18                   Glob (Until (Var \"a\", Var \"c\"))    \n19   And (Or (Ev (Neg (Var \"a\")), Ev (Var \"a\")), O...   \n20                                Ev (Neg (Var \"b\"))    \n21   Until (Until (Var \"c\", Var \"a\"), Glob (Var \"a...   \n22                Next (Ev (And (Var \"b\", Var \"c\")))    \n23                Ev (Next (And (Var \"a\", Var \"b\")))    \n24          Ev (And (Neg (Var \"a\"), Next (Var \"c\")))    \n25                                    Glob (Var \"b\")    \n26   And (Or (Ev (Neg (Until (Var \"a\", Var \"c\"))),...   \n\n                                                trace  \n0    {a|b| } ; { | | } ; {a| | } ; { | |c} ; { |b|...  \n1    { | |c} ; {a|b|c} ; {a| |c} ; {a|b|c} ; { |b|...  \n2    { |b|c} ; {a| | } ; {a| |c} ; { | | } ; {a|b|...  \n3    {a|b| } ; {a|b|c} ; { |b| } ; { |b|c} ; {a|b|...  \n4    {a| |c} ; { | | } ; { | | } ; {a| | } ; {a| |...  \n5    {a|b|c} ; { |b| } ; { |b| } ; {a| |c} ; { | |...  \n6    {a| | } ; { |b| } ; {a|b| } ; {a| |c} ; { | |...  \n7    {a|b|c} ; {a| |c} ; {a| | } ; {a|b|c} ; {a| |...  \n8    { |b| } ; { |b| } ; {a|b| } ; {a| |c} ; { |b|...  \n9    {a|b| } ; {a| |c} ; {a|b|c} ; {a|b| } ; {a|b|...  \n10   { | | } ; {a| |c} ; {a|b|c} ; { | |c} ; {a|b|...  \n11   {a|b|c} ; {a| | } ; {a|b| } ; {a|b| } ; {a| |...  \n12   { |b| } ; {a| | } ; { |b| } ; { | | } ; {a|b|...  \n13   { |b|c} ; { | | } ; { | |c} ; { | | } ; { |b|...  \n14   { |b|c} ; { |b|c} ; { |b| } ; {a|b| } ; {a| |...  \n15   {a|b|c} ; {a|b|c} ; {a| |c} ; {a|b| } ; {a|b|...  \n16   { |b|c} ; { |b|c} ; {a| |c} ; { | |c} ; {a|b|...  \n17   { | | } ; {a| |c} ; {a| |c} ; {a|b|c} ; {a| |...  \n18   {a| |c} ; {a| | } ; {a| |c} ; { | |c} ; {a|b|...  \n19   {a|b|c} ; {a| |c} ; {a| |c} ; {a| | } ; {a|b|...  \n20   {a|b|c} ; { |b| } ; {a|b| } ; {a|b| } ; { |b|...  \n21   {a| | } ; {a|b|c} ; {a| | } ; { | |c} ; {a| |...  \n22   { | | } ; { | | } ; {a| | } ; {a| |c} ; { | |...  \n23   { | |c} ; {a| | } ; { |b|c} ; { |b|c} ; { | |...  \n24   {a| |c} ; { | | } ; {a| | } ; { | | } ; {a|b|...  \n25   {a|b| } ; { |b| } ; { |b| } ; {a|b|c} ; {a|b|...  \n26   {a| | } ; { |b|c} ; {a|b|c} ; {a|b|c} ; {a| |...  ",
      "text/html": "<div>\n<style scoped>\n    .dataframe tbody tr th:only-of-type {\n        vertical-align: middle;\n    }\n\n    .dataframe tbody tr th {\n        vertical-align: top;\n    }\n\n    .dataframe thead th {\n        text-align: right;\n    }\n</style>\n<table border=\"1\" class=\"dataframe\">\n  <thead>\n    <tr style=\"text-align: right;\">\n      <th></th>\n      <th>formula_id</th>\n      <th>x</th>\n      <th>cent_trace_len</th>\n      <th>decent_trace_len</th>\n      <th>odecent_trace_len</th>\n      <th>cent_num_mess</th>\n      <th>decent_num_mess</th>\n      <th>odecent_num_mess</th>\n      <th>cent_size_mess</th>\n      <th>decent_size_mess</th>\n      <th>odecent_size_mess</th>\n      <th>cent_nb_progressions</th>\n      <th>decent_nb_progressions</th>\n      <th>odecent_nb_progressions</th>\n      <th>formula</th>\n      <th>trace</th>\n    </tr>\n  </thead>\n  <tbody>\n    <tr>\n      <th>0</th>\n      <td>0</td>\n      <td>1</td>\n      <td>2</td>\n      <td>3</td>\n      <td>2</td>\n      <td>3</td>\n      <td>0</td>\n      <td>0</td>\n      <td>1.0</td>\n      <td>0.00</td>\n      <td>0.00</td>\n      <td>3</td>\n      <td>3</td>\n      <td>3</td>\n      <td>Next (Var \"b\")</td>\n      <td>{a|b| } ; { | | } ; {a| | } ; { | |c} ; { |b|...</td>\n    </tr>\n    <tr>\n      <th>1</th>\n      <td>1</td>\n      <td>1</td>\n      <td>2</td>\n      <td>3</td>\n      <td>2</td>\n      <td>3</td>\n      <td>2</td>\n      <td>0</td>\n      <td>1.0</td>\n      <td>1.66</td>\n      <td>0.00</td>\n      <td>4</td>\n      <td>4</td>\n      <td>4</td>\n      <td>Ev (Var \"b\")</td>\n      <td>{ | |c} ; {a|b|c} ; {a| |c} ; {a|b|c} ; { |b|...</td>\n    </tr>\n    <tr>\n      <th>2</th>\n      <td>2</td>\n      <td>1</td>\n      <td>2</td>\n      <td>3</td>\n      <td>2</td>\n      <td>3</td>\n      <td>0</td>\n      <td>0</td>\n      <td>1.0</td>\n      <td>0.00</td>\n      <td>0.00</td>\n      <td>3</td>\n      <td>3</td>\n      <td>3</td>\n      <td>Next (Var \"a\")</td>\n      <td>{ |b|c} ; {a| | } ; {a| |c} ; { | | } ; {a|b|...</td>\n    </tr>\n    <tr>\n      <th>3</th>\n      <td>3</td>\n      <td>1</td>\n      <td>6</td>\n      <td>7</td>\n      <td>6</td>\n      <td>15</td>\n      <td>2</td>\n      <td>0</td>\n      <td>1.0</td>\n      <td>0.55</td>\n      <td>0.00</td>\n      <td>12</td>\n      <td>24</td>\n      <td>12</td>\n      <td>Glob (Var \"b\")</td>\n      <td>{a|b| } ; {a|b|c} ; { |b| } ; { |b|c} ; {a|b|...</td>\n    </tr>\n    <tr>\n      <th>4</th>\n      <td>4</td>\n      <td>1</td>\n      <td>2</td>\n      <td>3</td>\n      <td>2</td>\n      <td>3</td>\n      <td>2</td>\n      <td>0</td>\n      <td>1.0</td>\n      <td>1.66</td>\n      <td>0.00</td>\n      <td>4</td>\n      <td>8</td>\n      <td>4</td>\n      <td>Glob (Var \"c\")</td>\n      <td>{a| |c} ; { | | } ; { | | } ; {a| | } ; {a| |...</td>\n    </tr>\n    <tr>\n      <th>5</th>\n      <td>5</td>\n      <td>1</td>\n      <td>2</td>\n      <td>3</td>\n      <td>2</td>\n      <td>3</td>\n      <td>0</td>\n      <td>0</td>\n      <td>1.0</td>\n      <td>0.00</td>\n      <td>0.00</td>\n      <td>3</td>\n      <td>3</td>\n      <td>3</td>\n      <td>Next (Var \"b\")</td>\n      <td>{a|b|c} ; { |b| } ; { |b| } ; {a| |c} ; { | |...</td>\n    </tr>\n    <tr>\n      <th>6</th>\n      <td>6</td>\n      <td>1</td>\n      <td>4</td>\n      <td>5</td>\n      <td>4</td>\n      <td>9</td>\n      <td>2</td>\n      <td>0</td>\n      <td>1.0</td>\n      <td>0.83</td>\n      <td>0.00</td>\n      <td>8</td>\n      <td>12</td>\n      <td>8</td>\n      <td>Ev (Var \"c\")</td>\n      <td>{a| | } ; { |b| } ; {a|b| } ; {a| |c} ; { | |...</td>\n    </tr>\n    <tr>\n      <th>7</th>\n      <td>7</td>\n      <td>1</td>\n      <td>2</td>\n      <td>3</td>\n      <td>2</td>\n      <td>3</td>\n      <td>0</td>\n      <td>0</td>\n      <td>1.0</td>\n      <td>0.00</td>\n      <td>0.00</td>\n      <td>3</td>\n      <td>3</td>\n      <td>3</td>\n      <td>Next (Var \"a\")</td>\n      <td>{a|b|c} ; {a| |c} ; {a| | } ; {a|b|c} ; {a| |...</td>\n    </tr>\n    <tr>\n      <th>8</th>\n      <td>8</td>\n      <td>1</td>\n      <td>4</td>\n      <td>5</td>\n      <td>4</td>\n      <td>9</td>\n      <td>2</td>\n      <td>0</td>\n      <td>1.0</td>\n      <td>0.83</td>\n      <td>0.00</td>\n      <td>8</td>\n      <td>16</td>\n      <td>8</td>\n      <td>Glob (Var \"b\")</td>\n      <td>{ |b| } ; { |b| } ; {a|b| } ; {a| |c} ; { |b|...</td>\n    </tr>\n    <tr>\n      <th>9</th>\n      <td>9</td>\n      <td>1</td>\n      <td>2</td>\n      <td>3</td>\n      <td>2</td>\n      <td>3</td>\n      <td>0</td>\n      <td>0</td>\n      <td>1.0</td>\n      <td>0.00</td>\n      <td>0.00</td>\n      <td>3</td>\n      <td>3</td>\n      <td>3</td>\n      <td>Next (Var \"c\")</td>\n      <td>{a|b| } ; {a| |c} ; {a|b|c} ; {a|b| } ; {a|b|...</td>\n    </tr>\n    <tr>\n      <th>10</th>\n      <td>10</td>\n      <td>2</td>\n      <td>5</td>\n      <td>6</td>\n      <td>5</td>\n      <td>12</td>\n      <td>2</td>\n      <td>0</td>\n      <td>1.0</td>\n      <td>0.66</td>\n      <td>0.00</td>\n      <td>11</td>\n      <td>22</td>\n      <td>11</td>\n      <td>Next (Glob (Var \"c\"))</td>\n      <td>{ | | } ; {a| |c} ; {a|b|c} ; { | |c} ; {a|b|...</td>\n    </tr>\n    <tr>\n      <th>11</th>\n      <td>11</td>\n      <td>2</td>\n      <td>7</td>\n      <td>8</td>\n      <td>7</td>\n      <td>18</td>\n      <td>13</td>\n      <td>5</td>\n      <td>1.0</td>\n      <td>12.28</td>\n      <td>1.66</td>\n      <td>102</td>\n      <td>322</td>\n      <td>114</td>\n      <td>Until (Glob (Var \"a\"), Glob (Var \"b\"))</td>\n      <td>{a|b|c} ; {a| | } ; {a|b| } ; {a|b| } ; {a| |...</td>\n    </tr>\n    <tr>\n      <th>12</th>\n      <td>12</td>\n      <td>2</td>\n      <td>6</td>\n      <td>7</td>\n      <td>6</td>\n      <td>15</td>\n      <td>2</td>\n      <td>0</td>\n      <td>1.0</td>\n      <td>0.55</td>\n      <td>0.00</td>\n      <td>12</td>\n      <td>20</td>\n      <td>12</td>\n      <td>Ev (Var \"c\")</td>\n      <td>{ |b| } ; {a| | } ; { |b| } ; { | | } ; {a|b|...</td>\n    </tr>\n    <tr>\n      <th>13</th>\n      <td>13</td>\n      <td>2</td>\n      <td>11</td>\n      <td>14</td>\n      <td>12</td>\n      <td>30</td>\n      <td>25</td>\n      <td>22</td>\n      <td>1.0</td>\n      <td>8.89</td>\n      <td>4.84</td>\n      <td>112</td>\n      <td>473</td>\n      <td>159</td>\n      <td>Until (Ev (Var \"b\"), And (Var \"c\", Var \"a\"))</td>\n      <td>{ |b|c} ; { | | } ; { | |c} ; { | | } ; { |b|...</td>\n    </tr>\n    <tr>\n      <th>14</th>\n      <td>14</td>\n      <td>2</td>\n      <td>5</td>\n      <td>6</td>\n      <td>5</td>\n      <td>12</td>\n      <td>2</td>\n      <td>0</td>\n      <td>1.0</td>\n      <td>0.66</td>\n      <td>0.00</td>\n      <td>10</td>\n      <td>20</td>\n      <td>10</td>\n      <td>Glob (Var \"b\")</td>\n      <td>{ |b|c} ; { |b|c} ; { |b| } ; {a|b| } ; {a| |...</td>\n    </tr>\n    <tr>\n      <th>15</th>\n      <td>15</td>\n      <td>2</td>\n      <td>7</td>\n      <td>8</td>\n      <td>7</td>\n      <td>18</td>\n      <td>2</td>\n      <td>0</td>\n      <td>1.0</td>\n      <td>0.47</td>\n      <td>0.00</td>\n      <td>14</td>\n      <td>28</td>\n      <td>14</td>\n      <td>Glob (Var \"a\")</td>\n      <td>{a|b|c} ; {a|b|c} ; {a| |c} ; {a|b| } ; {a|b|...</td>\n    </tr>\n    <tr>\n      <th>16</th>\n      <td>16</td>\n      <td>2</td>\n      <td>8</td>\n      <td>9</td>\n      <td>8</td>\n      <td>21</td>\n      <td>2</td>\n      <td>0</td>\n      <td>1.0</td>\n      <td>0.41</td>\n      <td>0.00</td>\n      <td>16</td>\n      <td>32</td>\n      <td>16</td>\n      <td>Glob (Var \"c\")</td>\n      <td>{ |b|c} ; { |b|c} ; {a| |c} ; { | |c} ; {a|b|...</td>\n    </tr>\n    <tr>\n      <th>17</th>\n      <td>17</td>\n      <td>2</td>\n      <td>8</td>\n      <td>9</td>\n      <td>9</td>\n      <td>21</td>\n      <td>8</td>\n      <td>24</td>\n      <td>1.0</td>\n      <td>9.29</td>\n      <td>6.75</td>\n      <td>44</td>\n      <td>296</td>\n      <td>128</td>\n      <td>Until (And (Or (Neg (Var \"c\"), Var \"b\"), Or (...</td>\n      <td>{ | | } ; {a| |c} ; {a| |c} ; {a|b|c} ; {a| |...</td>\n    </tr>\n    <tr>\n      <th>18</th>\n      <td>18</td>\n      <td>2</td>\n      <td>12</td>\n      <td>14</td>\n      <td>13</td>\n      <td>33</td>\n      <td>11</td>\n      <td>12</td>\n      <td>1.0</td>\n      <td>3.07</td>\n      <td>2.47</td>\n      <td>60</td>\n      <td>200</td>\n      <td>74</td>\n      <td>Glob (Until (Var \"a\", Var \"c\"))</td>\n      <td>{a| |c} ; {a| | } ; {a| |c} ; { | |c} ; {a|b|...</td>\n    </tr>\n    <tr>\n      <th>19</th>\n      <td>19</td>\n      <td>2</td>\n      <td>11</td>\n      <td>12</td>\n      <td>11</td>\n      <td>30</td>\n      <td>2</td>\n      <td>0</td>\n      <td>1.0</td>\n      <td>1.63</td>\n      <td>0.00</td>\n      <td>36</td>\n      <td>76</td>\n      <td>36</td>\n      <td>And (Or (Ev (Neg (Var \"a\")), Ev (Var \"a\")), O...</td>\n      <td>{a|b|c} ; {a| |c} ; {a| |c} ; {a| | } ; {a|b|...</td>\n    </tr>\n    <tr>\n      <th>20</th>\n      <td>20</td>\n      <td>3</td>\n      <td>8</td>\n      <td>9</td>\n      <td>8</td>\n      <td>21</td>\n      <td>2</td>\n      <td>0</td>\n      <td>1.0</td>\n      <td>0.58</td>\n      <td>0.00</td>\n      <td>24</td>\n      <td>35</td>\n      <td>24</td>\n      <td>Ev (Neg (Var \"b\"))</td>\n      <td>{a|b|c} ; { |b| } ; {a|b| } ; {a|b| } ; { |b|...</td>\n    </tr>\n    <tr>\n      <th>21</th>\n      <td>21</td>\n      <td>3</td>\n      <td>8</td>\n      <td>10</td>\n      <td>9</td>\n      <td>21</td>\n      <td>7</td>\n      <td>8</td>\n      <td>1.0</td>\n      <td>4.62</td>\n      <td>2.25</td>\n      <td>96</td>\n      <td>228</td>\n      <td>106</td>\n      <td>Until (Until (Var \"c\", Var \"a\"), Glob (Var \"a...</td>\n      <td>{a| | } ; {a|b|c} ; {a| | } ; { | |c} ; {a| |...</td>\n    </tr>\n    <tr>\n      <th>22</th>\n      <td>22</td>\n      <td>3</td>\n      <td>13</td>\n      <td>15</td>\n      <td>14</td>\n      <td>36</td>\n      <td>6</td>\n      <td>13</td>\n      <td>1.0</td>\n      <td>1.07</td>\n      <td>2.51</td>\n      <td>66</td>\n      <td>123</td>\n      <td>81</td>\n      <td>Next (Ev (And (Var \"b\", Var \"c\")))</td>\n      <td>{ | | } ; { | | } ; {a| | } ; {a| |c} ; { | |...</td>\n    </tr>\n    <tr>\n      <th>23</th>\n      <td>23</td>\n      <td>3</td>\n      <td>15</td>\n      <td>17</td>\n      <td>16</td>\n      <td>42</td>\n      <td>9</td>\n      <td>15</td>\n      <td>1.0</td>\n      <td>2.33</td>\n      <td>2.57</td>\n      <td>174</td>\n      <td>286</td>\n      <td>191</td>\n      <td>Ev (Next (And (Var \"a\", Var \"b\")))</td>\n      <td>{ | |c} ; {a| | } ; { |b|c} ; { |b|c} ; { | |...</td>\n    </tr>\n    <tr>\n      <th>24</th>\n      <td>24</td>\n      <td>3</td>\n      <td>12</td>\n      <td>14</td>\n      <td>13</td>\n      <td>33</td>\n      <td>9</td>\n      <td>11</td>\n      <td>1.0</td>\n      <td>2.51</td>\n      <td>2.22</td>\n      <td>96</td>\n      <td>160</td>\n      <td>123</td>\n      <td>Ev (And (Neg (Var \"a\"), Next (Var \"c\")))</td>\n      <td>{a| |c} ; { | | } ; {a| | } ; { | | } ; {a|b|...</td>\n    </tr>\n    <tr>\n      <th>25</th>\n      <td>25</td>\n      <td>3</td>\n      <td>9</td>\n      <td>10</td>\n      <td>9</td>\n      <td>24</td>\n      <td>2</td>\n      <td>0</td>\n      <td>1.0</td>\n      <td>0.37</td>\n      <td>0.00</td>\n      <td>18</td>\n      <td>36</td>\n      <td>18</td>\n      <td>Glob (Var \"b\")</td>\n      <td>{a|b| } ; { |b| } ; { |b| } ; {a|b|c} ; {a|b|...</td>\n    </tr>\n    <tr>\n      <th>26</th>\n      <td>26</td>\n      <td>3</td>\n      <td>9</td>\n      <td>11</td>\n      <td>10</td>\n      <td>24</td>\n      <td>7</td>\n      <td>18</td>\n      <td>1.0</td>\n      <td>5.30</td>\n      <td>4.59</td>\n      <td>79</td>\n      <td>252</td>\n      <td>100</td>\n      <td>And (Or (Ev (Neg (Until (Var \"a\", Var \"c\"))),...</td>\n      <td>{a| | } ; { |b|c} ; {a|b|c} ; {a|b|c} ; {a| |...</td>\n    </tr>\n  </tbody>\n</table>\n</div>"
     },
     "execution_count": 4,
     "metadata": {},
     "output_type": "execute_result"
    }
   ],
   "source": [
    "df = pd.read_csv(FILENAME, sep='@')\n",
    "df.insert(0, 'formula_id', range(0, len(df)))\n",
    "df"
   ],
   "metadata": {
    "collapsed": false,
    "pycharm": {
     "name": "#%%\n"
    }
   }
  },
  {
   "cell_type": "code",
   "execution_count": 5,
   "outputs": [
    {
     "data": {
      "text/plain": "    formula_id       strategy\n0            0  orchestration\n1            1  orchestration\n2            2  orchestration\n3            3  orchestration\n4            4  orchestration\n..         ...            ...\n76          22   choreography\n77          23   choreography\n78          24   choreography\n79          25   choreography\n80          26   choreography\n\n[81 rows x 2 columns]",
      "text/html": "<div>\n<style scoped>\n    .dataframe tbody tr th:only-of-type {\n        vertical-align: middle;\n    }\n\n    .dataframe tbody tr th {\n        vertical-align: top;\n    }\n\n    .dataframe thead th {\n        text-align: right;\n    }\n</style>\n<table border=\"1\" class=\"dataframe\">\n  <thead>\n    <tr style=\"text-align: right;\">\n      <th></th>\n      <th>formula_id</th>\n      <th>strategy</th>\n    </tr>\n  </thead>\n  <tbody>\n    <tr>\n      <th>0</th>\n      <td>0</td>\n      <td>orchestration</td>\n    </tr>\n    <tr>\n      <th>1</th>\n      <td>1</td>\n      <td>orchestration</td>\n    </tr>\n    <tr>\n      <th>2</th>\n      <td>2</td>\n      <td>orchestration</td>\n    </tr>\n    <tr>\n      <th>3</th>\n      <td>3</td>\n      <td>orchestration</td>\n    </tr>\n    <tr>\n      <th>4</th>\n      <td>4</td>\n      <td>orchestration</td>\n    </tr>\n    <tr>\n      <th>...</th>\n      <td>...</td>\n      <td>...</td>\n    </tr>\n    <tr>\n      <th>76</th>\n      <td>22</td>\n      <td>choreography</td>\n    </tr>\n    <tr>\n      <th>77</th>\n      <td>23</td>\n      <td>choreography</td>\n    </tr>\n    <tr>\n      <th>78</th>\n      <td>24</td>\n      <td>choreography</td>\n    </tr>\n    <tr>\n      <th>79</th>\n      <td>25</td>\n      <td>choreography</td>\n    </tr>\n    <tr>\n      <th>80</th>\n      <td>26</td>\n      <td>choreography</td>\n    </tr>\n  </tbody>\n</table>\n<p>81 rows × 2 columns</p>\n</div>"
     },
     "execution_count": 5,
     "metadata": {},
     "output_type": "execute_result"
    }
   ],
   "source": [
    "def split(data):\n",
    "    \"\"\"\n",
    "    Splits the multiple-strategies Decentmon dataframe in 3 single-strategy dataframes\n",
    "    :param data: 3-strategy dataframe\n",
    "    :return: triple of single-strategy dataframes\n",
    "    \"\"\"\n",
    "    def filter_clean(prefix, replacement):\n",
    "        to_return = data.filter(regex=f\"^{prefix}.*\").copy()\n",
    "        to_return['formula_id'] = data['formula_id']\n",
    "        to_return.columns = to_return.columns.str.replace(prefix, \"\")\n",
    "        to_return['strategy'] = replacement\n",
    "        return to_return\n",
    "    return filter_clean(\"cent_\", \"orchestration\"), filter_clean(\"decent_\", \"migration\"), filter_clean(\"odecent_\", \"choreography\")\n",
    "\n",
    "(cent, decent, odecent ) = split(df)\n",
    "\n",
    "merged = pd.concat([cent, decent, odecent], ignore_index=True)\n",
    "merged"
   ],
   "metadata": {
    "collapsed": false,
    "pycharm": {
     "name": "#%%\n"
    }
   }
  },
  {
   "cell_type": "code",
   "execution_count": 6,
   "outputs": [
    {
     "ename": "KeyError",
     "evalue": "\"['trace_len'] not in index\"",
     "output_type": "error",
     "traceback": [
      "\u001B[0;31m---------------------------------------------------------------------------\u001B[0m",
      "\u001B[0;31mKeyError\u001B[0m                                  Traceback (most recent call last)",
      "Input \u001B[0;32mIn [6]\u001B[0m, in \u001B[0;36m<cell line: 13>\u001B[0;34m()\u001B[0m\n\u001B[1;32m     10\u001B[0m     data \u001B[38;5;241m=\u001B[39m data\u001B[38;5;241m.\u001B[39mrename(columns\u001B[38;5;241m=\u001B[39m{metric:\u001B[38;5;124m\"\u001B[39m\u001B[38;5;124mvalue\u001B[39m\u001B[38;5;124m\"\u001B[39m})\n\u001B[1;32m     11\u001B[0m     \u001B[38;5;28;01mreturn\u001B[39;00m data\n\u001B[0;32m---> 13\u001B[0m trace_length \u001B[38;5;241m=\u001B[39m \u001B[43mextract_metric\u001B[49m\u001B[43m(\u001B[49m\u001B[43mmerged\u001B[49m\u001B[43m,\u001B[49m\u001B[43m \u001B[49m\u001B[38;5;124;43m\"\u001B[39;49m\u001B[38;5;124;43mtrace_len\u001B[39;49m\u001B[38;5;124;43m\"\u001B[39;49m\u001B[43m)\u001B[49m\n\u001B[1;32m     14\u001B[0m num_mess \u001B[38;5;241m=\u001B[39m extract_metric(merged, \u001B[38;5;124m\"\u001B[39m\u001B[38;5;124mnum_mess\u001B[39m\u001B[38;5;124m\"\u001B[39m)\n\u001B[1;32m     15\u001B[0m size_mess \u001B[38;5;241m=\u001B[39m extract_metric(merged, \u001B[38;5;124m\"\u001B[39m\u001B[38;5;124msize_mess\u001B[39m\u001B[38;5;124m\"\u001B[39m)\n",
      "Input \u001B[0;32mIn [6]\u001B[0m, in \u001B[0;36mextract_metric\u001B[0;34m(data, metric)\u001B[0m\n\u001B[1;32m      1\u001B[0m \u001B[38;5;28;01mdef\u001B[39;00m \u001B[38;5;21mextract_metric\u001B[39m(data, metric):\n\u001B[1;32m      2\u001B[0m     \u001B[38;5;124;03m\"\"\"\u001B[39;00m\n\u001B[1;32m      3\u001B[0m \u001B[38;5;124;03m    Extracts the given column metric to the pair of columns (metric, value)\u001B[39;00m\n\u001B[1;32m      4\u001B[0m \u001B[38;5;124;03m    :param data: the dataframe having the current metric\u001B[39;00m\n\u001B[1;32m      5\u001B[0m \u001B[38;5;124;03m    :param metric: the metric to extract\u001B[39;00m\n\u001B[1;32m      6\u001B[0m \u001B[38;5;124;03m    :return: a copy of the original dataframe where the metric column is replaced with the pair (metric, value)\u001B[39;00m\n\u001B[1;32m      7\u001B[0m \u001B[38;5;124;03m    \"\"\"\u001B[39;00m\n\u001B[0;32m----> 8\u001B[0m     data \u001B[38;5;241m=\u001B[39m \u001B[43mmerged\u001B[49m\u001B[43m[\u001B[49m\u001B[43m[\u001B[49m\u001B[38;5;124;43m'\u001B[39;49m\u001B[38;5;124;43mformula_id\u001B[39;49m\u001B[38;5;124;43m'\u001B[39;49m\u001B[43m,\u001B[49m\u001B[43m \u001B[49m\u001B[38;5;124;43m'\u001B[39;49m\u001B[38;5;124;43mstrategy\u001B[39;49m\u001B[38;5;124;43m'\u001B[39;49m\u001B[43m,\u001B[49m\u001B[43m \u001B[49m\u001B[43mmetric\u001B[49m\u001B[43m]\u001B[49m\u001B[43m]\u001B[49m\u001B[38;5;241m.\u001B[39mcopy()\n\u001B[1;32m      9\u001B[0m     data[\u001B[38;5;124m'\u001B[39m\u001B[38;5;124mmetric\u001B[39m\u001B[38;5;124m'\u001B[39m] \u001B[38;5;241m=\u001B[39m metric\n\u001B[1;32m     10\u001B[0m     data \u001B[38;5;241m=\u001B[39m data\u001B[38;5;241m.\u001B[39mrename(columns\u001B[38;5;241m=\u001B[39m{metric:\u001B[38;5;124m\"\u001B[39m\u001B[38;5;124mvalue\u001B[39m\u001B[38;5;124m\"\u001B[39m})\n",
      "File \u001B[0;32m~/source/repos/distributed-monitor/venv/lib/python3.8/site-packages/pandas/core/frame.py:3511\u001B[0m, in \u001B[0;36mDataFrame.__getitem__\u001B[0;34m(self, key)\u001B[0m\n\u001B[1;32m   3509\u001B[0m     \u001B[38;5;28;01mif\u001B[39;00m is_iterator(key):\n\u001B[1;32m   3510\u001B[0m         key \u001B[38;5;241m=\u001B[39m \u001B[38;5;28mlist\u001B[39m(key)\n\u001B[0;32m-> 3511\u001B[0m     indexer \u001B[38;5;241m=\u001B[39m \u001B[38;5;28;43mself\u001B[39;49m\u001B[38;5;241;43m.\u001B[39;49m\u001B[43mcolumns\u001B[49m\u001B[38;5;241;43m.\u001B[39;49m\u001B[43m_get_indexer_strict\u001B[49m\u001B[43m(\u001B[49m\u001B[43mkey\u001B[49m\u001B[43m,\u001B[49m\u001B[43m \u001B[49m\u001B[38;5;124;43m\"\u001B[39;49m\u001B[38;5;124;43mcolumns\u001B[39;49m\u001B[38;5;124;43m\"\u001B[39;49m\u001B[43m)\u001B[49m[\u001B[38;5;241m1\u001B[39m]\n\u001B[1;32m   3513\u001B[0m \u001B[38;5;66;03m# take() does not accept boolean indexers\u001B[39;00m\n\u001B[1;32m   3514\u001B[0m \u001B[38;5;28;01mif\u001B[39;00m \u001B[38;5;28mgetattr\u001B[39m(indexer, \u001B[38;5;124m\"\u001B[39m\u001B[38;5;124mdtype\u001B[39m\u001B[38;5;124m\"\u001B[39m, \u001B[38;5;28;01mNone\u001B[39;00m) \u001B[38;5;241m==\u001B[39m \u001B[38;5;28mbool\u001B[39m:\n",
      "File \u001B[0;32m~/source/repos/distributed-monitor/venv/lib/python3.8/site-packages/pandas/core/indexes/base.py:5782\u001B[0m, in \u001B[0;36mIndex._get_indexer_strict\u001B[0;34m(self, key, axis_name)\u001B[0m\n\u001B[1;32m   5779\u001B[0m \u001B[38;5;28;01melse\u001B[39;00m:\n\u001B[1;32m   5780\u001B[0m     keyarr, indexer, new_indexer \u001B[38;5;241m=\u001B[39m \u001B[38;5;28mself\u001B[39m\u001B[38;5;241m.\u001B[39m_reindex_non_unique(keyarr)\n\u001B[0;32m-> 5782\u001B[0m \u001B[38;5;28;43mself\u001B[39;49m\u001B[38;5;241;43m.\u001B[39;49m\u001B[43m_raise_if_missing\u001B[49m\u001B[43m(\u001B[49m\u001B[43mkeyarr\u001B[49m\u001B[43m,\u001B[49m\u001B[43m \u001B[49m\u001B[43mindexer\u001B[49m\u001B[43m,\u001B[49m\u001B[43m \u001B[49m\u001B[43maxis_name\u001B[49m\u001B[43m)\u001B[49m\n\u001B[1;32m   5784\u001B[0m keyarr \u001B[38;5;241m=\u001B[39m \u001B[38;5;28mself\u001B[39m\u001B[38;5;241m.\u001B[39mtake(indexer)\n\u001B[1;32m   5785\u001B[0m \u001B[38;5;28;01mif\u001B[39;00m \u001B[38;5;28misinstance\u001B[39m(key, Index):\n\u001B[1;32m   5786\u001B[0m     \u001B[38;5;66;03m# GH 42790 - Preserve name from an Index\u001B[39;00m\n",
      "File \u001B[0;32m~/source/repos/distributed-monitor/venv/lib/python3.8/site-packages/pandas/core/indexes/base.py:5845\u001B[0m, in \u001B[0;36mIndex._raise_if_missing\u001B[0;34m(self, key, indexer, axis_name)\u001B[0m\n\u001B[1;32m   5842\u001B[0m     \u001B[38;5;28;01mraise\u001B[39;00m \u001B[38;5;167;01mKeyError\u001B[39;00m(\u001B[38;5;124mf\u001B[39m\u001B[38;5;124m\"\u001B[39m\u001B[38;5;124mNone of [\u001B[39m\u001B[38;5;132;01m{\u001B[39;00mkey\u001B[38;5;132;01m}\u001B[39;00m\u001B[38;5;124m] are in the [\u001B[39m\u001B[38;5;132;01m{\u001B[39;00maxis_name\u001B[38;5;132;01m}\u001B[39;00m\u001B[38;5;124m]\u001B[39m\u001B[38;5;124m\"\u001B[39m)\n\u001B[1;32m   5844\u001B[0m not_found \u001B[38;5;241m=\u001B[39m \u001B[38;5;28mlist\u001B[39m(ensure_index(key)[missing_mask\u001B[38;5;241m.\u001B[39mnonzero()[\u001B[38;5;241m0\u001B[39m]]\u001B[38;5;241m.\u001B[39munique())\n\u001B[0;32m-> 5845\u001B[0m \u001B[38;5;28;01mraise\u001B[39;00m \u001B[38;5;167;01mKeyError\u001B[39;00m(\u001B[38;5;124mf\u001B[39m\u001B[38;5;124m\"\u001B[39m\u001B[38;5;132;01m{\u001B[39;00mnot_found\u001B[38;5;132;01m}\u001B[39;00m\u001B[38;5;124m not in index\u001B[39m\u001B[38;5;124m\"\u001B[39m)\n",
      "\u001B[0;31mKeyError\u001B[0m: \"['trace_len'] not in index\""
     ]
    }
   ],
   "source": [
    "def extract_metric(data, metric):\n",
    "    \"\"\"\n",
    "    Extracts the given column metric to the pair of columns (metric, value)\n",
    "    :param data: the dataframe having the current metric\n",
    "    :param metric: the metric to extract\n",
    "    :return: a copy of the original dataframe where the metric column is replaced with the pair (metric, value)\n",
    "    \"\"\"\n",
    "    data = merged[['formula_id', 'strategy', metric]].copy()\n",
    "    data['metric'] = metric\n",
    "    data = data.rename(columns={metric:\"value\"})\n",
    "    return data\n",
    "\n",
    "trace_length = extract_metric(merged, \"trace_len\")\n",
    "num_mess = extract_metric(merged, \"num_mess\")\n",
    "size_mess = extract_metric(merged, \"size_mess\")\n",
    "nb_progressions = extract_metric(merged, \"nb_progressions\")\n",
    "merged_metrics = pd.concat([trace_length, num_mess, size_mess, nb_progressions])\n",
    "merged_metrics"
   ],
   "metadata": {
    "collapsed": false,
    "pycharm": {
     "name": "#%%\n"
    }
   }
  },
  {
   "cell_type": "code",
   "execution_count": null,
   "outputs": [],
   "source": [
    "def plot(data, ax=None):\n",
    "    \"\"\"\n",
    "    Plots the data from a single-strategy dataframe\n",
    "    :param data: single-strategy dataframe\n",
    "    :return: nothing. Plots the data\n",
    "    \"\"\"\n",
    "    g = sns.catplot(\n",
    "        #ax=ax,\n",
    "        data=data, kind=\"bar\",\n",
    "        ci=\"sd\", palette=\"dark\", alpha=.8, height=6\n",
    "    )\n",
    "    g.set_axis_labels(\"\", \"Count\")"
   ],
   "metadata": {
    "collapsed": false,
    "pycharm": {
     "name": "#%%\n"
    }
   }
  },
  {
   "cell_type": "code",
   "execution_count": null,
   "outputs": [],
   "source": [
    "# Plotting\n",
    "plot(merged)"
   ],
   "metadata": {
    "collapsed": false,
    "pycharm": {
     "name": "#%%\n"
    }
   }
  },
  {
   "cell_type": "code",
   "execution_count": null,
   "outputs": [],
   "source": [
    "g = sns.FacetGrid(merged_metrics, col=\"metric\", aspect=1.5, sharey=False)\n",
    "g.map(sns.barplot, \"strategy\", \"value\", order=[\"orchestration\", \"migration\", \"choreography\"])"
   ],
   "metadata": {
    "collapsed": false,
    "pycharm": {
     "name": "#%%\n"
    }
   }
  },
  {
   "cell_type": "code",
   "execution_count": null,
   "outputs": [],
   "source": [
    "ndf = merged_metrics.copy()\n",
    "ndf['strategy'] = ndf['strategy'].str.replace(\"^cent_\", \"1\")\n",
    "ndf['strategy'] = ndf['strategy'].str.replace(\"^decent_\", \"2\")\n",
    "ndf['strategy'] = ndf['strategy'].str.replace(\"^odecent_\", \"3\")\n",
    "ndf"
   ],
   "metadata": {
    "collapsed": false,
    "pycharm": {
     "name": "#%%\n"
    }
   }
  },
  {
   "cell_type": "code",
   "execution_count": null,
   "outputs": [],
   "source": [
    "classifier = KNeighborsClassifier(n_neighbors=3)\n",
    "classifier.fit(ndf, 'strategy')\n"
   ],
   "metadata": {
    "collapsed": false,
    "pycharm": {
     "name": "#%%\n"
    }
   }
  },
  {
   "cell_type": "code",
   "execution_count": null,
   "outputs": [],
   "source": [],
   "metadata": {
    "collapsed": false,
    "pycharm": {
     "name": "#%%\n"
    }
   }
  }
 ],
 "metadata": {
  "kernelspec": {
   "display_name": "Python 3",
   "language": "python",
   "name": "python3"
  },
  "language_info": {
   "codemirror_mode": {
    "name": "ipython",
    "version": 2
   },
   "file_extension": ".py",
   "mimetype": "text/x-python",
   "name": "python",
   "nbconvert_exporter": "python",
   "pygments_lexer": "ipython2",
   "version": "2.7.6"
  }
 },
 "nbformat": 4,
 "nbformat_minor": 0
}