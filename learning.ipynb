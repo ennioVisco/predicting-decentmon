{
 "cells": [
  {
   "cell_type": "code",
   "execution_count": 8,
   "metadata": {
    "collapsed": true
   },
   "outputs": [],
   "source": [
    "# noinspection PyUnresolvedReferences\n",
    "from ipynb.fs.full.preparation import expanded_df, expanded_df2"
   ]
  },
  {
   "cell_type": "code",
   "execution_count": 9,
   "outputs": [],
   "source": [
    "from sklearn.neighbors import KNeighborsClassifier\n",
    "from sklearn.model_selection import train_test_split\n",
    "from sklearn.preprocessing import normalize"
   ],
   "metadata": {
    "collapsed": false
   }
  },
  {
   "cell_type": "markdown",
   "source": [
    "## Classification"
   ],
   "metadata": {
    "collapsed": false
   }
  },
  {
   "cell_type": "markdown",
   "source": [
    "We drop columns that are not numeric (and in our case, present in the dataset in other forms)"
   ],
   "metadata": {
    "collapsed": false
   }
  },
  {
   "cell_type": "code",
   "execution_count": 10,
   "outputs": [],
   "source": [
    "cols_to_drop = ['formula', 'trace', 'strategy']"
   ],
   "metadata": {
    "collapsed": false
   }
  },
  {
   "cell_type": "code",
   "execution_count": 11,
   "outputs": [
    {
     "data": {
      "text/plain": "      formula_id  x  trace_len  num_mess  size_mess  nb_progressions  \\\n0              0  1          2         3       1.00                3   \n1              1  1          2         3       1.00                3   \n2              2  1          2         3       1.00                3   \n3              3  1          2         3       1.00                3   \n4              4  1          2         3       1.00                4   \n...          ... ..        ...       ...        ...              ...   \n9118        3036  5         21        79      10.76             1153   \n9119        3037  5         18        51       7.88             1041   \n9120        3038  5         22        21       2.76              143   \n9121        3039  5         25        48       5.66              310   \n9122        3040  5         39       114       9.18             1442   \n\n      total_ops_list_1  total_ops_list_10  total_ops_list_100  \\\n0                   11                0.0                 0.0   \n1                   11                0.0                 0.0   \n2                   11                0.0                 0.0   \n3                   11                0.0                 0.0   \n4                   13                0.0                 0.0   \n...                ...                ...                 ...   \n9118                10               13.0                 0.0   \n9119                10               13.0                 0.0   \n9120                11               -1.0                 0.0   \n9121                11                0.0                 0.0   \n9122                12               10.0                 0.0   \n\n      total_ops_list_101  ...  total_ops_list_91  total_ops_list_92  \\\n0                    0.0  ...                0.0                0.0   \n1                    0.0  ...                0.0                0.0   \n2                    0.0  ...                0.0                0.0   \n3                    0.0  ...                0.0                0.0   \n4                    0.0  ...                0.0                0.0   \n...                  ...  ...                ...                ...   \n9118                 0.0  ...                0.0                0.0   \n9119                 0.0  ...                0.0                0.0   \n9120                 0.0  ...                0.0                0.0   \n9121                 0.0  ...                0.0                0.0   \n9122                 0.0  ...                0.0                0.0   \n\n      total_ops_list_93  total_ops_list_94  total_ops_list_95  \\\n0                   0.0                0.0                0.0   \n1                   0.0                0.0                0.0   \n2                   0.0                0.0                0.0   \n3                   0.0                0.0                0.0   \n4                   0.0                0.0                0.0   \n...                 ...                ...                ...   \n9118                0.0                0.0                0.0   \n9119                0.0                0.0                0.0   \n9120                0.0                0.0                0.0   \n9121                0.0                0.0                0.0   \n9122                0.0                0.0                0.0   \n\n      total_ops_list_96  total_ops_list_97  total_ops_list_98  \\\n0                   0.0                0.0                0.0   \n1                   0.0                0.0                0.0   \n2                   0.0                0.0                0.0   \n3                   0.0                0.0                0.0   \n4                   0.0                0.0                0.0   \n...                 ...                ...                ...   \n9118                0.0                0.0                0.0   \n9119                0.0                0.0                0.0   \n9120                0.0                0.0                0.0   \n9121                0.0                0.0                0.0   \n9122                0.0                0.0                0.0   \n\n      total_ops_list_99  strategy_id  \n0                   0.0            2  \n1                   0.0            2  \n2                   0.0            2  \n3                   0.0            2  \n4                   0.0            2  \n...                 ...          ...  \n9118                0.0            0  \n9119                0.0            0  \n9120                0.0            0  \n9121                0.0            0  \n9122                0.0            0  \n\n[9123 rows x 178 columns]",
      "text/html": "<div>\n<style scoped>\n    .dataframe tbody tr th:only-of-type {\n        vertical-align: middle;\n    }\n\n    .dataframe tbody tr th {\n        vertical-align: top;\n    }\n\n    .dataframe thead th {\n        text-align: right;\n    }\n</style>\n<table border=\"1\" class=\"dataframe\">\n  <thead>\n    <tr style=\"text-align: right;\">\n      <th></th>\n      <th>formula_id</th>\n      <th>x</th>\n      <th>trace_len</th>\n      <th>num_mess</th>\n      <th>size_mess</th>\n      <th>nb_progressions</th>\n      <th>total_ops_list_1</th>\n      <th>total_ops_list_10</th>\n      <th>total_ops_list_100</th>\n      <th>total_ops_list_101</th>\n      <th>...</th>\n      <th>total_ops_list_91</th>\n      <th>total_ops_list_92</th>\n      <th>total_ops_list_93</th>\n      <th>total_ops_list_94</th>\n      <th>total_ops_list_95</th>\n      <th>total_ops_list_96</th>\n      <th>total_ops_list_97</th>\n      <th>total_ops_list_98</th>\n      <th>total_ops_list_99</th>\n      <th>strategy_id</th>\n    </tr>\n  </thead>\n  <tbody>\n    <tr>\n      <th>0</th>\n      <td>0</td>\n      <td>1</td>\n      <td>2</td>\n      <td>3</td>\n      <td>1.00</td>\n      <td>3</td>\n      <td>11</td>\n      <td>0.0</td>\n      <td>0.0</td>\n      <td>0.0</td>\n      <td>...</td>\n      <td>0.0</td>\n      <td>0.0</td>\n      <td>0.0</td>\n      <td>0.0</td>\n      <td>0.0</td>\n      <td>0.0</td>\n      <td>0.0</td>\n      <td>0.0</td>\n      <td>0.0</td>\n      <td>2</td>\n    </tr>\n    <tr>\n      <th>1</th>\n      <td>1</td>\n      <td>1</td>\n      <td>2</td>\n      <td>3</td>\n      <td>1.00</td>\n      <td>3</td>\n      <td>11</td>\n      <td>0.0</td>\n      <td>0.0</td>\n      <td>0.0</td>\n      <td>...</td>\n      <td>0.0</td>\n      <td>0.0</td>\n      <td>0.0</td>\n      <td>0.0</td>\n      <td>0.0</td>\n      <td>0.0</td>\n      <td>0.0</td>\n      <td>0.0</td>\n      <td>0.0</td>\n      <td>2</td>\n    </tr>\n    <tr>\n      <th>2</th>\n      <td>2</td>\n      <td>1</td>\n      <td>2</td>\n      <td>3</td>\n      <td>1.00</td>\n      <td>3</td>\n      <td>11</td>\n      <td>0.0</td>\n      <td>0.0</td>\n      <td>0.0</td>\n      <td>...</td>\n      <td>0.0</td>\n      <td>0.0</td>\n      <td>0.0</td>\n      <td>0.0</td>\n      <td>0.0</td>\n      <td>0.0</td>\n      <td>0.0</td>\n      <td>0.0</td>\n      <td>0.0</td>\n      <td>2</td>\n    </tr>\n    <tr>\n      <th>3</th>\n      <td>3</td>\n      <td>1</td>\n      <td>2</td>\n      <td>3</td>\n      <td>1.00</td>\n      <td>3</td>\n      <td>11</td>\n      <td>0.0</td>\n      <td>0.0</td>\n      <td>0.0</td>\n      <td>...</td>\n      <td>0.0</td>\n      <td>0.0</td>\n      <td>0.0</td>\n      <td>0.0</td>\n      <td>0.0</td>\n      <td>0.0</td>\n      <td>0.0</td>\n      <td>0.0</td>\n      <td>0.0</td>\n      <td>2</td>\n    </tr>\n    <tr>\n      <th>4</th>\n      <td>4</td>\n      <td>1</td>\n      <td>2</td>\n      <td>3</td>\n      <td>1.00</td>\n      <td>4</td>\n      <td>13</td>\n      <td>0.0</td>\n      <td>0.0</td>\n      <td>0.0</td>\n      <td>...</td>\n      <td>0.0</td>\n      <td>0.0</td>\n      <td>0.0</td>\n      <td>0.0</td>\n      <td>0.0</td>\n      <td>0.0</td>\n      <td>0.0</td>\n      <td>0.0</td>\n      <td>0.0</td>\n      <td>2</td>\n    </tr>\n    <tr>\n      <th>...</th>\n      <td>...</td>\n      <td>...</td>\n      <td>...</td>\n      <td>...</td>\n      <td>...</td>\n      <td>...</td>\n      <td>...</td>\n      <td>...</td>\n      <td>...</td>\n      <td>...</td>\n      <td>...</td>\n      <td>...</td>\n      <td>...</td>\n      <td>...</td>\n      <td>...</td>\n      <td>...</td>\n      <td>...</td>\n      <td>...</td>\n      <td>...</td>\n      <td>...</td>\n      <td>...</td>\n    </tr>\n    <tr>\n      <th>9118</th>\n      <td>3036</td>\n      <td>5</td>\n      <td>21</td>\n      <td>79</td>\n      <td>10.76</td>\n      <td>1153</td>\n      <td>10</td>\n      <td>13.0</td>\n      <td>0.0</td>\n      <td>0.0</td>\n      <td>...</td>\n      <td>0.0</td>\n      <td>0.0</td>\n      <td>0.0</td>\n      <td>0.0</td>\n      <td>0.0</td>\n      <td>0.0</td>\n      <td>0.0</td>\n      <td>0.0</td>\n      <td>0.0</td>\n      <td>0</td>\n    </tr>\n    <tr>\n      <th>9119</th>\n      <td>3037</td>\n      <td>5</td>\n      <td>18</td>\n      <td>51</td>\n      <td>7.88</td>\n      <td>1041</td>\n      <td>10</td>\n      <td>13.0</td>\n      <td>0.0</td>\n      <td>0.0</td>\n      <td>...</td>\n      <td>0.0</td>\n      <td>0.0</td>\n      <td>0.0</td>\n      <td>0.0</td>\n      <td>0.0</td>\n      <td>0.0</td>\n      <td>0.0</td>\n      <td>0.0</td>\n      <td>0.0</td>\n      <td>0</td>\n    </tr>\n    <tr>\n      <th>9120</th>\n      <td>3038</td>\n      <td>5</td>\n      <td>22</td>\n      <td>21</td>\n      <td>2.76</td>\n      <td>143</td>\n      <td>11</td>\n      <td>-1.0</td>\n      <td>0.0</td>\n      <td>0.0</td>\n      <td>...</td>\n      <td>0.0</td>\n      <td>0.0</td>\n      <td>0.0</td>\n      <td>0.0</td>\n      <td>0.0</td>\n      <td>0.0</td>\n      <td>0.0</td>\n      <td>0.0</td>\n      <td>0.0</td>\n      <td>0</td>\n    </tr>\n    <tr>\n      <th>9121</th>\n      <td>3039</td>\n      <td>5</td>\n      <td>25</td>\n      <td>48</td>\n      <td>5.66</td>\n      <td>310</td>\n      <td>11</td>\n      <td>0.0</td>\n      <td>0.0</td>\n      <td>0.0</td>\n      <td>...</td>\n      <td>0.0</td>\n      <td>0.0</td>\n      <td>0.0</td>\n      <td>0.0</td>\n      <td>0.0</td>\n      <td>0.0</td>\n      <td>0.0</td>\n      <td>0.0</td>\n      <td>0.0</td>\n      <td>0</td>\n    </tr>\n    <tr>\n      <th>9122</th>\n      <td>3040</td>\n      <td>5</td>\n      <td>39</td>\n      <td>114</td>\n      <td>9.18</td>\n      <td>1442</td>\n      <td>12</td>\n      <td>10.0</td>\n      <td>0.0</td>\n      <td>0.0</td>\n      <td>...</td>\n      <td>0.0</td>\n      <td>0.0</td>\n      <td>0.0</td>\n      <td>0.0</td>\n      <td>0.0</td>\n      <td>0.0</td>\n      <td>0.0</td>\n      <td>0.0</td>\n      <td>0.0</td>\n      <td>0</td>\n    </tr>\n  </tbody>\n</table>\n<p>9123 rows × 178 columns</p>\n</div>"
     },
     "execution_count": 11,
     "metadata": {},
     "output_type": "execute_result"
    }
   ],
   "source": [
    "final_df = expanded_df.drop(cols_to_drop, axis=1)\n",
    "final_df = final_df.fillna(0)\n",
    "final_df"
   ],
   "metadata": {
    "collapsed": false
   }
  },
  {
   "cell_type": "code",
   "execution_count": 12,
   "outputs": [],
   "source": [
    "TARGET = 'strategy_id'"
   ],
   "metadata": {
    "collapsed": false
   }
  },
  {
   "cell_type": "code",
   "execution_count": 13,
   "outputs": [],
   "source": [
    "y = final_df[TARGET].values\n",
    "X = final_df.drop(TARGET, axis=1)\n",
    "X = normalize(X)\n",
    "X_train, X_test, y_train, y_test = train_test_split(X, y, test_size=0.3, random_state=0)"
   ],
   "metadata": {
    "collapsed": false
   }
  },
  {
   "cell_type": "code",
   "execution_count": 14,
   "outputs": [
    {
     "data": {
      "text/plain": "0.9046401169163317"
     },
     "execution_count": 14,
     "metadata": {},
     "output_type": "execute_result"
    }
   ],
   "source": [
    "# K Neighbors Classifier\n",
    "kn_classifier = KNeighborsClassifier(n_neighbors=3)\n",
    "kn_classifier.fit(X_train, y_train)\n",
    "\n",
    "kn_classifier.score(X_test, y_test)\n",
    "\n",
    "y_pred = kn_classifier.predict(X_test)\n",
    "kn_classifier.score(X_test, y_test)"
   ],
   "metadata": {
    "collapsed": false
   }
  },
  {
   "cell_type": "code",
   "execution_count": 7,
   "outputs": [],
   "source": [],
   "metadata": {
    "collapsed": false
   }
  }
 ],
 "metadata": {
  "kernelspec": {
   "display_name": "Python 3",
   "language": "python",
   "name": "python3"
  },
  "language_info": {
   "codemirror_mode": {
    "name": "ipython",
    "version": 2
   },
   "file_extension": ".py",
   "mimetype": "text/x-python",
   "name": "python",
   "nbconvert_exporter": "python",
   "pygments_lexer": "ipython2",
   "version": "2.7.6"
  }
 },
 "nbformat": 4,
 "nbformat_minor": 0
}
