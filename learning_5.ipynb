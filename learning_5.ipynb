{
 "cells": [
  {
   "cell_type": "code",
   "execution_count": 2,
   "outputs": [],
   "source": [
    "# noinspection PyUnresolvedReferences\n",
    "from ipynb.fs.full.full_data_5 import full_scale_df_5 as full_scale_df"
   ],
   "metadata": {
    "collapsed": false
   }
  },
  {
   "cell_type": "code",
   "execution_count": 3,
   "outputs": [],
   "source": [
    "from sklearn.neighbors import KNeighborsClassifier\n",
    "\n",
    "from decmon.learning import *"
   ],
   "metadata": {
    "collapsed": false
   }
  },
  {
   "cell_type": "markdown",
   "source": [
    "## Classification"
   ],
   "metadata": {
    "collapsed": false
   }
  },
  {
   "cell_type": "markdown",
   "source": [
    "We drop columns that are not numeric (and in our case, present in the dataset in other forms)"
   ],
   "metadata": {
    "collapsed": false
   }
  },
  {
   "cell_type": "code",
   "execution_count": 4,
   "outputs": [],
   "source": [
    "cols_to_drop = ['formula', 'trace', 'strategy']"
   ],
   "metadata": {
    "collapsed": false
   }
  },
  {
   "cell_type": "code",
   "execution_count": 5,
   "outputs": [],
   "source": [
    "TARGET = 'strategy_id'\n",
    "N_CLASSES = 3 # orchestration, migration, choreography"
   ],
   "metadata": {
    "collapsed": false
   }
  },
  {
   "cell_type": "code",
   "execution_count": 6,
   "outputs": [],
   "source": [
    "final_df = clean_df(full_scale_df, cols_to_drop)"
   ],
   "metadata": {
    "collapsed": false
   }
  },
  {
   "cell_type": "code",
   "execution_count": 7,
   "outputs": [],
   "source": [
    "X_train, X_test, y_train, y_test = prepare_learning_sets(final_df, TARGET)"
   ],
   "metadata": {
    "collapsed": false
   }
  },
  {
   "cell_type": "markdown",
   "source": [
    "### K-Neighbours Classifier"
   ],
   "metadata": {
    "collapsed": false
   }
  },
  {
   "cell_type": "code",
   "execution_count": 8,
   "outputs": [
    {
     "data": {
      "text/plain": "0.9377422901116704"
     },
     "execution_count": 8,
     "metadata": {},
     "output_type": "execute_result"
    }
   ],
   "source": [
    "# K Neighbors Classifier\n",
    "kn_classifier = KNeighborsClassifier(n_neighbors=3)\n",
    "kn_classifier.fit(X_train, y_train)\n",
    "\n",
    "kn_classifier.score(X_test, y_test)\n",
    "\n",
    "#y_pred = kn_classifier.predict(X_test)\n",
    "#y_pred"
   ],
   "metadata": {
    "collapsed": false
   }
  },
  {
   "cell_type": "code",
   "execution_count": 9,
   "outputs": [
    {
     "data": {
      "text/plain": "0.9377422901116704"
     },
     "execution_count": 9,
     "metadata": {},
     "output_type": "execute_result"
    }
   ],
   "source": [
    "final_full_df = clean_df(full_scale_df, cols_to_drop)\n",
    "f_X_train, f_X_test, f_y_train, f_y_test = prepare_learning_sets(final_full_df, TARGET)\n",
    "\n",
    "kn_classifier = KNeighborsClassifier(n_neighbors=3)\n",
    "kn_classifier.fit(f_X_train, f_y_train)\n",
    "\n",
    "kn_classifier.score(f_X_test, f_y_test)"
   ],
   "metadata": {
    "collapsed": false
   }
  },
  {
   "cell_type": "code",
   "execution_count": 10,
   "outputs": [
    {
     "data": {
      "text/plain": "       formula_id  x  trace_len  num_mess  size_mess  nb_progressions  \\\n0               0  1          2         5       1.00                3   \n1               1  1          2         5       1.00                4   \n2               2  1          3        10       1.00                6   \n3               3  1          2         5       1.00                3   \n4               4  1          2         5       1.00                3   \n...           ... ..        ...       ...        ...              ...   \n15598        5196  6         23       192      18.00            28963   \n15599        5197  6         18       169      19.54             2148   \n15600        5198  6         18        17       1.97              105   \n15601        5199  6         59       634      25.80             5469   \n15602        5200  6         19       179      19.75             6040   \n\n                                                 formula  \\\n0                                        Next (Var \"b\")    \n1                                          Ev (Var \"e\")    \n2                                          Ev (Var \"a\")    \n3                                        Next (Var \"b\")    \n4                                        Next (Var \"c\")    \n...                                                  ...   \n15598   Until (Glob (Ev (Glob (Var \"b\"))), Until (Ev ...   \n15599   And (Or (And (Glob (Next (Neg (Var \"b\"))), Gl...   \n15600               Next (Glob (Or (Var \"d\", Var \"a\")))    \n15601   Glob (Or (And (Or (And (Or (Neg (Var \"e\"), Va...   \n15602   And (Or (Var \"d\", And (Or (Neg (Until (Until ...   \n\n                                                   trace       strategy   0  \\\n0       { |b| | | } ; {a|b| |d|e} ; {a|b|c| |e} ; {a|...  orchestration  11   \n1       { | | |d| } ; { |b| | |e} ; { | |c| |e} ; { |...  orchestration  12   \n2       { |b|c|d| } ; { | |c|d| } ; {a| |c| | } ; { |...  orchestration  12   \n3       {a| |c| |e} ; {a| |c| |e} ; {a|b|c| | } ; { |...  orchestration  11   \n4       {a|b|c| | } ; {a|b|c| |e} ; { |b|c|d| } ; { |...  orchestration  11   \n...                                                  ...            ...  ..   \n15598   { |b| | |e} ; {a|b|c|d| } ; {a|b| |d|e} ; {a|...   choreography  10   \n15599   {a| |c| |e} ; {a| |c| | } ; { | |c| | } ; { |...   choreography   4   \n15600   { | | |d|e} ; {a|b| |d|e} ; {a|b|c| | } ; {a|...   choreography  11   \n15601   {a| |c| | } ; {a|b| | |e} ; {a|b| | |e} ; { |...   choreography  13   \n15602   { |b| |d| } ; {a|b| | | } ; { |b| | | } ; { |...   choreography   4   \n\n       ...  379  380  381  382  383  384  385  386  387  388  \n0      ...  NaN  NaN  NaN  NaN  NaN  NaN  NaN  NaN  NaN  NaN  \n1      ...  NaN  NaN  NaN  NaN  NaN  NaN  NaN  NaN  NaN  NaN  \n2      ...  NaN  NaN  NaN  NaN  NaN  NaN  NaN  NaN  NaN  NaN  \n3      ...  NaN  NaN  NaN  NaN  NaN  NaN  NaN  NaN  NaN  NaN  \n4      ...  NaN  NaN  NaN  NaN  NaN  NaN  NaN  NaN  NaN  NaN  \n...    ...  ...  ...  ...  ...  ...  ...  ...  ...  ...  ...  \n15598  ...  NaN  NaN  NaN  NaN  NaN  NaN  NaN  NaN  NaN  NaN  \n15599  ...  NaN  NaN  NaN  NaN  NaN  NaN  NaN  NaN  NaN  NaN  \n15600  ...  NaN  NaN  NaN  NaN  NaN  NaN  NaN  NaN  NaN  NaN  \n15601  ...  NaN  NaN  NaN  NaN  NaN  NaN  NaN  NaN  NaN  NaN  \n15602  ...  NaN  NaN  NaN  NaN  NaN  NaN  NaN  NaN  NaN  NaN  \n\n[115218 rows x 399 columns]",
      "text/html": "<div>\n<style scoped>\n    .dataframe tbody tr th:only-of-type {\n        vertical-align: middle;\n    }\n\n    .dataframe tbody tr th {\n        vertical-align: top;\n    }\n\n    .dataframe thead th {\n        text-align: right;\n    }\n</style>\n<table border=\"1\" class=\"dataframe\">\n  <thead>\n    <tr style=\"text-align: right;\">\n      <th></th>\n      <th>formula_id</th>\n      <th>x</th>\n      <th>trace_len</th>\n      <th>num_mess</th>\n      <th>size_mess</th>\n      <th>nb_progressions</th>\n      <th>formula</th>\n      <th>trace</th>\n      <th>strategy</th>\n      <th>0</th>\n      <th>...</th>\n      <th>379</th>\n      <th>380</th>\n      <th>381</th>\n      <th>382</th>\n      <th>383</th>\n      <th>384</th>\n      <th>385</th>\n      <th>386</th>\n      <th>387</th>\n      <th>388</th>\n    </tr>\n  </thead>\n  <tbody>\n    <tr>\n      <th>0</th>\n      <td>0</td>\n      <td>1</td>\n      <td>2</td>\n      <td>5</td>\n      <td>1.00</td>\n      <td>3</td>\n      <td>Next (Var \"b\")</td>\n      <td>{ |b| | | } ; {a|b| |d|e} ; {a|b|c| |e} ; {a|...</td>\n      <td>orchestration</td>\n      <td>11</td>\n      <td>...</td>\n      <td>NaN</td>\n      <td>NaN</td>\n      <td>NaN</td>\n      <td>NaN</td>\n      <td>NaN</td>\n      <td>NaN</td>\n      <td>NaN</td>\n      <td>NaN</td>\n      <td>NaN</td>\n      <td>NaN</td>\n    </tr>\n    <tr>\n      <th>1</th>\n      <td>1</td>\n      <td>1</td>\n      <td>2</td>\n      <td>5</td>\n      <td>1.00</td>\n      <td>4</td>\n      <td>Ev (Var \"e\")</td>\n      <td>{ | | |d| } ; { |b| | |e} ; { | |c| |e} ; { |...</td>\n      <td>orchestration</td>\n      <td>12</td>\n      <td>...</td>\n      <td>NaN</td>\n      <td>NaN</td>\n      <td>NaN</td>\n      <td>NaN</td>\n      <td>NaN</td>\n      <td>NaN</td>\n      <td>NaN</td>\n      <td>NaN</td>\n      <td>NaN</td>\n      <td>NaN</td>\n    </tr>\n    <tr>\n      <th>2</th>\n      <td>2</td>\n      <td>1</td>\n      <td>3</td>\n      <td>10</td>\n      <td>1.00</td>\n      <td>6</td>\n      <td>Ev (Var \"a\")</td>\n      <td>{ |b|c|d| } ; { | |c|d| } ; {a| |c| | } ; { |...</td>\n      <td>orchestration</td>\n      <td>12</td>\n      <td>...</td>\n      <td>NaN</td>\n      <td>NaN</td>\n      <td>NaN</td>\n      <td>NaN</td>\n      <td>NaN</td>\n      <td>NaN</td>\n      <td>NaN</td>\n      <td>NaN</td>\n      <td>NaN</td>\n      <td>NaN</td>\n    </tr>\n    <tr>\n      <th>3</th>\n      <td>3</td>\n      <td>1</td>\n      <td>2</td>\n      <td>5</td>\n      <td>1.00</td>\n      <td>3</td>\n      <td>Next (Var \"b\")</td>\n      <td>{a| |c| |e} ; {a| |c| |e} ; {a|b|c| | } ; { |...</td>\n      <td>orchestration</td>\n      <td>11</td>\n      <td>...</td>\n      <td>NaN</td>\n      <td>NaN</td>\n      <td>NaN</td>\n      <td>NaN</td>\n      <td>NaN</td>\n      <td>NaN</td>\n      <td>NaN</td>\n      <td>NaN</td>\n      <td>NaN</td>\n      <td>NaN</td>\n    </tr>\n    <tr>\n      <th>4</th>\n      <td>4</td>\n      <td>1</td>\n      <td>2</td>\n      <td>5</td>\n      <td>1.00</td>\n      <td>3</td>\n      <td>Next (Var \"c\")</td>\n      <td>{a|b|c| | } ; {a|b|c| |e} ; { |b|c|d| } ; { |...</td>\n      <td>orchestration</td>\n      <td>11</td>\n      <td>...</td>\n      <td>NaN</td>\n      <td>NaN</td>\n      <td>NaN</td>\n      <td>NaN</td>\n      <td>NaN</td>\n      <td>NaN</td>\n      <td>NaN</td>\n      <td>NaN</td>\n      <td>NaN</td>\n      <td>NaN</td>\n    </tr>\n    <tr>\n      <th>...</th>\n      <td>...</td>\n      <td>...</td>\n      <td>...</td>\n      <td>...</td>\n      <td>...</td>\n      <td>...</td>\n      <td>...</td>\n      <td>...</td>\n      <td>...</td>\n      <td>...</td>\n      <td>...</td>\n      <td>...</td>\n      <td>...</td>\n      <td>...</td>\n      <td>...</td>\n      <td>...</td>\n      <td>...</td>\n      <td>...</td>\n      <td>...</td>\n      <td>...</td>\n      <td>...</td>\n    </tr>\n    <tr>\n      <th>15598</th>\n      <td>5196</td>\n      <td>6</td>\n      <td>23</td>\n      <td>192</td>\n      <td>18.00</td>\n      <td>28963</td>\n      <td>Until (Glob (Ev (Glob (Var \"b\"))), Until (Ev ...</td>\n      <td>{ |b| | |e} ; {a|b|c|d| } ; {a|b| |d|e} ; {a|...</td>\n      <td>choreography</td>\n      <td>10</td>\n      <td>...</td>\n      <td>NaN</td>\n      <td>NaN</td>\n      <td>NaN</td>\n      <td>NaN</td>\n      <td>NaN</td>\n      <td>NaN</td>\n      <td>NaN</td>\n      <td>NaN</td>\n      <td>NaN</td>\n      <td>NaN</td>\n    </tr>\n    <tr>\n      <th>15599</th>\n      <td>5197</td>\n      <td>6</td>\n      <td>18</td>\n      <td>169</td>\n      <td>19.54</td>\n      <td>2148</td>\n      <td>And (Or (And (Glob (Next (Neg (Var \"b\"))), Gl...</td>\n      <td>{a| |c| |e} ; {a| |c| | } ; { | |c| | } ; { |...</td>\n      <td>choreography</td>\n      <td>4</td>\n      <td>...</td>\n      <td>NaN</td>\n      <td>NaN</td>\n      <td>NaN</td>\n      <td>NaN</td>\n      <td>NaN</td>\n      <td>NaN</td>\n      <td>NaN</td>\n      <td>NaN</td>\n      <td>NaN</td>\n      <td>NaN</td>\n    </tr>\n    <tr>\n      <th>15600</th>\n      <td>5198</td>\n      <td>6</td>\n      <td>18</td>\n      <td>17</td>\n      <td>1.97</td>\n      <td>105</td>\n      <td>Next (Glob (Or (Var \"d\", Var \"a\")))</td>\n      <td>{ | | |d|e} ; {a|b| |d|e} ; {a|b|c| | } ; {a|...</td>\n      <td>choreography</td>\n      <td>11</td>\n      <td>...</td>\n      <td>NaN</td>\n      <td>NaN</td>\n      <td>NaN</td>\n      <td>NaN</td>\n      <td>NaN</td>\n      <td>NaN</td>\n      <td>NaN</td>\n      <td>NaN</td>\n      <td>NaN</td>\n      <td>NaN</td>\n    </tr>\n    <tr>\n      <th>15601</th>\n      <td>5199</td>\n      <td>6</td>\n      <td>59</td>\n      <td>634</td>\n      <td>25.80</td>\n      <td>5469</td>\n      <td>Glob (Or (And (Or (And (Or (Neg (Var \"e\"), Va...</td>\n      <td>{a| |c| | } ; {a|b| | |e} ; {a|b| | |e} ; { |...</td>\n      <td>choreography</td>\n      <td>13</td>\n      <td>...</td>\n      <td>NaN</td>\n      <td>NaN</td>\n      <td>NaN</td>\n      <td>NaN</td>\n      <td>NaN</td>\n      <td>NaN</td>\n      <td>NaN</td>\n      <td>NaN</td>\n      <td>NaN</td>\n      <td>NaN</td>\n    </tr>\n    <tr>\n      <th>15602</th>\n      <td>5200</td>\n      <td>6</td>\n      <td>19</td>\n      <td>179</td>\n      <td>19.75</td>\n      <td>6040</td>\n      <td>And (Or (Var \"d\", And (Or (Neg (Until (Until ...</td>\n      <td>{ |b| |d| } ; {a|b| | | } ; { |b| | | } ; { |...</td>\n      <td>choreography</td>\n      <td>4</td>\n      <td>...</td>\n      <td>NaN</td>\n      <td>NaN</td>\n      <td>NaN</td>\n      <td>NaN</td>\n      <td>NaN</td>\n      <td>NaN</td>\n      <td>NaN</td>\n      <td>NaN</td>\n      <td>NaN</td>\n      <td>NaN</td>\n    </tr>\n  </tbody>\n</table>\n<p>115218 rows × 399 columns</p>\n</div>"
     },
     "execution_count": 10,
     "metadata": {},
     "output_type": "execute_result"
    }
   ],
   "source": [
    "full_scale_df"
   ],
   "metadata": {
    "collapsed": false
   }
  },
  {
   "cell_type": "code",
   "execution_count": 13,
   "outputs": [],
   "source": [
    "from sklearn.linear_model import LinearRegression\n"
   ],
   "metadata": {
    "collapsed": false
   }
  },
  {
   "cell_type": "code",
   "execution_count": 14,
   "outputs": [],
   "source": [
    "f_X_train, f_X_test, f_y_train, f_y_test = prepare_learning_sets(final_df, 'nb_progressions')"
   ],
   "metadata": {
    "collapsed": false
   }
  },
  {
   "cell_type": "code",
   "execution_count": 16,
   "outputs": [
    {
     "data": {
      "text/plain": "-131.74046919427732"
     },
     "execution_count": 16,
     "metadata": {},
     "output_type": "execute_result"
    }
   ],
   "source": [
    "regression = LinearRegression()\n",
    "\n",
    "model = regression.fit(f_X_train, f_y_train)\n",
    "model.score(f_X_test, f_y_test)\n"
   ],
   "metadata": {
    "collapsed": false
   }
  },
  {
   "cell_type": "code",
   "execution_count": null,
   "outputs": [],
   "source": [],
   "metadata": {
    "collapsed": false
   }
  }
 ],
 "metadata": {
  "kernelspec": {
   "display_name": "Python 3",
   "language": "python",
   "name": "python3"
  },
  "language_info": {
   "codemirror_mode": {
    "name": "ipython",
    "version": 2
   },
   "file_extension": ".py",
   "mimetype": "text/x-python",
   "name": "python",
   "nbconvert_exporter": "python",
   "pygments_lexer": "ipython2",
   "version": "2.7.6"
  }
 },
 "nbformat": 4,
 "nbformat_minor": 0
}
