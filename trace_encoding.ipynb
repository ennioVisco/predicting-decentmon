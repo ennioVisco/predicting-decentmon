{
 "cells": [
  {
   "cell_type": "markdown",
   "source": [
    "## Trace Encoding"
   ],
   "metadata": {
    "collapsed": false
   }
  },
  {
   "cell_type": "code",
   "execution_count": 3,
   "outputs": [],
   "source": [
    "import pandas as pd\n",
    "from decmon.extractor import *\n",
    "\n",
    "# noinspection PyUnresolvedReferences\n",
    "from ipynb.fs.full.preparation import sdf, f_ops"
   ],
   "metadata": {
    "collapsed": false
   }
  },
  {
   "cell_type": "code",
   "execution_count": 4,
   "outputs": [],
   "source": [
    "TRACE_LENGTH = 1001\n",
    "NODES = 3"
   ],
   "metadata": {
    "collapsed": false
   }
  },
  {
   "cell_type": "code",
   "execution_count": 5,
   "outputs": [
    {
     "data": {
      "text/plain": "      t_0_0  t_0_1  t_0_2  t_1_0  t_1_1  t_1_2  t_2_0  t_2_1  t_2_2  t_3_0  \\\n0         1      0      3      1      0      3      1      0      0      0   \n1         0      0      3      0      2      0      0      2      3      1   \n2         1      2      3      1      0      3      0      2      0      1   \n3         0      0      3      1      0      0      0      2      3      0   \n4         1      2      0      1      0      3      1      2      0      0   \n...     ...    ...    ...    ...    ...    ...    ...    ...    ...    ...   \n9118      0      0      0      0      2      3      0      0      0      0   \n9119      0      0      0      1      0      3      0      2      0      1   \n9120      1      0      3      0      2      3      0      2      3      0   \n9121      0      0      3      1      2      0      1      0      3      1   \n9122      1      0      3      0      0      3      1      0      0      0   \n\n      ...  t_997_2  t_998_0  t_998_1  t_998_2  t_999_0  t_999_1  t_999_2  \\\n0     ...        3        1        0        0        1        0        3   \n1     ...        0        1        2        0        0        0        3   \n2     ...        3        0        2        0        1        0        0   \n3     ...        3        1        2        3        1        2        0   \n4     ...        3        1        2        3        0        2        0   \n...   ...      ...      ...      ...      ...      ...      ...      ...   \n9118  ...        0        0        0        0        0        2        0   \n9119  ...        0        1        0        0        1        0        3   \n9120  ...        0        0        2        3        1        0        0   \n9121  ...        0        0        0        0        1        2        0   \n9122  ...        3        0        0        0        1        2        3   \n\n      t_1000_0  t_1000_1  t_1000_2  \n0            0         2         3  \n1            0         0         0  \n2            1         0         3  \n3            0         2         3  \n4            0         2         3  \n...        ...       ...       ...  \n9118         1         2         0  \n9119         1         2         3  \n9120         1         0         3  \n9121         0         0         0  \n9122         0         2         0  \n\n[9123 rows x 3003 columns]",
      "text/html": "<div>\n<style scoped>\n    .dataframe tbody tr th:only-of-type {\n        vertical-align: middle;\n    }\n\n    .dataframe tbody tr th {\n        vertical-align: top;\n    }\n\n    .dataframe thead th {\n        text-align: right;\n    }\n</style>\n<table border=\"1\" class=\"dataframe\">\n  <thead>\n    <tr style=\"text-align: right;\">\n      <th></th>\n      <th>t_0_0</th>\n      <th>t_0_1</th>\n      <th>t_0_2</th>\n      <th>t_1_0</th>\n      <th>t_1_1</th>\n      <th>t_1_2</th>\n      <th>t_2_0</th>\n      <th>t_2_1</th>\n      <th>t_2_2</th>\n      <th>t_3_0</th>\n      <th>...</th>\n      <th>t_997_2</th>\n      <th>t_998_0</th>\n      <th>t_998_1</th>\n      <th>t_998_2</th>\n      <th>t_999_0</th>\n      <th>t_999_1</th>\n      <th>t_999_2</th>\n      <th>t_1000_0</th>\n      <th>t_1000_1</th>\n      <th>t_1000_2</th>\n    </tr>\n  </thead>\n  <tbody>\n    <tr>\n      <th>0</th>\n      <td>1</td>\n      <td>0</td>\n      <td>3</td>\n      <td>1</td>\n      <td>0</td>\n      <td>3</td>\n      <td>1</td>\n      <td>0</td>\n      <td>0</td>\n      <td>0</td>\n      <td>...</td>\n      <td>3</td>\n      <td>1</td>\n      <td>0</td>\n      <td>0</td>\n      <td>1</td>\n      <td>0</td>\n      <td>3</td>\n      <td>0</td>\n      <td>2</td>\n      <td>3</td>\n    </tr>\n    <tr>\n      <th>1</th>\n      <td>0</td>\n      <td>0</td>\n      <td>3</td>\n      <td>0</td>\n      <td>2</td>\n      <td>0</td>\n      <td>0</td>\n      <td>2</td>\n      <td>3</td>\n      <td>1</td>\n      <td>...</td>\n      <td>0</td>\n      <td>1</td>\n      <td>2</td>\n      <td>0</td>\n      <td>0</td>\n      <td>0</td>\n      <td>3</td>\n      <td>0</td>\n      <td>0</td>\n      <td>0</td>\n    </tr>\n    <tr>\n      <th>2</th>\n      <td>1</td>\n      <td>2</td>\n      <td>3</td>\n      <td>1</td>\n      <td>0</td>\n      <td>3</td>\n      <td>0</td>\n      <td>2</td>\n      <td>0</td>\n      <td>1</td>\n      <td>...</td>\n      <td>3</td>\n      <td>0</td>\n      <td>2</td>\n      <td>0</td>\n      <td>1</td>\n      <td>0</td>\n      <td>0</td>\n      <td>1</td>\n      <td>0</td>\n      <td>3</td>\n    </tr>\n    <tr>\n      <th>3</th>\n      <td>0</td>\n      <td>0</td>\n      <td>3</td>\n      <td>1</td>\n      <td>0</td>\n      <td>0</td>\n      <td>0</td>\n      <td>2</td>\n      <td>3</td>\n      <td>0</td>\n      <td>...</td>\n      <td>3</td>\n      <td>1</td>\n      <td>2</td>\n      <td>3</td>\n      <td>1</td>\n      <td>2</td>\n      <td>0</td>\n      <td>0</td>\n      <td>2</td>\n      <td>3</td>\n    </tr>\n    <tr>\n      <th>4</th>\n      <td>1</td>\n      <td>2</td>\n      <td>0</td>\n      <td>1</td>\n      <td>0</td>\n      <td>3</td>\n      <td>1</td>\n      <td>2</td>\n      <td>0</td>\n      <td>0</td>\n      <td>...</td>\n      <td>3</td>\n      <td>1</td>\n      <td>2</td>\n      <td>3</td>\n      <td>0</td>\n      <td>2</td>\n      <td>0</td>\n      <td>0</td>\n      <td>2</td>\n      <td>3</td>\n    </tr>\n    <tr>\n      <th>...</th>\n      <td>...</td>\n      <td>...</td>\n      <td>...</td>\n      <td>...</td>\n      <td>...</td>\n      <td>...</td>\n      <td>...</td>\n      <td>...</td>\n      <td>...</td>\n      <td>...</td>\n      <td>...</td>\n      <td>...</td>\n      <td>...</td>\n      <td>...</td>\n      <td>...</td>\n      <td>...</td>\n      <td>...</td>\n      <td>...</td>\n      <td>...</td>\n      <td>...</td>\n      <td>...</td>\n    </tr>\n    <tr>\n      <th>9118</th>\n      <td>0</td>\n      <td>0</td>\n      <td>0</td>\n      <td>0</td>\n      <td>2</td>\n      <td>3</td>\n      <td>0</td>\n      <td>0</td>\n      <td>0</td>\n      <td>0</td>\n      <td>...</td>\n      <td>0</td>\n      <td>0</td>\n      <td>0</td>\n      <td>0</td>\n      <td>0</td>\n      <td>2</td>\n      <td>0</td>\n      <td>1</td>\n      <td>2</td>\n      <td>0</td>\n    </tr>\n    <tr>\n      <th>9119</th>\n      <td>0</td>\n      <td>0</td>\n      <td>0</td>\n      <td>1</td>\n      <td>0</td>\n      <td>3</td>\n      <td>0</td>\n      <td>2</td>\n      <td>0</td>\n      <td>1</td>\n      <td>...</td>\n      <td>0</td>\n      <td>1</td>\n      <td>0</td>\n      <td>0</td>\n      <td>1</td>\n      <td>0</td>\n      <td>3</td>\n      <td>1</td>\n      <td>2</td>\n      <td>3</td>\n    </tr>\n    <tr>\n      <th>9120</th>\n      <td>1</td>\n      <td>0</td>\n      <td>3</td>\n      <td>0</td>\n      <td>2</td>\n      <td>3</td>\n      <td>0</td>\n      <td>2</td>\n      <td>3</td>\n      <td>0</td>\n      <td>...</td>\n      <td>0</td>\n      <td>0</td>\n      <td>2</td>\n      <td>3</td>\n      <td>1</td>\n      <td>0</td>\n      <td>0</td>\n      <td>1</td>\n      <td>0</td>\n      <td>3</td>\n    </tr>\n    <tr>\n      <th>9121</th>\n      <td>0</td>\n      <td>0</td>\n      <td>3</td>\n      <td>1</td>\n      <td>2</td>\n      <td>0</td>\n      <td>1</td>\n      <td>0</td>\n      <td>3</td>\n      <td>1</td>\n      <td>...</td>\n      <td>0</td>\n      <td>0</td>\n      <td>0</td>\n      <td>0</td>\n      <td>1</td>\n      <td>2</td>\n      <td>0</td>\n      <td>0</td>\n      <td>0</td>\n      <td>0</td>\n    </tr>\n    <tr>\n      <th>9122</th>\n      <td>1</td>\n      <td>0</td>\n      <td>3</td>\n      <td>0</td>\n      <td>0</td>\n      <td>3</td>\n      <td>1</td>\n      <td>0</td>\n      <td>0</td>\n      <td>0</td>\n      <td>...</td>\n      <td>3</td>\n      <td>0</td>\n      <td>0</td>\n      <td>0</td>\n      <td>1</td>\n      <td>2</td>\n      <td>3</td>\n      <td>0</td>\n      <td>2</td>\n      <td>0</td>\n    </tr>\n  </tbody>\n</table>\n<p>9123 rows × 3003 columns</p>\n</div>"
     },
     "execution_count": 5,
     "metadata": {},
     "output_type": "execute_result"
    }
   ],
   "source": [
    "map_trace = lambda x: flatten_once(extract_sampled_events(x['trace']))\n",
    "trace_label = lambda n: [f\"t_{x // NODES}_{x % NODES}\" for x in range(n)]\n",
    "\n",
    "t_events = sdf.copy()\n",
    "t_events['newcolumn'] = t_events.apply(map_trace, axis=1)\n",
    "ids = trace_label(TRACE_LENGTH * NODES)\n",
    "listed_values = t_events['newcolumn'].to_list()\n",
    "transformed_values = list(map(lambda ls: list(map(convert_event_to_int, ls)), listed_values))\n",
    "t_events = pd.DataFrame(transformed_values, columns=ids)\n",
    "\n",
    "t_events"
   ],
   "metadata": {
    "collapsed": false
   }
  },
  {
   "cell_type": "code",
   "execution_count": 8,
   "outputs": [
    {
     "data": {
      "text/plain": "      total_ops_list_1  total_ops_list_10  total_ops_list_100  \\\n0                   11                NaN                 NaN   \n1                   11                NaN                 NaN   \n2                   11                NaN                 NaN   \n3                   11                NaN                 NaN   \n4                   13                NaN                 NaN   \n...                ...                ...                 ...   \n9118                10               13.0                 NaN   \n9119                10               13.0                 NaN   \n9120                11               -1.0                 NaN   \n9121                11                0.0                 NaN   \n9122                12               10.0                 NaN   \n\n      total_ops_list_101  total_ops_list_102  total_ops_list_103  \\\n0                    NaN                 NaN                 NaN   \n1                    NaN                 NaN                 NaN   \n2                    NaN                 NaN                 NaN   \n3                    NaN                 NaN                 NaN   \n4                    NaN                 NaN                 NaN   \n...                  ...                 ...                 ...   \n9118                 NaN                 NaN                 NaN   \n9119                 NaN                 NaN                 NaN   \n9120                 NaN                 NaN                 NaN   \n9121                 NaN                 NaN                 NaN   \n9122                 NaN                 NaN                 NaN   \n\n      total_ops_list_104  total_ops_list_105  total_ops_list_106  \\\n0                    NaN                 NaN                 NaN   \n1                    NaN                 NaN                 NaN   \n2                    NaN                 NaN                 NaN   \n3                    NaN                 NaN                 NaN   \n4                    NaN                 NaN                 NaN   \n...                  ...                 ...                 ...   \n9118                 NaN                 NaN                 NaN   \n9119                 NaN                 NaN                 NaN   \n9120                 NaN                 NaN                 NaN   \n9121                 NaN                 NaN                 NaN   \n9122                 NaN                 NaN                 NaN   \n\n      total_ops_list_107  ...  t_997_2  t_998_0  t_998_1  t_998_2  t_999_0  \\\n0                    NaN  ...        3        1        0        0        1   \n1                    NaN  ...        0        1        2        0        0   \n2                    NaN  ...        3        0        2        0        1   \n3                    NaN  ...        3        1        2        3        1   \n4                    NaN  ...        3        1        2        3        0   \n...                  ...  ...      ...      ...      ...      ...      ...   \n9118                 NaN  ...        0        0        0        0        0   \n9119                 NaN  ...        0        1        0        0        1   \n9120                 NaN  ...        0        0        2        3        1   \n9121                 NaN  ...        0        0        0        0        1   \n9122                 NaN  ...        3        0        0        0        1   \n\n      t_999_1  t_999_2  t_1000_0  t_1000_1  t_1000_2  \n0           0        3         0         2         3  \n1           0        3         0         0         0  \n2           0        0         1         0         3  \n3           2        0         0         2         3  \n4           2        0         0         2         3  \n...       ...      ...       ...       ...       ...  \n9118        2        0         1         2         0  \n9119        0        3         1         2         3  \n9120        0        0         1         0         3  \n9121        2        0         0         0         0  \n9122        2        3         0         2         0  \n\n[9123 rows x 3174 columns]",
      "text/html": "<div>\n<style scoped>\n    .dataframe tbody tr th:only-of-type {\n        vertical-align: middle;\n    }\n\n    .dataframe tbody tr th {\n        vertical-align: top;\n    }\n\n    .dataframe thead th {\n        text-align: right;\n    }\n</style>\n<table border=\"1\" class=\"dataframe\">\n  <thead>\n    <tr style=\"text-align: right;\">\n      <th></th>\n      <th>total_ops_list_1</th>\n      <th>total_ops_list_10</th>\n      <th>total_ops_list_100</th>\n      <th>total_ops_list_101</th>\n      <th>total_ops_list_102</th>\n      <th>total_ops_list_103</th>\n      <th>total_ops_list_104</th>\n      <th>total_ops_list_105</th>\n      <th>total_ops_list_106</th>\n      <th>total_ops_list_107</th>\n      <th>...</th>\n      <th>t_997_2</th>\n      <th>t_998_0</th>\n      <th>t_998_1</th>\n      <th>t_998_2</th>\n      <th>t_999_0</th>\n      <th>t_999_1</th>\n      <th>t_999_2</th>\n      <th>t_1000_0</th>\n      <th>t_1000_1</th>\n      <th>t_1000_2</th>\n    </tr>\n  </thead>\n  <tbody>\n    <tr>\n      <th>0</th>\n      <td>11</td>\n      <td>NaN</td>\n      <td>NaN</td>\n      <td>NaN</td>\n      <td>NaN</td>\n      <td>NaN</td>\n      <td>NaN</td>\n      <td>NaN</td>\n      <td>NaN</td>\n      <td>NaN</td>\n      <td>...</td>\n      <td>3</td>\n      <td>1</td>\n      <td>0</td>\n      <td>0</td>\n      <td>1</td>\n      <td>0</td>\n      <td>3</td>\n      <td>0</td>\n      <td>2</td>\n      <td>3</td>\n    </tr>\n    <tr>\n      <th>1</th>\n      <td>11</td>\n      <td>NaN</td>\n      <td>NaN</td>\n      <td>NaN</td>\n      <td>NaN</td>\n      <td>NaN</td>\n      <td>NaN</td>\n      <td>NaN</td>\n      <td>NaN</td>\n      <td>NaN</td>\n      <td>...</td>\n      <td>0</td>\n      <td>1</td>\n      <td>2</td>\n      <td>0</td>\n      <td>0</td>\n      <td>0</td>\n      <td>3</td>\n      <td>0</td>\n      <td>0</td>\n      <td>0</td>\n    </tr>\n    <tr>\n      <th>2</th>\n      <td>11</td>\n      <td>NaN</td>\n      <td>NaN</td>\n      <td>NaN</td>\n      <td>NaN</td>\n      <td>NaN</td>\n      <td>NaN</td>\n      <td>NaN</td>\n      <td>NaN</td>\n      <td>NaN</td>\n      <td>...</td>\n      <td>3</td>\n      <td>0</td>\n      <td>2</td>\n      <td>0</td>\n      <td>1</td>\n      <td>0</td>\n      <td>0</td>\n      <td>1</td>\n      <td>0</td>\n      <td>3</td>\n    </tr>\n    <tr>\n      <th>3</th>\n      <td>11</td>\n      <td>NaN</td>\n      <td>NaN</td>\n      <td>NaN</td>\n      <td>NaN</td>\n      <td>NaN</td>\n      <td>NaN</td>\n      <td>NaN</td>\n      <td>NaN</td>\n      <td>NaN</td>\n      <td>...</td>\n      <td>3</td>\n      <td>1</td>\n      <td>2</td>\n      <td>3</td>\n      <td>1</td>\n      <td>2</td>\n      <td>0</td>\n      <td>0</td>\n      <td>2</td>\n      <td>3</td>\n    </tr>\n    <tr>\n      <th>4</th>\n      <td>13</td>\n      <td>NaN</td>\n      <td>NaN</td>\n      <td>NaN</td>\n      <td>NaN</td>\n      <td>NaN</td>\n      <td>NaN</td>\n      <td>NaN</td>\n      <td>NaN</td>\n      <td>NaN</td>\n      <td>...</td>\n      <td>3</td>\n      <td>1</td>\n      <td>2</td>\n      <td>3</td>\n      <td>0</td>\n      <td>2</td>\n      <td>0</td>\n      <td>0</td>\n      <td>2</td>\n      <td>3</td>\n    </tr>\n    <tr>\n      <th>...</th>\n      <td>...</td>\n      <td>...</td>\n      <td>...</td>\n      <td>...</td>\n      <td>...</td>\n      <td>...</td>\n      <td>...</td>\n      <td>...</td>\n      <td>...</td>\n      <td>...</td>\n      <td>...</td>\n      <td>...</td>\n      <td>...</td>\n      <td>...</td>\n      <td>...</td>\n      <td>...</td>\n      <td>...</td>\n      <td>...</td>\n      <td>...</td>\n      <td>...</td>\n      <td>...</td>\n    </tr>\n    <tr>\n      <th>9118</th>\n      <td>10</td>\n      <td>13.0</td>\n      <td>NaN</td>\n      <td>NaN</td>\n      <td>NaN</td>\n      <td>NaN</td>\n      <td>NaN</td>\n      <td>NaN</td>\n      <td>NaN</td>\n      <td>NaN</td>\n      <td>...</td>\n      <td>0</td>\n      <td>0</td>\n      <td>0</td>\n      <td>0</td>\n      <td>0</td>\n      <td>2</td>\n      <td>0</td>\n      <td>1</td>\n      <td>2</td>\n      <td>0</td>\n    </tr>\n    <tr>\n      <th>9119</th>\n      <td>10</td>\n      <td>13.0</td>\n      <td>NaN</td>\n      <td>NaN</td>\n      <td>NaN</td>\n      <td>NaN</td>\n      <td>NaN</td>\n      <td>NaN</td>\n      <td>NaN</td>\n      <td>NaN</td>\n      <td>...</td>\n      <td>0</td>\n      <td>1</td>\n      <td>0</td>\n      <td>0</td>\n      <td>1</td>\n      <td>0</td>\n      <td>3</td>\n      <td>1</td>\n      <td>2</td>\n      <td>3</td>\n    </tr>\n    <tr>\n      <th>9120</th>\n      <td>11</td>\n      <td>-1.0</td>\n      <td>NaN</td>\n      <td>NaN</td>\n      <td>NaN</td>\n      <td>NaN</td>\n      <td>NaN</td>\n      <td>NaN</td>\n      <td>NaN</td>\n      <td>NaN</td>\n      <td>...</td>\n      <td>0</td>\n      <td>0</td>\n      <td>2</td>\n      <td>3</td>\n      <td>1</td>\n      <td>0</td>\n      <td>0</td>\n      <td>1</td>\n      <td>0</td>\n      <td>3</td>\n    </tr>\n    <tr>\n      <th>9121</th>\n      <td>11</td>\n      <td>0.0</td>\n      <td>NaN</td>\n      <td>NaN</td>\n      <td>NaN</td>\n      <td>NaN</td>\n      <td>NaN</td>\n      <td>NaN</td>\n      <td>NaN</td>\n      <td>NaN</td>\n      <td>...</td>\n      <td>0</td>\n      <td>0</td>\n      <td>0</td>\n      <td>0</td>\n      <td>1</td>\n      <td>2</td>\n      <td>0</td>\n      <td>0</td>\n      <td>0</td>\n      <td>0</td>\n    </tr>\n    <tr>\n      <th>9122</th>\n      <td>12</td>\n      <td>10.0</td>\n      <td>NaN</td>\n      <td>NaN</td>\n      <td>NaN</td>\n      <td>NaN</td>\n      <td>NaN</td>\n      <td>NaN</td>\n      <td>NaN</td>\n      <td>NaN</td>\n      <td>...</td>\n      <td>3</td>\n      <td>0</td>\n      <td>0</td>\n      <td>0</td>\n      <td>1</td>\n      <td>2</td>\n      <td>3</td>\n      <td>0</td>\n      <td>2</td>\n      <td>0</td>\n    </tr>\n  </tbody>\n</table>\n<p>9123 rows × 3174 columns</p>\n</div>"
     },
     "execution_count": 8,
     "metadata": {},
     "output_type": "execute_result"
    }
   ],
   "source": [
    "encoded_df = f_ops.merge(t_events, left_index=True, right_index=True)\n",
    "encoded_df"
   ],
   "metadata": {
    "collapsed": false
   }
  },
  {
   "cell_type": "code",
   "execution_count": null,
   "outputs": [],
   "source": [],
   "metadata": {
    "collapsed": false
   }
  }
 ],
 "metadata": {
  "kernelspec": {
   "display_name": "Python 3",
   "language": "python",
   "name": "python3"
  },
  "language_info": {
   "codemirror_mode": {
    "name": "ipython",
    "version": 2
   },
   "file_extension": ".py",
   "mimetype": "text/x-python",
   "name": "python",
   "nbconvert_exporter": "python",
   "pygments_lexer": "ipython2",
   "version": "2.7.6"
  }
 },
 "nbformat": 4,
 "nbformat_minor": 0
}
