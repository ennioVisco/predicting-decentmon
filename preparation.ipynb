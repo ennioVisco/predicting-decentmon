{
 "cells": [
  {
   "cell_type": "markdown",
   "metadata": {
    "pycharm": {
     "name": "#%% md\n"
    }
   },
   "source": [
    "# Notes for decentmon data processing"
   ]
  },
  {
   "cell_type": "code",
   "execution_count": 44,
   "metadata": {
    "pycharm": {
     "name": "#%%\n"
    }
   },
   "outputs": [],
   "source": [
    "import pandas as pd\n",
    "\n",
    "from decmon.extractor import *\n",
    "from decmon.cleaner import *\n",
    "from decmon.filter import *\n",
    "from decmon.plotter import *"
   ]
  },
  {
   "cell_type": "code",
   "execution_count": 45,
   "metadata": {
    "pycharm": {
     "name": "#%%\n"
    }
   },
   "outputs": [],
   "source": [
    "# Constants\n",
    "# FILENAME = \"sample_log.txt\"\n",
    "FILENAME = \"2022-09-07_12-06-13_output.log\""
   ]
  },
  {
   "cell_type": "code",
   "execution_count": 46,
   "metadata": {
    "pycharm": {
     "name": "#%%\n"
    }
   },
   "outputs": [
    {
     "data": {
      "text/plain": "      formula_id  x  cent_trace_len  decent_trace_len  odecent_trace_len  \\\n0              0  1               2                 3                  2   \n1              1  1               2                 3                  2   \n2              2  1               2                 3                  2   \n3              3  1               2                 3                  2   \n4              4  1               2                 3                  2   \n...          ... ..             ...               ...                ...   \n3036        3036  5              20                22                 21   \n3037        3037  5              17                19                 18   \n3038        3038  5              21                23                 22   \n3039        3039  5              23                25                 25   \n3040        3040  5              39                41                 39   \n\n      cent_num_mess  decent_num_mess  odecent_num_mess  cent_size_mess  \\\n0                 3                0                 0             1.0   \n1                 3                0                 0             1.0   \n2                 3                0                 0             1.0   \n3                 3                0                 0             1.0   \n4                 3                2                 0             1.0   \n...             ...              ...               ...             ...   \n3036             57               22                79             1.0   \n3037             48               35                51             1.0   \n3038             60                6                21             1.0   \n3039             66               18                48             1.0   \n3040            114               29               114             1.0   \n\n      decent_size_mess  odecent_size_mess  cent_nb_progressions  \\\n0                 0.00               0.00                     3   \n1                 0.00               0.00                     3   \n2                 0.00               0.00                     3   \n3                 0.00               0.00                     3   \n4                 1.66               0.00                     4   \n...                ...                ...                   ...   \n3036             36.46              10.76                   962   \n3037             46.27               7.88                   999   \n3038              0.77               2.76                   120   \n3039              5.61               5.66                   240   \n3040              7.21               9.18                   759   \n\n      decent_nb_progressions  odecent_nb_progressions  \\\n0                          3                        3   \n1                          3                        3   \n2                          3                        3   \n3                          3                        3   \n4                          8                        4   \n...                      ...                      ...   \n3036                    3207                     1153   \n3037                    3308                     1041   \n3038                     240                      143   \n3039                     677                      310   \n3040                    1485                     1442   \n\n                                                formula  \\\n0                                       Next (Var \"b\")    \n1                                       Next (Var \"c\")    \n2                                       Next (Var \"a\")    \n3                                       Next (Var \"c\")    \n4                                       Glob (Var \"b\")    \n...                                                 ...   \n3036   Until (Or (Ev (Next (And (Var \"a\", Var \"c\")))...   \n3037   Until (Or (Var \"c\", Next (Until (Var \"b\", Var...   \n3038   Next (Next (Or (Glob (Var \"a\"), Ev (And (Var ...   \n3039   Next (Glob (Until (Until (Var \"b\", Var \"a\"), ...   \n3040   Ev (And (And (And (Var \"c\", Var \"a\"), Next (V...   \n\n                                                  trace  \n0      {a| |c} ; {a| |c} ; {a| | } ; { | | } ; {a| |...  \n1      { | |c} ; { |b| } ; { |b|c} ; {a| |c} ; { | |...  \n2      {a|b|c} ; {a| |c} ; { |b| } ; {a|b| } ; {a|b|...  \n3      { | |c} ; {a| | } ; { |b|c} ; { | |c} ; {a|b|...  \n4      {a|b| } ; {a| |c} ; {a|b| } ; { |b|c} ; {a| |...  \n...                                                 ...  \n3036   { | | } ; { |b|c} ; { | | } ; { |b| } ; {a| |...  \n3037   { | | } ; {a| |c} ; { |b| } ; {a| |c} ; {a|b|...  \n3038   {a| |c} ; { |b|c} ; { |b|c} ; { | |c} ; { | |...  \n3039   { | |c} ; {a|b| } ; {a| |c} ; {a| | } ; {a| |...  \n3040   {a| |c} ; { | |c} ; {a| | } ; { |b|c} ; { | |...  \n\n[3041 rows x 16 columns]",
      "text/html": "<div>\n<style scoped>\n    .dataframe tbody tr th:only-of-type {\n        vertical-align: middle;\n    }\n\n    .dataframe tbody tr th {\n        vertical-align: top;\n    }\n\n    .dataframe thead th {\n        text-align: right;\n    }\n</style>\n<table border=\"1\" class=\"dataframe\">\n  <thead>\n    <tr style=\"text-align: right;\">\n      <th></th>\n      <th>formula_id</th>\n      <th>x</th>\n      <th>cent_trace_len</th>\n      <th>decent_trace_len</th>\n      <th>odecent_trace_len</th>\n      <th>cent_num_mess</th>\n      <th>decent_num_mess</th>\n      <th>odecent_num_mess</th>\n      <th>cent_size_mess</th>\n      <th>decent_size_mess</th>\n      <th>odecent_size_mess</th>\n      <th>cent_nb_progressions</th>\n      <th>decent_nb_progressions</th>\n      <th>odecent_nb_progressions</th>\n      <th>formula</th>\n      <th>trace</th>\n    </tr>\n  </thead>\n  <tbody>\n    <tr>\n      <th>0</th>\n      <td>0</td>\n      <td>1</td>\n      <td>2</td>\n      <td>3</td>\n      <td>2</td>\n      <td>3</td>\n      <td>0</td>\n      <td>0</td>\n      <td>1.0</td>\n      <td>0.00</td>\n      <td>0.00</td>\n      <td>3</td>\n      <td>3</td>\n      <td>3</td>\n      <td>Next (Var \"b\")</td>\n      <td>{a| |c} ; {a| |c} ; {a| | } ; { | | } ; {a| |...</td>\n    </tr>\n    <tr>\n      <th>1</th>\n      <td>1</td>\n      <td>1</td>\n      <td>2</td>\n      <td>3</td>\n      <td>2</td>\n      <td>3</td>\n      <td>0</td>\n      <td>0</td>\n      <td>1.0</td>\n      <td>0.00</td>\n      <td>0.00</td>\n      <td>3</td>\n      <td>3</td>\n      <td>3</td>\n      <td>Next (Var \"c\")</td>\n      <td>{ | |c} ; { |b| } ; { |b|c} ; {a| |c} ; { | |...</td>\n    </tr>\n    <tr>\n      <th>2</th>\n      <td>2</td>\n      <td>1</td>\n      <td>2</td>\n      <td>3</td>\n      <td>2</td>\n      <td>3</td>\n      <td>0</td>\n      <td>0</td>\n      <td>1.0</td>\n      <td>0.00</td>\n      <td>0.00</td>\n      <td>3</td>\n      <td>3</td>\n      <td>3</td>\n      <td>Next (Var \"a\")</td>\n      <td>{a|b|c} ; {a| |c} ; { |b| } ; {a|b| } ; {a|b|...</td>\n    </tr>\n    <tr>\n      <th>3</th>\n      <td>3</td>\n      <td>1</td>\n      <td>2</td>\n      <td>3</td>\n      <td>2</td>\n      <td>3</td>\n      <td>0</td>\n      <td>0</td>\n      <td>1.0</td>\n      <td>0.00</td>\n      <td>0.00</td>\n      <td>3</td>\n      <td>3</td>\n      <td>3</td>\n      <td>Next (Var \"c\")</td>\n      <td>{ | |c} ; {a| | } ; { |b|c} ; { | |c} ; {a|b|...</td>\n    </tr>\n    <tr>\n      <th>4</th>\n      <td>4</td>\n      <td>1</td>\n      <td>2</td>\n      <td>3</td>\n      <td>2</td>\n      <td>3</td>\n      <td>2</td>\n      <td>0</td>\n      <td>1.0</td>\n      <td>1.66</td>\n      <td>0.00</td>\n      <td>4</td>\n      <td>8</td>\n      <td>4</td>\n      <td>Glob (Var \"b\")</td>\n      <td>{a|b| } ; {a| |c} ; {a|b| } ; { |b|c} ; {a| |...</td>\n    </tr>\n    <tr>\n      <th>...</th>\n      <td>...</td>\n      <td>...</td>\n      <td>...</td>\n      <td>...</td>\n      <td>...</td>\n      <td>...</td>\n      <td>...</td>\n      <td>...</td>\n      <td>...</td>\n      <td>...</td>\n      <td>...</td>\n      <td>...</td>\n      <td>...</td>\n      <td>...</td>\n      <td>...</td>\n      <td>...</td>\n    </tr>\n    <tr>\n      <th>3036</th>\n      <td>3036</td>\n      <td>5</td>\n      <td>20</td>\n      <td>22</td>\n      <td>21</td>\n      <td>57</td>\n      <td>22</td>\n      <td>79</td>\n      <td>1.0</td>\n      <td>36.46</td>\n      <td>10.76</td>\n      <td>962</td>\n      <td>3207</td>\n      <td>1153</td>\n      <td>Until (Or (Ev (Next (And (Var \"a\", Var \"c\")))...</td>\n      <td>{ | | } ; { |b|c} ; { | | } ; { |b| } ; {a| |...</td>\n    </tr>\n    <tr>\n      <th>3037</th>\n      <td>3037</td>\n      <td>5</td>\n      <td>17</td>\n      <td>19</td>\n      <td>18</td>\n      <td>48</td>\n      <td>35</td>\n      <td>51</td>\n      <td>1.0</td>\n      <td>46.27</td>\n      <td>7.88</td>\n      <td>999</td>\n      <td>3308</td>\n      <td>1041</td>\n      <td>Until (Or (Var \"c\", Next (Until (Var \"b\", Var...</td>\n      <td>{ | | } ; {a| |c} ; { |b| } ; {a| |c} ; {a|b|...</td>\n    </tr>\n    <tr>\n      <th>3038</th>\n      <td>3038</td>\n      <td>5</td>\n      <td>21</td>\n      <td>23</td>\n      <td>22</td>\n      <td>60</td>\n      <td>6</td>\n      <td>21</td>\n      <td>1.0</td>\n      <td>0.77</td>\n      <td>2.76</td>\n      <td>120</td>\n      <td>240</td>\n      <td>143</td>\n      <td>Next (Next (Or (Glob (Var \"a\"), Ev (And (Var ...</td>\n      <td>{a| |c} ; { |b|c} ; { |b|c} ; { | |c} ; { | |...</td>\n    </tr>\n    <tr>\n      <th>3039</th>\n      <td>3039</td>\n      <td>5</td>\n      <td>23</td>\n      <td>25</td>\n      <td>25</td>\n      <td>66</td>\n      <td>18</td>\n      <td>48</td>\n      <td>1.0</td>\n      <td>5.61</td>\n      <td>5.66</td>\n      <td>240</td>\n      <td>677</td>\n      <td>310</td>\n      <td>Next (Glob (Until (Until (Var \"b\", Var \"a\"), ...</td>\n      <td>{ | |c} ; {a|b| } ; {a| |c} ; {a| | } ; {a| |...</td>\n    </tr>\n    <tr>\n      <th>3040</th>\n      <td>3040</td>\n      <td>5</td>\n      <td>39</td>\n      <td>41</td>\n      <td>39</td>\n      <td>114</td>\n      <td>29</td>\n      <td>114</td>\n      <td>1.0</td>\n      <td>7.21</td>\n      <td>9.18</td>\n      <td>759</td>\n      <td>1485</td>\n      <td>1442</td>\n      <td>Ev (And (And (And (Var \"c\", Var \"a\"), Next (V...</td>\n      <td>{a| |c} ; { | |c} ; {a| | } ; { |b|c} ; { | |...</td>\n    </tr>\n  </tbody>\n</table>\n<p>3041 rows × 16 columns</p>\n</div>"
     },
     "execution_count": 46,
     "metadata": {},
     "output_type": "execute_result"
    }
   ],
   "source": [
    "df = pd.read_csv(FILENAME, sep='@')\n",
    "df.insert(0, 'formula_id', range(0, len(df)))\n",
    "df.columns = df.columns.str.strip()\n",
    "df"
   ]
  },
  {
   "cell_type": "code",
   "execution_count": 47,
   "metadata": {
    "pycharm": {
     "name": "#%%\n"
    }
   },
   "outputs": [],
   "source": [
    "strategies = {\n",
    "    \"cent\" : \"orchestration\",\n",
    "    \"decent\" : \"migration\",\n",
    "    \"odecent\" : \"choreography\"\n",
    "}"
   ]
  },
  {
   "cell_type": "code",
   "execution_count": 48,
   "metadata": {
    "pycharm": {
     "name": "#%%\n"
    }
   },
   "outputs": [
    {
     "data": {
      "text/plain": "      formula_id  x  trace_len  num_mess  size_mess  nb_progressions  \\\n0              0  1          2         3        1.0                3   \n1              1  1          2         3        1.0                3   \n2              2  1          2         3        1.0                3   \n3              3  1          2         3        1.0                3   \n4              4  1          2         3        1.0                4   \n...          ... ..        ...       ...        ...              ...   \n3036        3036  5         20        57        1.0              962   \n3037        3037  5         17        48        1.0              999   \n3038        3038  5         21        60        1.0              120   \n3039        3039  5         23        66        1.0              240   \n3040        3040  5         39       114        1.0              759   \n\n                                                formula  \\\n0                                       Next (Var \"b\")    \n1                                       Next (Var \"c\")    \n2                                       Next (Var \"a\")    \n3                                       Next (Var \"c\")    \n4                                       Glob (Var \"b\")    \n...                                                 ...   \n3036   Until (Or (Ev (Next (And (Var \"a\", Var \"c\")))...   \n3037   Until (Or (Var \"c\", Next (Until (Var \"b\", Var...   \n3038   Next (Next (Or (Glob (Var \"a\"), Ev (And (Var ...   \n3039   Next (Glob (Until (Until (Var \"b\", Var \"a\"), ...   \n3040   Ev (And (And (And (Var \"c\", Var \"a\"), Next (V...   \n\n                                                  trace       strategy  \n0      {a| |c} ; {a| |c} ; {a| | } ; { | | } ; {a| |...  orchestration  \n1      { | |c} ; { |b| } ; { |b|c} ; {a| |c} ; { | |...  orchestration  \n2      {a|b|c} ; {a| |c} ; { |b| } ; {a|b| } ; {a|b|...  orchestration  \n3      { | |c} ; {a| | } ; { |b|c} ; { | |c} ; {a|b|...  orchestration  \n4      {a|b| } ; {a| |c} ; {a|b| } ; { |b|c} ; {a| |...  orchestration  \n...                                                 ...            ...  \n3036   { | | } ; { |b|c} ; { | | } ; { |b| } ; {a| |...  orchestration  \n3037   { | | } ; {a| |c} ; { |b| } ; {a| |c} ; {a|b|...  orchestration  \n3038   {a| |c} ; { |b|c} ; { |b|c} ; { | |c} ; { | |...  orchestration  \n3039   { | |c} ; {a|b| } ; {a| |c} ; {a| | } ; {a| |...  orchestration  \n3040   {a| |c} ; { | |c} ; {a| | } ; { |b|c} ; { | |...  orchestration  \n\n[3041 rows x 9 columns]",
      "text/html": "<div>\n<style scoped>\n    .dataframe tbody tr th:only-of-type {\n        vertical-align: middle;\n    }\n\n    .dataframe tbody tr th {\n        vertical-align: top;\n    }\n\n    .dataframe thead th {\n        text-align: right;\n    }\n</style>\n<table border=\"1\" class=\"dataframe\">\n  <thead>\n    <tr style=\"text-align: right;\">\n      <th></th>\n      <th>formula_id</th>\n      <th>x</th>\n      <th>trace_len</th>\n      <th>num_mess</th>\n      <th>size_mess</th>\n      <th>nb_progressions</th>\n      <th>formula</th>\n      <th>trace</th>\n      <th>strategy</th>\n    </tr>\n  </thead>\n  <tbody>\n    <tr>\n      <th>0</th>\n      <td>0</td>\n      <td>1</td>\n      <td>2</td>\n      <td>3</td>\n      <td>1.0</td>\n      <td>3</td>\n      <td>Next (Var \"b\")</td>\n      <td>{a| |c} ; {a| |c} ; {a| | } ; { | | } ; {a| |...</td>\n      <td>orchestration</td>\n    </tr>\n    <tr>\n      <th>1</th>\n      <td>1</td>\n      <td>1</td>\n      <td>2</td>\n      <td>3</td>\n      <td>1.0</td>\n      <td>3</td>\n      <td>Next (Var \"c\")</td>\n      <td>{ | |c} ; { |b| } ; { |b|c} ; {a| |c} ; { | |...</td>\n      <td>orchestration</td>\n    </tr>\n    <tr>\n      <th>2</th>\n      <td>2</td>\n      <td>1</td>\n      <td>2</td>\n      <td>3</td>\n      <td>1.0</td>\n      <td>3</td>\n      <td>Next (Var \"a\")</td>\n      <td>{a|b|c} ; {a| |c} ; { |b| } ; {a|b| } ; {a|b|...</td>\n      <td>orchestration</td>\n    </tr>\n    <tr>\n      <th>3</th>\n      <td>3</td>\n      <td>1</td>\n      <td>2</td>\n      <td>3</td>\n      <td>1.0</td>\n      <td>3</td>\n      <td>Next (Var \"c\")</td>\n      <td>{ | |c} ; {a| | } ; { |b|c} ; { | |c} ; {a|b|...</td>\n      <td>orchestration</td>\n    </tr>\n    <tr>\n      <th>4</th>\n      <td>4</td>\n      <td>1</td>\n      <td>2</td>\n      <td>3</td>\n      <td>1.0</td>\n      <td>4</td>\n      <td>Glob (Var \"b\")</td>\n      <td>{a|b| } ; {a| |c} ; {a|b| } ; { |b|c} ; {a| |...</td>\n      <td>orchestration</td>\n    </tr>\n    <tr>\n      <th>...</th>\n      <td>...</td>\n      <td>...</td>\n      <td>...</td>\n      <td>...</td>\n      <td>...</td>\n      <td>...</td>\n      <td>...</td>\n      <td>...</td>\n      <td>...</td>\n    </tr>\n    <tr>\n      <th>3036</th>\n      <td>3036</td>\n      <td>5</td>\n      <td>20</td>\n      <td>57</td>\n      <td>1.0</td>\n      <td>962</td>\n      <td>Until (Or (Ev (Next (And (Var \"a\", Var \"c\")))...</td>\n      <td>{ | | } ; { |b|c} ; { | | } ; { |b| } ; {a| |...</td>\n      <td>orchestration</td>\n    </tr>\n    <tr>\n      <th>3037</th>\n      <td>3037</td>\n      <td>5</td>\n      <td>17</td>\n      <td>48</td>\n      <td>1.0</td>\n      <td>999</td>\n      <td>Until (Or (Var \"c\", Next (Until (Var \"b\", Var...</td>\n      <td>{ | | } ; {a| |c} ; { |b| } ; {a| |c} ; {a|b|...</td>\n      <td>orchestration</td>\n    </tr>\n    <tr>\n      <th>3038</th>\n      <td>3038</td>\n      <td>5</td>\n      <td>21</td>\n      <td>60</td>\n      <td>1.0</td>\n      <td>120</td>\n      <td>Next (Next (Or (Glob (Var \"a\"), Ev (And (Var ...</td>\n      <td>{a| |c} ; { |b|c} ; { |b|c} ; { | |c} ; { | |...</td>\n      <td>orchestration</td>\n    </tr>\n    <tr>\n      <th>3039</th>\n      <td>3039</td>\n      <td>5</td>\n      <td>23</td>\n      <td>66</td>\n      <td>1.0</td>\n      <td>240</td>\n      <td>Next (Glob (Until (Until (Var \"b\", Var \"a\"), ...</td>\n      <td>{ | |c} ; {a|b| } ; {a| |c} ; {a| | } ; {a| |...</td>\n      <td>orchestration</td>\n    </tr>\n    <tr>\n      <th>3040</th>\n      <td>3040</td>\n      <td>5</td>\n      <td>39</td>\n      <td>114</td>\n      <td>1.0</td>\n      <td>759</td>\n      <td>Ev (And (And (And (Var \"c\", Var \"a\"), Next (V...</td>\n      <td>{a| |c} ; { | |c} ; {a| | } ; { |b|c} ; { | |...</td>\n      <td>orchestration</td>\n    </tr>\n  </tbody>\n</table>\n<p>3041 rows × 9 columns</p>\n</div>"
     },
     "execution_count": 48,
     "metadata": {},
     "output_type": "execute_result"
    }
   ],
   "source": [
    "strategies_df = []\n",
    "for key, name in strategies.items():\n",
    "    others = {x: strategies[x] for x in strategies if x != key}\n",
    "    other_keys = list(others.keys())\n",
    "    local = rename(df, fr\"^{key}_(.*)\", r\"\\1\")\n",
    "    local = exclude_annotate(local, exclude=other_keys, annotate=name)\n",
    "    strategies_df.append(local)\n",
    "\n",
    "(cent, decent, odecent) = strategies_df\n",
    "cent"
   ]
  },
  {
   "cell_type": "code",
   "execution_count": 49,
   "metadata": {
    "pycharm": {
     "name": "#%%\n"
    }
   },
   "outputs": [
    {
     "data": {
      "text/plain": "      formula_id  x  trace_len  num_mess  size_mess  nb_progressions  \\\n0              0  1          2         3       1.00                3   \n1              1  1          2         3       1.00                3   \n2              2  1          2         3       1.00                3   \n3              3  1          2         3       1.00                3   \n4              4  1          2         3       1.00                4   \n...          ... ..        ...       ...        ...              ...   \n9118        3036  5         21        79      10.76             1153   \n9119        3037  5         18        51       7.88             1041   \n9120        3038  5         22        21       2.76              143   \n9121        3039  5         25        48       5.66              310   \n9122        3040  5         39       114       9.18             1442   \n\n                                                formula  \\\n0                                       Next (Var \"b\")    \n1                                       Next (Var \"c\")    \n2                                       Next (Var \"a\")    \n3                                       Next (Var \"c\")    \n4                                       Glob (Var \"b\")    \n...                                                 ...   \n9118   Until (Or (Ev (Next (And (Var \"a\", Var \"c\")))...   \n9119   Until (Or (Var \"c\", Next (Until (Var \"b\", Var...   \n9120   Next (Next (Or (Glob (Var \"a\"), Ev (And (Var ...   \n9121   Next (Glob (Until (Until (Var \"b\", Var \"a\"), ...   \n9122   Ev (And (And (And (Var \"c\", Var \"a\"), Next (V...   \n\n                                                  trace       strategy  \n0      {a| |c} ; {a| |c} ; {a| | } ; { | | } ; {a| |...  orchestration  \n1      { | |c} ; { |b| } ; { |b|c} ; {a| |c} ; { | |...  orchestration  \n2      {a|b|c} ; {a| |c} ; { |b| } ; {a|b| } ; {a|b|...  orchestration  \n3      { | |c} ; {a| | } ; { |b|c} ; { | |c} ; {a|b|...  orchestration  \n4      {a|b| } ; {a| |c} ; {a|b| } ; { |b|c} ; {a| |...  orchestration  \n...                                                 ...            ...  \n9118   { | | } ; { |b|c} ; { | | } ; { |b| } ; {a| |...   choreography  \n9119   { | | } ; {a| |c} ; { |b| } ; {a| |c} ; {a|b|...   choreography  \n9120   {a| |c} ; { |b|c} ; { |b|c} ; { | |c} ; { | |...   choreography  \n9121   { | |c} ; {a|b| } ; {a| |c} ; {a| | } ; {a| |...   choreography  \n9122   {a| |c} ; { | |c} ; {a| | } ; { |b|c} ; { | |...   choreography  \n\n[9123 rows x 9 columns]",
      "text/html": "<div>\n<style scoped>\n    .dataframe tbody tr th:only-of-type {\n        vertical-align: middle;\n    }\n\n    .dataframe tbody tr th {\n        vertical-align: top;\n    }\n\n    .dataframe thead th {\n        text-align: right;\n    }\n</style>\n<table border=\"1\" class=\"dataframe\">\n  <thead>\n    <tr style=\"text-align: right;\">\n      <th></th>\n      <th>formula_id</th>\n      <th>x</th>\n      <th>trace_len</th>\n      <th>num_mess</th>\n      <th>size_mess</th>\n      <th>nb_progressions</th>\n      <th>formula</th>\n      <th>trace</th>\n      <th>strategy</th>\n    </tr>\n  </thead>\n  <tbody>\n    <tr>\n      <th>0</th>\n      <td>0</td>\n      <td>1</td>\n      <td>2</td>\n      <td>3</td>\n      <td>1.00</td>\n      <td>3</td>\n      <td>Next (Var \"b\")</td>\n      <td>{a| |c} ; {a| |c} ; {a| | } ; { | | } ; {a| |...</td>\n      <td>orchestration</td>\n    </tr>\n    <tr>\n      <th>1</th>\n      <td>1</td>\n      <td>1</td>\n      <td>2</td>\n      <td>3</td>\n      <td>1.00</td>\n      <td>3</td>\n      <td>Next (Var \"c\")</td>\n      <td>{ | |c} ; { |b| } ; { |b|c} ; {a| |c} ; { | |...</td>\n      <td>orchestration</td>\n    </tr>\n    <tr>\n      <th>2</th>\n      <td>2</td>\n      <td>1</td>\n      <td>2</td>\n      <td>3</td>\n      <td>1.00</td>\n      <td>3</td>\n      <td>Next (Var \"a\")</td>\n      <td>{a|b|c} ; {a| |c} ; { |b| } ; {a|b| } ; {a|b|...</td>\n      <td>orchestration</td>\n    </tr>\n    <tr>\n      <th>3</th>\n      <td>3</td>\n      <td>1</td>\n      <td>2</td>\n      <td>3</td>\n      <td>1.00</td>\n      <td>3</td>\n      <td>Next (Var \"c\")</td>\n      <td>{ | |c} ; {a| | } ; { |b|c} ; { | |c} ; {a|b|...</td>\n      <td>orchestration</td>\n    </tr>\n    <tr>\n      <th>4</th>\n      <td>4</td>\n      <td>1</td>\n      <td>2</td>\n      <td>3</td>\n      <td>1.00</td>\n      <td>4</td>\n      <td>Glob (Var \"b\")</td>\n      <td>{a|b| } ; {a| |c} ; {a|b| } ; { |b|c} ; {a| |...</td>\n      <td>orchestration</td>\n    </tr>\n    <tr>\n      <th>...</th>\n      <td>...</td>\n      <td>...</td>\n      <td>...</td>\n      <td>...</td>\n      <td>...</td>\n      <td>...</td>\n      <td>...</td>\n      <td>...</td>\n      <td>...</td>\n    </tr>\n    <tr>\n      <th>9118</th>\n      <td>3036</td>\n      <td>5</td>\n      <td>21</td>\n      <td>79</td>\n      <td>10.76</td>\n      <td>1153</td>\n      <td>Until (Or (Ev (Next (And (Var \"a\", Var \"c\")))...</td>\n      <td>{ | | } ; { |b|c} ; { | | } ; { |b| } ; {a| |...</td>\n      <td>choreography</td>\n    </tr>\n    <tr>\n      <th>9119</th>\n      <td>3037</td>\n      <td>5</td>\n      <td>18</td>\n      <td>51</td>\n      <td>7.88</td>\n      <td>1041</td>\n      <td>Until (Or (Var \"c\", Next (Until (Var \"b\", Var...</td>\n      <td>{ | | } ; {a| |c} ; { |b| } ; {a| |c} ; {a|b|...</td>\n      <td>choreography</td>\n    </tr>\n    <tr>\n      <th>9120</th>\n      <td>3038</td>\n      <td>5</td>\n      <td>22</td>\n      <td>21</td>\n      <td>2.76</td>\n      <td>143</td>\n      <td>Next (Next (Or (Glob (Var \"a\"), Ev (And (Var ...</td>\n      <td>{a| |c} ; { |b|c} ; { |b|c} ; { | |c} ; { | |...</td>\n      <td>choreography</td>\n    </tr>\n    <tr>\n      <th>9121</th>\n      <td>3039</td>\n      <td>5</td>\n      <td>25</td>\n      <td>48</td>\n      <td>5.66</td>\n      <td>310</td>\n      <td>Next (Glob (Until (Until (Var \"b\", Var \"a\"), ...</td>\n      <td>{ | |c} ; {a|b| } ; {a| |c} ; {a| | } ; {a| |...</td>\n      <td>choreography</td>\n    </tr>\n    <tr>\n      <th>9122</th>\n      <td>3040</td>\n      <td>5</td>\n      <td>39</td>\n      <td>114</td>\n      <td>9.18</td>\n      <td>1442</td>\n      <td>Ev (And (And (And (Var \"c\", Var \"a\"), Next (V...</td>\n      <td>{a| |c} ; { | |c} ; {a| | } ; { |b|c} ; { | |...</td>\n      <td>choreography</td>\n    </tr>\n  </tbody>\n</table>\n<p>9123 rows × 9 columns</p>\n</div>"
     },
     "execution_count": 49,
     "metadata": {},
     "output_type": "execute_result"
    }
   ],
   "source": [
    "sdf = pd.concat(strategies_df, ignore_index=True)\n",
    "sdf"
   ]
  },
  {
   "cell_type": "code",
   "execution_count": 50,
   "outputs": [
    {
     "data": {
      "text/plain": "Empty DataFrame\nColumns: [formula_id, x, trace_len, num_mess, size_mess, nb_progressions, strategy]\nIndex: []",
      "text/html": "<div>\n<style scoped>\n    .dataframe tbody tr th:only-of-type {\n        vertical-align: middle;\n    }\n\n    .dataframe tbody tr th {\n        vertical-align: top;\n    }\n\n    .dataframe thead th {\n        text-align: right;\n    }\n</style>\n<table border=\"1\" class=\"dataframe\">\n  <thead>\n    <tr style=\"text-align: right;\">\n      <th></th>\n      <th></th>\n      <th>formula_id</th>\n      <th>x</th>\n      <th>trace_len</th>\n      <th>num_mess</th>\n      <th>size_mess</th>\n      <th>nb_progressions</th>\n      <th>strategy</th>\n    </tr>\n    <tr>\n      <th>formula</th>\n      <th>trace</th>\n      <th></th>\n      <th></th>\n      <th></th>\n      <th></th>\n      <th></th>\n      <th></th>\n      <th></th>\n    </tr>\n  </thead>\n  <tbody>\n  </tbody>\n</table>\n</div>"
     },
     "execution_count": 50,
     "metadata": {},
     "output_type": "execute_result"
    }
   ],
   "source": [
    "#gsdf = sdf[sdf['nb_progressions'].isin(sdf.groupby(['formula', 'trace']).mean()['nb_progressions'].values)]\n",
    "#gsdf = sdf.loc[sdf.groupby('formula')['trace'].idxmin()]\n",
    "#gsdf = sdf.groupby(['formula', 'trace']).min()\n",
    "#gsdf#.apply(print)\n",
    "#gsdf.describe()\n",
    "#sdf['nb_progressions'].isin(sdf.groupby(['formula', 'trace']).min()['nb_progressions'].values)\n",
    "\n",
    "\n",
    "gsdf = sdf.set_index(['formula', 'trace'])\n",
    "#.std()['nb_progressions'].values)\n",
    "gsdf[gsdf['nb_progressions'].isin(gsdf.groupby((['formula', 'trace'])).mean()['nb_progressions'].values > 0)]"
   ],
   "metadata": {
    "collapsed": false,
    "pycharm": {
     "name": "#%%\n"
    }
   }
  },
  {
   "cell_type": "code",
   "execution_count": 51,
   "outputs": [
    {
     "data": {
      "text/plain": "      formula_id  x  trace_len  num_mess  size_mess  nb_progressions  \\\n0              0  1          2         3       1.00                3   \n1              1  1          2         3       1.00                3   \n2              2  1          2         3       1.00                3   \n3              3  1          2         3       1.00                3   \n4              4  1          2         3       1.00                4   \n...          ... ..        ...       ...        ...              ...   \n9118        3036  5         21        79      10.76             1153   \n9119        3037  5         18        51       7.88             1041   \n9120        3038  5         22        21       2.76              143   \n9121        3039  5         25        48       5.66              310   \n9122        3040  5         39       114       9.18             1442   \n\n                                                formula  \\\n0                                       Next (Var \"b\")    \n1                                       Next (Var \"c\")    \n2                                       Next (Var \"a\")    \n3                                       Next (Var \"c\")    \n4                                       Glob (Var \"b\")    \n...                                                 ...   \n9118   Until (Or (Ev (Next (And (Var \"a\", Var \"c\")))...   \n9119   Until (Or (Var \"c\", Next (Until (Var \"b\", Var...   \n9120   Next (Next (Or (Glob (Var \"a\"), Ev (And (Var ...   \n9121   Next (Glob (Until (Until (Var \"b\", Var \"a\"), ...   \n9122   Ev (And (And (And (Var \"c\", Var \"a\"), Next (V...   \n\n                                                  trace       strategy  \n0      {a| |c} ; {a| |c} ; {a| | } ; { | | } ; {a| |...  orchestration  \n1      { | |c} ; { |b| } ; { |b|c} ; {a| |c} ; { | |...  orchestration  \n2      {a|b|c} ; {a| |c} ; { |b| } ; {a|b| } ; {a|b|...  orchestration  \n3      { | |c} ; {a| | } ; { |b|c} ; { | |c} ; {a|b|...  orchestration  \n4      {a|b| } ; {a| |c} ; {a|b| } ; { |b|c} ; {a| |...  orchestration  \n...                                                 ...            ...  \n9118   { | | } ; { |b|c} ; { | | } ; { |b| } ; {a| |...   choreography  \n9119   { | | } ; {a| |c} ; { |b| } ; {a| |c} ; {a|b|...   choreography  \n9120   {a| |c} ; { |b|c} ; { |b|c} ; { | |c} ; { | |...   choreography  \n9121   { | |c} ; {a|b| } ; {a| |c} ; {a| | } ; {a| |...   choreography  \n9122   {a| |c} ; { | |c} ; {a| | } ; { |b|c} ; { | |...   choreography  \n\n[9123 rows x 9 columns]",
      "text/html": "<div>\n<style scoped>\n    .dataframe tbody tr th:only-of-type {\n        vertical-align: middle;\n    }\n\n    .dataframe tbody tr th {\n        vertical-align: top;\n    }\n\n    .dataframe thead th {\n        text-align: right;\n    }\n</style>\n<table border=\"1\" class=\"dataframe\">\n  <thead>\n    <tr style=\"text-align: right;\">\n      <th></th>\n      <th>formula_id</th>\n      <th>x</th>\n      <th>trace_len</th>\n      <th>num_mess</th>\n      <th>size_mess</th>\n      <th>nb_progressions</th>\n      <th>formula</th>\n      <th>trace</th>\n      <th>strategy</th>\n    </tr>\n  </thead>\n  <tbody>\n    <tr>\n      <th>0</th>\n      <td>0</td>\n      <td>1</td>\n      <td>2</td>\n      <td>3</td>\n      <td>1.00</td>\n      <td>3</td>\n      <td>Next (Var \"b\")</td>\n      <td>{a| |c} ; {a| |c} ; {a| | } ; { | | } ; {a| |...</td>\n      <td>orchestration</td>\n    </tr>\n    <tr>\n      <th>1</th>\n      <td>1</td>\n      <td>1</td>\n      <td>2</td>\n      <td>3</td>\n      <td>1.00</td>\n      <td>3</td>\n      <td>Next (Var \"c\")</td>\n      <td>{ | |c} ; { |b| } ; { |b|c} ; {a| |c} ; { | |...</td>\n      <td>orchestration</td>\n    </tr>\n    <tr>\n      <th>2</th>\n      <td>2</td>\n      <td>1</td>\n      <td>2</td>\n      <td>3</td>\n      <td>1.00</td>\n      <td>3</td>\n      <td>Next (Var \"a\")</td>\n      <td>{a|b|c} ; {a| |c} ; { |b| } ; {a|b| } ; {a|b|...</td>\n      <td>orchestration</td>\n    </tr>\n    <tr>\n      <th>3</th>\n      <td>3</td>\n      <td>1</td>\n      <td>2</td>\n      <td>3</td>\n      <td>1.00</td>\n      <td>3</td>\n      <td>Next (Var \"c\")</td>\n      <td>{ | |c} ; {a| | } ; { |b|c} ; { | |c} ; {a|b|...</td>\n      <td>orchestration</td>\n    </tr>\n    <tr>\n      <th>4</th>\n      <td>4</td>\n      <td>1</td>\n      <td>2</td>\n      <td>3</td>\n      <td>1.00</td>\n      <td>4</td>\n      <td>Glob (Var \"b\")</td>\n      <td>{a|b| } ; {a| |c} ; {a|b| } ; { |b|c} ; {a| |...</td>\n      <td>orchestration</td>\n    </tr>\n    <tr>\n      <th>...</th>\n      <td>...</td>\n      <td>...</td>\n      <td>...</td>\n      <td>...</td>\n      <td>...</td>\n      <td>...</td>\n      <td>...</td>\n      <td>...</td>\n      <td>...</td>\n    </tr>\n    <tr>\n      <th>9118</th>\n      <td>3036</td>\n      <td>5</td>\n      <td>21</td>\n      <td>79</td>\n      <td>10.76</td>\n      <td>1153</td>\n      <td>Until (Or (Ev (Next (And (Var \"a\", Var \"c\")))...</td>\n      <td>{ | | } ; { |b|c} ; { | | } ; { |b| } ; {a| |...</td>\n      <td>choreography</td>\n    </tr>\n    <tr>\n      <th>9119</th>\n      <td>3037</td>\n      <td>5</td>\n      <td>18</td>\n      <td>51</td>\n      <td>7.88</td>\n      <td>1041</td>\n      <td>Until (Or (Var \"c\", Next (Until (Var \"b\", Var...</td>\n      <td>{ | | } ; {a| |c} ; { |b| } ; {a| |c} ; {a|b|...</td>\n      <td>choreography</td>\n    </tr>\n    <tr>\n      <th>9120</th>\n      <td>3038</td>\n      <td>5</td>\n      <td>22</td>\n      <td>21</td>\n      <td>2.76</td>\n      <td>143</td>\n      <td>Next (Next (Or (Glob (Var \"a\"), Ev (And (Var ...</td>\n      <td>{a| |c} ; { |b|c} ; { |b|c} ; { | |c} ; { | |...</td>\n      <td>choreography</td>\n    </tr>\n    <tr>\n      <th>9121</th>\n      <td>3039</td>\n      <td>5</td>\n      <td>25</td>\n      <td>48</td>\n      <td>5.66</td>\n      <td>310</td>\n      <td>Next (Glob (Until (Until (Var \"b\", Var \"a\"), ...</td>\n      <td>{ | |c} ; {a|b| } ; {a| |c} ; {a| | } ; {a| |...</td>\n      <td>choreography</td>\n    </tr>\n    <tr>\n      <th>9122</th>\n      <td>3040</td>\n      <td>5</td>\n      <td>39</td>\n      <td>114</td>\n      <td>9.18</td>\n      <td>1442</td>\n      <td>Ev (And (And (And (Var \"c\", Var \"a\"), Next (V...</td>\n      <td>{a| |c} ; { | |c} ; {a| | } ; { |b|c} ; { | |...</td>\n      <td>choreography</td>\n    </tr>\n  </tbody>\n</table>\n<p>9123 rows × 9 columns</p>\n</div>"
     },
     "execution_count": 51,
     "metadata": {},
     "output_type": "execute_result"
    }
   ],
   "source": [
    "fff = sdf.groupby(['formula', 'trace'])\n",
    "# for key, item in fff.head(5):\n",
    "#     print(fff.get_group(key), \"\\n\\n\")\n",
    "fff.head(5)"
   ],
   "metadata": {
    "collapsed": false,
    "pycharm": {
     "name": "#%%\n"
    }
   }
  },
  {
   "cell_type": "code",
   "execution_count": 52,
   "metadata": {
    "pycharm": {
     "name": "#%%\n"
    }
   },
   "outputs": [],
   "source": [
    "metrics = [\n",
    "    \"trace_len\",\n",
    "    \"num_mess\",\n",
    "    \"size_mess\",\n",
    "    \"nb_progressions\"\n",
    "]"
   ]
  },
  {
   "cell_type": "code",
   "execution_count": 53,
   "metadata": {
    "pycharm": {
     "name": "#%%\n"
    }
   },
   "outputs": [
    {
     "data": {
      "text/plain": "formula_id             3040\nstrategy      orchestration\nvalue               47303.0\nmetric            trace_len\ndtype: object"
     },
     "execution_count": 53,
     "metadata": {},
     "output_type": "execute_result"
    }
   ],
   "source": [
    "metrics_data = []\n",
    "for metric in metrics:\n",
    "    metrics_data.append(select_metric(sdf, metric))\n",
    "\n",
    "merged_metrics = pd.concat(metrics_data)\n",
    "\n",
    "(trace_length, num_mess, size_mess, nb_progressions) = merged_metrics\n",
    "\n",
    "merged_metrics.max()"
   ]
  },
  {
   "cell_type": "code",
   "execution_count": 54,
   "outputs": [
    {
     "ename": "NameError",
     "evalue": "name 'flatten_once1' is not defined",
     "output_type": "error",
     "traceback": [
      "\u001B[0;31m---------------------------------------------------------------------------\u001B[0m",
      "\u001B[0;31mNameError\u001B[0m                                 Traceback (most recent call last)",
      "Cell \u001B[0;32mIn [54], line 4\u001B[0m\n\u001B[1;32m      1\u001B[0m map_ops \u001B[38;5;241m=\u001B[39m \u001B[38;5;28;01mlambda\u001B[39;00m x: flatten_once1(count_all_ops(x[\u001B[38;5;124m'\u001B[39m\u001B[38;5;124mformula\u001B[39m\u001B[38;5;124m'\u001B[39m]))\n\u001B[1;32m      3\u001B[0m f_ops \u001B[38;5;241m=\u001B[39m sdf\u001B[38;5;241m.\u001B[39mcopy()\n\u001B[0;32m----> 4\u001B[0m f_ops[\u001B[38;5;124m'\u001B[39m\u001B[38;5;124mnewcolumn\u001B[39m\u001B[38;5;124m'\u001B[39m] \u001B[38;5;241m=\u001B[39m \u001B[43mf_ops\u001B[49m\u001B[38;5;241;43m.\u001B[39;49m\u001B[43mapply\u001B[49m\u001B[43m(\u001B[49m\u001B[43mmap_ops\u001B[49m\u001B[43m,\u001B[49m\u001B[43m \u001B[49m\u001B[43maxis\u001B[49m\u001B[38;5;241;43m=\u001B[39;49m\u001B[38;5;241;43m1\u001B[39;49m\u001B[43m)\u001B[49m\n\u001B[1;32m      5\u001B[0m ops \u001B[38;5;241m=\u001B[39m flatten_once1(all_operators)\n\u001B[1;32m      6\u001B[0m f_ops \u001B[38;5;241m=\u001B[39m pd\u001B[38;5;241m.\u001B[39mDataFrame(f_ops[\u001B[38;5;124m'\u001B[39m\u001B[38;5;124mnewcolumn\u001B[39m\u001B[38;5;124m'\u001B[39m]\u001B[38;5;241m.\u001B[39mto_list(), columns\u001B[38;5;241m=\u001B[39mops)\n",
      "File \u001B[0;32m~/Library/Caches/pypoetry/virtualenvs/distributed-monitor-QvRced_x-py3.10/lib/python3.10/site-packages/pandas/core/frame.py:8848\u001B[0m, in \u001B[0;36mDataFrame.apply\u001B[0;34m(self, func, axis, raw, result_type, args, **kwargs)\u001B[0m\n\u001B[1;32m   8837\u001B[0m \u001B[38;5;28;01mfrom\u001B[39;00m \u001B[38;5;21;01mpandas\u001B[39;00m\u001B[38;5;21;01m.\u001B[39;00m\u001B[38;5;21;01mcore\u001B[39;00m\u001B[38;5;21;01m.\u001B[39;00m\u001B[38;5;21;01mapply\u001B[39;00m \u001B[38;5;28;01mimport\u001B[39;00m frame_apply\n\u001B[1;32m   8839\u001B[0m op \u001B[38;5;241m=\u001B[39m frame_apply(\n\u001B[1;32m   8840\u001B[0m     \u001B[38;5;28mself\u001B[39m,\n\u001B[1;32m   8841\u001B[0m     func\u001B[38;5;241m=\u001B[39mfunc,\n\u001B[0;32m   (...)\u001B[0m\n\u001B[1;32m   8846\u001B[0m     kwargs\u001B[38;5;241m=\u001B[39mkwargs,\n\u001B[1;32m   8847\u001B[0m )\n\u001B[0;32m-> 8848\u001B[0m \u001B[38;5;28;01mreturn\u001B[39;00m \u001B[43mop\u001B[49m\u001B[38;5;241;43m.\u001B[39;49m\u001B[43mapply\u001B[49m\u001B[43m(\u001B[49m\u001B[43m)\u001B[49m\u001B[38;5;241m.\u001B[39m__finalize__(\u001B[38;5;28mself\u001B[39m, method\u001B[38;5;241m=\u001B[39m\u001B[38;5;124m\"\u001B[39m\u001B[38;5;124mapply\u001B[39m\u001B[38;5;124m\"\u001B[39m)\n",
      "File \u001B[0;32m~/Library/Caches/pypoetry/virtualenvs/distributed-monitor-QvRced_x-py3.10/lib/python3.10/site-packages/pandas/core/apply.py:733\u001B[0m, in \u001B[0;36mFrameApply.apply\u001B[0;34m(self)\u001B[0m\n\u001B[1;32m    730\u001B[0m \u001B[38;5;28;01melif\u001B[39;00m \u001B[38;5;28mself\u001B[39m\u001B[38;5;241m.\u001B[39mraw:\n\u001B[1;32m    731\u001B[0m     \u001B[38;5;28;01mreturn\u001B[39;00m \u001B[38;5;28mself\u001B[39m\u001B[38;5;241m.\u001B[39mapply_raw()\n\u001B[0;32m--> 733\u001B[0m \u001B[38;5;28;01mreturn\u001B[39;00m \u001B[38;5;28;43mself\u001B[39;49m\u001B[38;5;241;43m.\u001B[39;49m\u001B[43mapply_standard\u001B[49m\u001B[43m(\u001B[49m\u001B[43m)\u001B[49m\n",
      "File \u001B[0;32m~/Library/Caches/pypoetry/virtualenvs/distributed-monitor-QvRced_x-py3.10/lib/python3.10/site-packages/pandas/core/apply.py:857\u001B[0m, in \u001B[0;36mFrameApply.apply_standard\u001B[0;34m(self)\u001B[0m\n\u001B[1;32m    856\u001B[0m \u001B[38;5;28;01mdef\u001B[39;00m \u001B[38;5;21mapply_standard\u001B[39m(\u001B[38;5;28mself\u001B[39m):\n\u001B[0;32m--> 857\u001B[0m     results, res_index \u001B[38;5;241m=\u001B[39m \u001B[38;5;28;43mself\u001B[39;49m\u001B[38;5;241;43m.\u001B[39;49m\u001B[43mapply_series_generator\u001B[49m\u001B[43m(\u001B[49m\u001B[43m)\u001B[49m\n\u001B[1;32m    859\u001B[0m     \u001B[38;5;66;03m# wrap results\u001B[39;00m\n\u001B[1;32m    860\u001B[0m     \u001B[38;5;28;01mreturn\u001B[39;00m \u001B[38;5;28mself\u001B[39m\u001B[38;5;241m.\u001B[39mwrap_results(results, res_index)\n",
      "File \u001B[0;32m~/Library/Caches/pypoetry/virtualenvs/distributed-monitor-QvRced_x-py3.10/lib/python3.10/site-packages/pandas/core/apply.py:873\u001B[0m, in \u001B[0;36mFrameApply.apply_series_generator\u001B[0;34m(self)\u001B[0m\n\u001B[1;32m    870\u001B[0m \u001B[38;5;28;01mwith\u001B[39;00m option_context(\u001B[38;5;124m\"\u001B[39m\u001B[38;5;124mmode.chained_assignment\u001B[39m\u001B[38;5;124m\"\u001B[39m, \u001B[38;5;28;01mNone\u001B[39;00m):\n\u001B[1;32m    871\u001B[0m     \u001B[38;5;28;01mfor\u001B[39;00m i, v \u001B[38;5;129;01min\u001B[39;00m \u001B[38;5;28menumerate\u001B[39m(series_gen):\n\u001B[1;32m    872\u001B[0m         \u001B[38;5;66;03m# ignore SettingWithCopy here in case the user mutates\u001B[39;00m\n\u001B[0;32m--> 873\u001B[0m         results[i] \u001B[38;5;241m=\u001B[39m \u001B[38;5;28;43mself\u001B[39;49m\u001B[38;5;241;43m.\u001B[39;49m\u001B[43mf\u001B[49m\u001B[43m(\u001B[49m\u001B[43mv\u001B[49m\u001B[43m)\u001B[49m\n\u001B[1;32m    874\u001B[0m         \u001B[38;5;28;01mif\u001B[39;00m \u001B[38;5;28misinstance\u001B[39m(results[i], ABCSeries):\n\u001B[1;32m    875\u001B[0m             \u001B[38;5;66;03m# If we have a view on v, we need to make a copy because\u001B[39;00m\n\u001B[1;32m    876\u001B[0m             \u001B[38;5;66;03m#  series_generator will swap out the underlying data\u001B[39;00m\n\u001B[1;32m    877\u001B[0m             results[i] \u001B[38;5;241m=\u001B[39m results[i]\u001B[38;5;241m.\u001B[39mcopy(deep\u001B[38;5;241m=\u001B[39m\u001B[38;5;28;01mFalse\u001B[39;00m)\n",
      "Cell \u001B[0;32mIn [54], line 1\u001B[0m, in \u001B[0;36m<lambda>\u001B[0;34m(x)\u001B[0m\n\u001B[0;32m----> 1\u001B[0m map_ops \u001B[38;5;241m=\u001B[39m \u001B[38;5;28;01mlambda\u001B[39;00m x: \u001B[43mflatten_once1\u001B[49m(count_all_ops(x[\u001B[38;5;124m'\u001B[39m\u001B[38;5;124mformula\u001B[39m\u001B[38;5;124m'\u001B[39m]))\n\u001B[1;32m      3\u001B[0m f_ops \u001B[38;5;241m=\u001B[39m sdf\u001B[38;5;241m.\u001B[39mcopy()\n\u001B[1;32m      4\u001B[0m f_ops[\u001B[38;5;124m'\u001B[39m\u001B[38;5;124mnewcolumn\u001B[39m\u001B[38;5;124m'\u001B[39m] \u001B[38;5;241m=\u001B[39m f_ops\u001B[38;5;241m.\u001B[39mapply(map_ops, axis\u001B[38;5;241m=\u001B[39m\u001B[38;5;241m1\u001B[39m)\n",
      "\u001B[0;31mNameError\u001B[0m: name 'flatten_once1' is not defined"
     ]
    }
   ],
   "source": [
    "map_ops = lambda x: flatten_once(count_all_ops(x['formula']))\n",
    "\n",
    "f_ops = sdf.copy()\n",
    "f_ops['newcolumn'] = f_ops.apply(map_ops, axis=1)\n",
    "ops = flatten_once(all_operators)\n",
    "f_ops = pd.DataFrame(f_ops['newcolumn'].to_list(), columns=ops)\n",
    "\n",
    "f_ops"
   ],
   "metadata": {
    "collapsed": false,
    "pycharm": {
     "name": "#%%\n"
    }
   }
  },
  {
   "cell_type": "markdown",
   "source": [
    "Formula Duplication rate:"
   ],
   "metadata": {
    "collapsed": false,
    "pycharm": {
     "name": "#%% md\n"
    }
   }
  },
  {
   "cell_type": "code",
   "execution_count": null,
   "outputs": [],
   "source": [
    "(len(cent['formula'].values) - len(cent['formula'].value_counts())) / len(cent['formula'].values)"
   ],
   "metadata": {
    "collapsed": false,
    "pycharm": {
     "name": "#%%\n"
    }
   }
  },
  {
   "cell_type": "markdown",
   "source": [
    "Encoding Duplication rate:"
   ],
   "metadata": {
    "collapsed": false,
    "pycharm": {
     "name": "#%% md\n"
    }
   }
  },
  {
   "cell_type": "code",
   "execution_count": null,
   "outputs": [],
   "source": [
    "(len(f_ops) - len(f_ops.drop_duplicates())) / len(f_ops)"
   ],
   "metadata": {
    "collapsed": false,
    "pycharm": {
     "name": "#%%\n"
    }
   }
  },
  {
   "cell_type": "code",
   "execution_count": null,
   "outputs": [],
   "source": [
    "TRACE_LENGTH = 1001\n",
    "NODES = 3"
   ],
   "metadata": {
    "collapsed": false,
    "pycharm": {
     "name": "#%%\n"
    }
   }
  },
  {
   "cell_type": "code",
   "execution_count": null,
   "outputs": [],
   "source": [
    "map_trace = lambda x: flatten_once(extract_sampled_events(x['trace']))\n",
    "trace_label = lambda n: [f\"t_{x // NODES}_{x % NODES}\" for x in range(n)]\n",
    "\n",
    "t_events = sdf.copy()\n",
    "t_events['newcolumn'] = t_events.apply(map_trace, axis=1)\n",
    "ids = trace_label(TRACE_LENGTH * NODES)\n",
    "listed_values = t_events['newcolumn'].to_list()\n",
    "transformed_values = list(map(lambda ls: list(map(convert_event_to_int, ls)), listed_values))\n",
    "t_events = pd.DataFrame(transformed_values, columns=ids)\n",
    "\n",
    "\n",
    "t_events"
   ],
   "metadata": {
    "collapsed": false,
    "pycharm": {
     "name": "#%%\n"
    }
   }
  },
  {
   "cell_type": "code",
   "execution_count": null,
   "outputs": [],
   "source": [
    "expanded_df = f_ops.merge(t_events, left_index=True, right_index=True)\n",
    "expanded_df = sdf.merge(expanded_df, left_index=True, right_index=True)\n",
    "expanded_df"
   ],
   "metadata": {
    "collapsed": false,
    "pycharm": {
     "name": "#%%\n"
    }
   }
  },
  {
   "cell_type": "markdown",
   "source": [
    "## Plotting"
   ],
   "metadata": {
    "collapsed": false,
    "pycharm": {
     "name": "#%% md\n"
    }
   }
  },
  {
   "cell_type": "code",
   "execution_count": null,
   "outputs": [],
   "source": [
    "# Plotting\n",
    "to_plot = sdf.drop(['formula_id', 'x'], axis=1)\n",
    "plot_barplot(to_plot)"
   ],
   "metadata": {
    "collapsed": false,
    "pycharm": {
     "name": "#%%\n"
    }
   }
  },
  {
   "cell_type": "code",
   "execution_count": null,
   "outputs": [],
   "source": [
    "merged_metrics.max()"
   ],
   "metadata": {
    "collapsed": false,
    "pycharm": {
     "name": "#%%\n"
    }
   }
  },
  {
   "cell_type": "code",
   "execution_count": null,
   "outputs": [],
   "source": [
    "grid_plot = plot_grid_barplots(merged_metrics, grid_cell_field= 'metric',\n",
    "          y_axis = 'value', x_axis = 'strategy',\n",
    "          order = ['orchestration', 'migration', 'choreography'])\n",
    "\n",
    "grid_plot.savefig(\"output/out.png\")"
   ],
   "metadata": {
    "collapsed": false,
    "pycharm": {
     "name": "#%%\n"
    }
   }
  },
  {
   "cell_type": "code",
   "execution_count": null,
   "outputs": [],
   "source": [
    "ndf = merged_metrics.copy()\n",
    "ndf['strategy'] = ndf['strategy'].str.replace(\"^cent_\", \"1\", regex=True)\n",
    "ndf['strategy'] = ndf['strategy'].str.replace(\"^decent_\", \"2\", regex=True)\n",
    "ndf['strategy'] = ndf['strategy'].str.replace(\"^odecent_\", \"3\", regex=True)\n",
    "ndf"
   ],
   "metadata": {
    "collapsed": false,
    "pycharm": {
     "name": "#%%\n"
    }
   }
  },
  {
   "cell_type": "code",
   "execution_count": null,
   "outputs": [],
   "source": [
    "expanded_df.strategy = pd.Categorical(expanded_df.strategy)\n",
    "expanded_df['strategy_id'] = expanded_df.strategy.cat.codes\n",
    "expanded_df"
   ],
   "metadata": {
    "collapsed": false,
    "pycharm": {
     "name": "#%%\n"
    }
   }
  }
 ],
 "metadata": {
  "kernelspec": {
   "display_name": "Python 3 (ipykernel)",
   "language": "python",
   "name": "python3"
  },
  "language_info": {
   "codemirror_mode": {
    "name": "ipython",
    "version": 3
   },
   "file_extension": ".py",
   "mimetype": "text/x-python",
   "name": "python",
   "nbconvert_exporter": "python",
   "pygments_lexer": "ipython3",
   "version": "3.10.6"
  }
 },
 "nbformat": 4,
 "nbformat_minor": 1
}